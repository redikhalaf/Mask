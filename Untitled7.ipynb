{
  "nbformat": 4,
  "nbformat_minor": 0,
  "metadata": {
    "colab": {
      "name": "Untitled7.ipynb",
      "provenance": [],
      "collapsed_sections": []
    },
    "kernelspec": {
      "name": "python3",
      "display_name": "Python 3"
    },
    "language_info": {
      "name": "python"
    },
    "accelerator": "GPU",
    "widgets": {
      "application/vnd.jupyter.widget-state+json": {
        "4dc00cd7740c4475a05adebd942441ae": {
          "model_module": "@jupyter-widgets/controls",
          "model_name": "VBoxModel",
          "state": {
            "_view_name": "VBoxView",
            "_dom_classes": [],
            "_model_name": "VBoxModel",
            "_view_module": "@jupyter-widgets/controls",
            "_model_module_version": "1.5.0",
            "_view_count": null,
            "_view_module_version": "1.5.0",
            "box_style": "",
            "layout": "IPY_MODEL_ef16c91154ee4038af75714bbf9b6498",
            "_model_module": "@jupyter-widgets/controls",
            "children": [
              "IPY_MODEL_0b6e931beb114113991edd8f76fd4e66",
              "IPY_MODEL_6e443655f81b4842af98efc5f7883339",
              "IPY_MODEL_25548de5d5ae45dd9115f877e28c6c02",
              "IPY_MODEL_4631c40b4eda47068663e04ad9780807"
            ]
          }
        },
        "ef16c91154ee4038af75714bbf9b6498": {
          "model_module": "@jupyter-widgets/base",
          "model_name": "LayoutModel",
          "state": {
            "_view_name": "LayoutView",
            "grid_template_rows": null,
            "right": null,
            "justify_content": null,
            "_view_module": "@jupyter-widgets/base",
            "overflow": null,
            "_model_module_version": "1.2.0",
            "_view_count": null,
            "flex_flow": null,
            "width": null,
            "min_width": null,
            "border": null,
            "align_items": null,
            "bottom": null,
            "_model_module": "@jupyter-widgets/base",
            "top": null,
            "grid_column": null,
            "overflow_y": null,
            "overflow_x": null,
            "grid_auto_flow": null,
            "grid_area": null,
            "grid_template_columns": null,
            "flex": null,
            "_model_name": "LayoutModel",
            "justify_items": null,
            "grid_row": null,
            "max_height": null,
            "align_content": null,
            "visibility": null,
            "align_self": null,
            "height": null,
            "min_height": null,
            "padding": null,
            "grid_auto_rows": null,
            "grid_gap": null,
            "max_width": null,
            "order": null,
            "_view_module_version": "1.2.0",
            "grid_template_areas": null,
            "object_position": null,
            "object_fit": null,
            "grid_auto_columns": null,
            "margin": null,
            "display": null,
            "left": null
          }
        },
        "0b6e931beb114113991edd8f76fd4e66": {
          "model_module": "@jupyter-widgets/controls",
          "model_name": "LabelModel",
          "state": {
            "_view_name": "LabelView",
            "style": "IPY_MODEL_3948c3f4bbac4b279c3b8381c02b71ae",
            "_dom_classes": [],
            "description": "",
            "_model_name": "LabelModel",
            "placeholder": "​",
            "_view_module": "@jupyter-widgets/controls",
            "_model_module_version": "1.5.0",
            "value": "Select your Picture!",
            "_view_count": null,
            "_view_module_version": "1.5.0",
            "description_tooltip": null,
            "_model_module": "@jupyter-widgets/controls",
            "layout": "IPY_MODEL_eec19776b10e439391a9dada0978d75c"
          }
        },
        "6e443655f81b4842af98efc5f7883339": {
          "model_module": "@jupyter-widgets/controls",
          "model_name": "FileUploadModel",
          "state": {
            "_view_name": "FileUploadView",
            "_counter": 1,
            "style": "IPY_MODEL_36bfa77711ee46a89412aacae77e194f",
            "_dom_classes": [],
            "description": "Upload",
            "multiple": false,
            "_model_name": "FileUploadModel",
            "data": [
              null
            ],
            "button_style": "",
            "_view_module": "@jupyter-widgets/controls",
            "_model_module_version": "1.5.0",
            "accept": "",
            "_view_count": null,
            "disabled": false,
            "_view_module_version": "1.5.0",
            "error": "",
            "description_tooltip": null,
            "metadata": [
              {
                "name": "1b5366617a37466e80f1fb135adc160e (1).jpg",
                "type": "image/jpeg",
                "size": 262268,
                "lastModified": 1617967767561
              }
            ],
            "_model_module": "@jupyter-widgets/controls",
            "layout": "IPY_MODEL_f17a74edcbb443aa85511149056ec2e6",
            "icon": "upload"
          }
        },
        "25548de5d5ae45dd9115f877e28c6c02": {
          "model_module": "@jupyter-widgets/output",
          "model_name": "OutputModel",
          "state": {
            "_view_name": "OutputView",
            "msg_id": "",
            "_dom_classes": [],
            "_model_name": "OutputModel",
            "outputs": [
              {
                "output_type": "display_data",
                "metadata": {
                  "tags": []
                },
                "image/png": "iVBORw0KGgoAAAANSUhEUgAAAFkAAACACAIAAADvWFIfAAA6IElEQVR4nK29eZQm11UneO99S0R8W+5VlVn7otK+2paFZGODAQOWgfE5LN0MzAw0S89g6GkOMN3N6Z7p6T6eOcMw3adtaIwNtiVZ8iLLbiRZwkhos6TSZsvaSqVaVFJVZW25fltEvOXOHy8i8vsysxYJ3qklM76IF+/dd5ffXd778MSxtwAAABCRoWwY/kFABAYEYCw/YeDwOQICwvkbln0P9LD+jXyBGy6mVZ2EmXjgYkoIwOd5rmgU/mOE6ikofl4Z2lA/CBRodA5CMBa9MQAwICLghec5OIdVb8WLmMZgJ9UYQh88PP7zjEQCACDiuW5lBsShASGs5QcGABxa26rL802EV+gZnh18SfF50RGHfwZJdkH6hmVYWWRmOC9l5fDTRR8ECMzVpMNAy17WGQKWA0UIAnHu8Q3MhxEQkBA8AFb0XSFD2RMCAoZFQQRmXtXVBdrK6xCAz7M4cmXoJSEwzAmxUA0MDEEuLvBKPC8VhscGQEAFDVc6xkpU1/RUsQchVvyPxfCYz0uaai25mgUzrBFMOaQXhwWAh6l0nsbDhFg1rCGVFjhnTc8VRdaqOS4vrlJRVL06aDgKcsBriVLQbugiFn+ZGYNeAwkVP5afDj3B57MXjNUo1yfEysQChxOumtIgCYaGuebXC9wwwFoFBzEPsdzwpLiSxIFxyoFFGNaRMPDAuqQYsJeDN/DwRKn4e+5p/GM0XENWRORStQzq2iHdWak3ZASUjEBA1QIOMnOlIwYU59Ak1iqIVWw4yFJrTc/QUl+crlnVAoMP9o+DMkUYpGZwDFxOteCOAY0tCWld1bqW7VfIQQUHraZPOT/C81iu8uZ3N/s1nQz+Gvhgld4JL1ohfUm/NeghKCBcYQcsdMc5FcQqzboyaQakFXFZ9e863fEFyfWOG2Ix8gpS4PBIintgvbXCEl+sYNVzKYcVcVyfTHgOcLFaQWChvM89o39oKxhhzStWtB+WbDJscSQMqBYsocw600UARFojFwMrsMIUa+0fABARETEAMHvvGQCJgJlLaAsMzH7INq8RgX84KQc1fjDCFUVWcGcQkHJcQwqCSx24FjVUSnutmSwogoiIJESn015YmLfWNRqNsbGxPMtnZ0/EcdxoNNMs7XZ7iDg+Pt5sNIUgRHDOr5pz9ZIVgH9uoqwV88GbVzQIFjqUhzD4sIAME2IdVinQKa1+Z6W0CBEQvXfddvd733/hsUcfcZ4RodvtTm+ajpLk2X37RkdHb/nAB48de7vVajH7yckNG6Y2LC4t1Gr1PbsvmZmZVko7Z88153V15/mps2JoB64jgGfG2dnjpbIY7hhLF2Otgigt7orgrfdi7/38/PzDD//dt++///U33shyo3UUaYWIvX7fexaEzVZLa83eX3Pt1QcPHjp75oxzHgi11KOjYzfffNOtH7t1z55LarXEGHPxonH+O6tPB4nimfHkiePrEKJqdC7VsZpXVsl5lmXPPrvvzju//PS+Z4yxUuko0ux9P80I0TrvmbUQHgGA4zhiz71+ighCCAAwxlrriHDj5OS1117z4z/+0Y9+9CfiOHHODcziXdKiume1OJ+cPb5W+w96KDjoSpdwfS2FqmtE1G63v3nP3V/44hdPnDzFjEIIpSV7dtYFxeML3QTOOSJCQmZmD0ggiADAe09E1noA1kpqpT704Q/9u3/770ZHx5xzzFygRebz0+WC6raiSKEv1mdyKEi0OpAzbMBhGO1KIebn5z//ub+4++5vLHV6SDJPs2AowvQEkbWOBDnngIEwzJyB2TkvgDyyd957VipgH2IGKeUDDz44PT3z+//yXxIJ7/3AAlR61K8ziwF1uy45Kj8eg596kW3F9J7jlUS0uLjw6U//p/vv/3Yvy70HAEdEGMIPDEE6mJm9d44RgaiypsDM3jMREJG1htlTKaHG2iiKb7/9dkH4u7/7e1KqihwDY6ABzbje+NdnEKzEgFaxRRUdWyU3OKx8sWScQcJnefaFv/78vffe5z1a65BWHmFEQPAM1loico6r2Iz3BZtWSycESSmc8wHukKCCTgB33PHlz372vwLwOfQbYvHWd9y4indWhIAwKlhDCESkAaNSoauyEdFDf/e3X//q15wDZvDOKyEIiRmEoEKO2EsppBRCSiIMIgNQRKsCFyCiQFRSIlKlSqTStaTGwIh0++133HXXXUHFrtvOTw7E1equsgNDj2EV98EVPYEAQFjhtJUeBn4jooWF+Ttuv32523fe97M+CYGISECIQggEJCQE0Ep5D4AFgQKNEJEABQkpZdAOACiEIBK1JEEk63ytXoujODc5kbz9jtu/970XpBwOUP4DWgEIq99X/C5c8T5wAFMOwupVDCqlvPfe//bqa68LIY214JGIiISSiogQgAQpJas4S+AwrSJBAhGFEDqKlJKR1oIojpMAQ5RU9aRWS2ppmlrrJscnrHPW2fZy+8EHHzw/sBoc77q8sFbKVrHTSsBibd+DHQ11IcSZ06fvueceBgRkQhRSSCGUklppKUgrFWmdRFoRIGIcRVIqKVWklWemIBGERBRFWiutlGo0m4AoBAHgxPhYq9lMs0wIUkqnaUaCnnv+2TePHjmXpGDZzmEkzzERKPXlunEXXOPdriWnFOLBB7/99tvH67V6HCf1Wk0rKQIJYq0EJrWk2WzWIzXZrAmiRqNRS5J6EidJLfTg2dncIKJxjhGQMIqiSClAajQbxtjRkZYSEgCllN4zAp05ffYbd399JSZ+Tu858D6WavV8pCEovTLA4WAErxje83RARPPzcw888EBSq4+MjDQbTalUsxaPJDF5r6XY3KrNNJNmoznZqL1va2tzM4qkbDYaURwpJRFAK0lISslIKwLo93tRFGmlpBR5ni8tL/d6vTy3cRJLKZRUURQhotbR39x7375n9mmtC+W3HtuvR5p1FGdosgyWD8VsA4igymcdgFWrepdS/uAHLx47dqKWJM4ZY51ie8VEa65nxmLoGHrP5ikjk2eP9Sca8c1XjF2+uf/E/rlTBlkQMLdaTed8CK+0ms08z/v9frfXbzUaAV+m/TTSOjdZKxkBACRs1Zo6UtbYdrtz++13XH/d9VrrQQa5EACv5rS6hbzZak8UyyDV4NPrUp2ZX331NUYwxvT7XczzD+wc+6FLx46fTa/Zu2H2TPt9127vZDbrvJ47v3fv9g3T01dedeLvvvvaK2/PG+Rl1WBEIaT3LkmSKIranXav26MSnseRdt5FUltrnLMhhBJpba1DhP2v73/9wP7rrr3eWnve+Q8TA4eCamUojGX56WqnY5g464V5EQHAOXvw4EFrjDEGnL1lx8jP3bxj996tznOtFt2goqiW9Du9W28xp+d609t3tTZsvm7TtsmJ8f2vvNHNzTeeOjRnVVSr5XlujEHEqcnJfpr2ez3nnZYyinSv3/feNxv1ufmFOIqEoDTLjDXWuTzNjh49et11168d2Hm5owp9DUY0sMTgA9nQkJta2/vaK0S0tLR48uSssSbrp9dPNz/xwd2XX7kjqjeRhBBCSuEB4mbrqpveg7Ihk1EgIaTYeunlG7du67YXm63m3z576KUzS7lzxpgoisbHx2u12hyAY7bG1euNLM/z3Cwvt4WgNE3HR8e6/W6a9p1zzrvDhw55t44n8i6aXHHAyvmu56avQ4jwQ6fT6XY6aWZ2jCUfv3Hbzp2bdK1OUgmhSEpmRiAZSVI1oZsc0Kd3iKhrTRXHN75fTEyOvv6Fh88u9yVhv9/3nhuN+kirFUfx0vKylDKKNIFYXFxQSgmpFpeXrTXOOgAgxFdeeWVu7uzExOQqD+XiooFD6mUFXyAXf4a8vws19t45L7z7yJUbr7xkU1xLiAQJhUJxCAQJQiIEYue8y9jlyAxIJCVKmTSaM9MTV26sQ54S+zzLFxbmTp8+45yr1+uTkxO5MUpp610cJ8vtNjAToXWWmZVUzDA3N3f8+DGi9XH3ANBY/8PBia7TBZd/LqZJKRFg+3hy3SXT9UZdCAFEQIIBwTsARJQkYhISERAFIDFJEBEgkdBCJyMTE7966/tu3DVF7FqxigRl/e7i4uLy0pIUottp93u9LM0YWArR7/XiOCISUshWsymVbLfbc3NzFxznucztIN+sQPpBZ3xIlZ4vMA1SSi3ldXs3T06NqSQGUoiSSJX5KgkgGCVTwhSBUIgSmIEAXA62D2yIxKVX7/3EXPv1Lzy8cayeMrWNX+rn3W6vn6adTtszEBHkTFJmuVlaWmIGIYTWWinZ7XYXFxf/UbItA+5N6ZWf33wMNyYhR1v1nZub1nrP6JnYlzUSJAGFcw5cD5Q03vUzlxvrPNRarVarLkTuTeqyDkr5nmt2/c8/u1yryTdPdr57aMkudE6fPWOsdc4656UUBXBE6HQ6OopqSZLnBhGdtWmavuv6pkG1UtKigp4DTvm6j61qRJjE0QsHji8vLF27d9P01OjoBJEQQkVAyjmf9ToLZxfnFtO3ZudPnl5Cko1Grd5IRlrN7dumpsYjcMYh12r6Jz9ytXVm4xsnXntr/qg1UqoQ7/XM1loAEhII0Xswea4jbY1rtzveG2MsITlw75IepRjI6tfKlA46IxfoA9EYY4w9fbp99GT71WPL7981cvN79ygpSUSgyPR7h147tP/grHFAirZOj01umNiweYdSjVMn3n7l+6/PbKzv2DEplVWCvLNg7czG5iUbk30HT2kpvfOOPbJnZgYPDthTCKN02x1G9M4y+yRJLjhUODckrS7KVVcHkUUVOD1X14jknJ+ZbPzcFZd3M3vg6JnjZxaPvHlipBkLFQmSzjvr/IaNo5MTIxPjrdHxMR0llEzK5qaZzRv2XrJl6exJEOjZ5cYAeySs1WuX7ZxSTx5pW6O0Et7nnAOQZ2YPTMyepZD9NCUEpZSUSil9nqlekBwBhiLiSj61KiyBizOozOy9j5Panq2b9m7ojYw03nfZppMnT6dpvnD2bFQfETqWBNu3T0klib1SkdaaZE3GI1JJZ7kWy2h60gN7m/c7cwqFQDJ5OjOebJuo/WB2WRBEWhGicw5JZHnunBOEzjr2HhF1FJEUUaQvYrznJxFCxRfBNwMakpELduC9bzSbO3fv6Z/cV4v15PSmyemtJ988sDy/mG/sJKPjiImR8y7t9dNsvtc3lmrj2+JGpxaL+miDOAf0QijQESKA6RE77/34WOOKreMvzy4bY5QUSRK3O132DoHZ+9x5QV5rhQDWGiVlvV6/aAxwvlbyxRoHBM5rTatrWsqRjdu+c9/XG8np1sjJ9930/pENW8+eXrTOR61NJu+Z428unDj1xtH5MyY+k8LbJw+M19Ulo/Lq3dPbL9kWt5qiPiJ0rJO6Rwa20vk4ynZPj8RS9Iyz1khB3jvvvPN+qhGPNeKlND/byWOtQhozinRg/HctJqGVta4DhHhHFEaAXs5vLKuRm3/u3h/M/dGffPmNt+YbzZaqj4vmjKrPRCMzS4uduY7e88M/fdPP/2rH8psnlxfy+Nhs++ypvsURSqZIJIK00FFA7lLpnZtGxuuRB7AOcmOt9db5j1yx7bZ//ct3/x//9M7/7ed+9sY9jiE3hgS1WiPM58sGXFzjAazFQ9yxBlatr0c9w2RD3XLp9DaR/uT7L397//7l+aWtu8dGJmYwW2IHenR6dMPGG1qkFt6IaOF//aWfrNVHWzFK4WW9FY+Oy4jQZr4IQBGiICFGGslEI35rMXWeGShOGjfunPjnH72iN3v4yCwlzvzuT1zxxsn2K0dnd+7YsXHjpncSvzjXPQO682L1RPlk8Zy31Jm9bKbu3/reLkVX/vANTsCJdo4LvQ1wphZHtVo8vWN72s6QpNZ2etuoqE+qZkvpCMEiOAQPSA6F8+QJJbFDAOZmLY7jONKaAXbX8Beum7GWd9/0wfENW7pvvcKLp67fOfWDw8f27Nk9OTnpnLsYs3r+toIvqr5WZ03WURbFr0KKtw69/tjjT7x97NTbZ9pLfdszr/YzkxlXrz21cbw1Uo+iSLHJsr5BIUkIIPQeSWmloyRWY41ktBmPNvR4QyfCa3Qm67925NQjL751YC5N4oi9n5TmZ66a2rp96pJbPtbcuNlnC2i7BKwIiMQtH7hFCFHmnC+2rcsaq1MMVaJ1cPZrBIQBAJG63fan/uRPn33u+4jE3pf1WgyAfeNOzXe4CJlisOFBqqvMAOJAxNl7RNBKeu9zBwwoCLwzJu3v2FrfMhadPnGytX9fFL2XXZouLNSazTdOzG/duuXmm295p4Q4FzlkmNpA1Wpx3wX7EkLMnph97bXXEQCRpZYUaqEQ2DMhhjxYCCtU8fRQRVd6AeWAmFkQAKTGAYImnq7R5qZ+e9EcN0JJNblxbObKmzh3y2+9nIxtiFtjh86mL7156hO/9E9mpjcbY94FLdY2ORjzHzQlFyQGEZ05czrLMkGCqAwxM3sGREQiDI4qEiJ4ZizSiBA4ImTYw2sEiRDLzI3JjNkzqf+nD+5qtOpPv3rqqVdPpJaNE6PjE3rj5Z1Dz7hej1Xjzkeed0J//Naf+UehQpi0rHKow9eruq3qwioxQWY+dOiQNVbpiFbKfxgBSVBYf0IEBOc9eGBiACBC7yEEvhHAeVeGYbB6Rdf6jdPjtVrtqh1mNIJWXSPVo7GtanRDbXKr75x69sjbf/P0q9fe8J4rrrjyHUV9z9uw0hcrrHBxJoUBOIqiEBz0Ra1+EDd2zoVi21BggEhBRxCRZwYEQuLg2SMCg3XWGuvYGWORaKnvFrtZq1nfvKm1fabp29nUnutAJm5uFtP20lLvtr99pmfsxz72sSiK8jwfGtY/AGUM1PG9A0KEt8Ke3buVFtbaInIcxMSD5yIVh4RYygKFyngAgei9996HShxGcN579kVWmaFv+NR8b/vGMSVJK+jOiYbO89OvA0PW6Xz70ecff/nIzTfd9BM/8dF3VMR1wbaCO/mdEAIAnHO7du3etmWLtcZ5y8zsGUJ+lEhJJZUkIi60A3pm4521NsvzfpZaZ51n62ye59YYkxtrbQhnZsadWug4azpLS7Vm65qf+SmKxNLbB9OFk6+98eaX/v7FqamNv/M7vzMyMrq2IuUi21qcuoIkylj4Odtay+K9H5+Y/OAHPuCdQ0Bm9kWggYNxLaqzEa2zWZ5neRaSINY5APRcJCm99857RFBSaq2JBAOeXup3uj0h9eTOyxaXF6wUjcmJl44v//s7H3nr7NIv/eIvvPd9N747UwrnkiPmAT/1Qs+vJQez//CP/MidX/maMa5KvQTuZ2bnXNDLDD6YTwz1JWXMuhATACLSSkspEJDBAeJcJ52bW9xz6W72mUm501766289+dXHXrEer7ryiv/uE59g/48mGqEhlvgCzlGIdd7G1trt27dv27r5jUNHiETFeM579r6AVSFSAoCAFNBVWQPNnj17IpJCCEGIBOyBAYF7mTvw9vIbx79/+ZnOwWOL9z/zxgsHZ6NYT46O/Po/+/VNm2YuiCkqrlz3+nr3D+RT3wWc996PjIxeeuneNw4dBlhJ1CMAkQg/cahaIwRA5z0igmfrHHtmYAqxUaUA0DtnvStSyrntpvnpdvqlJx9e6JvMmiRS9ST6zd/4jR/90R+7oB1dqWa9KM1awMDhGqX1ujvPldBuuflmIajYzRYC4EhEKKQQJCQJKYRUSmslhQg3KKVqtVqzXm/U6lprCDrF5M4VtADnSNPL877VqEviWItaEv/mb/zmL//K/4Aozj/Dd25ZCjBOMAw3z/fEOfLsW7dtT+LYl0Cr6om9D3WJSklCQsRIay0VEUVaKyVDYBsArDHGGgIAZiEkIQiCh/cvgDVbRhUiSCF+7dd+7Z/91j8HQA4a+txtcHQXR4vB2G85iXelPlkpFcdRr5cWO/oAXaksiAi5KEcEAEGklBReIoB3PsAtZ611DgAcMDMjeAI+tpRPJuKymfqyVd67Pbt3/8Iv/FLYVHExdp+LeuCL8uOH4uBhCsGxOr9BWUsO7/3ExMT42Pjc3CIU/FB5ouC9d84REglCxMD/hBT2QzBwMKhhE4djRgTvvHV+pqF/aOcIaW3bcPWVV/z6b/zWxOSUtUFfrvYGBgcIRVqw8gQLl3r96cDQfpiheOe7MFPe+7Gx8R3btx84eDjoxeCUeWYfipI5ZDh8wKbMLIgkCST0zH5lpyAHlza3dveY/OlrpqY3jpw4051S9Z//p5+88aZbsixbibAMCwIiDlf+r5lzWTY+2ENRgzHwyECefY2YXKQSQsSrr74KQm1v8MERSJCUUikVyhqprHYhIgD0wAwFV4D3wN4767y1zs4k8LPXTl1/zbbR0VqsSUtq1uvOeSjBYqUUho3F+dPhK3cOPr5O/AJLAbmYtlZMGOCKK66Mtc6MAww0ARIi+COB/2HFE2PPwN7nxjhrIeiY4M4B7G6Kj109ect7dzVGG9mpOYWANmsvzq+d5SpyVIGZVWUXFxn4W7EjgR8GqcTvpCNr7e49ey65ZLdzBqA4riAA5AJrChIkZCiJhlCy4azJvTPMzrGzzknE68blz79300c+fM3GrTOEIMAniST2Wa9dQtnShFRssAZHrFrtc9iX1a0oM4IqUcQDVLgQFYeYzftWa+RX/vtfjkI9XXndB1zJ7L333jnvTajrMrkxGbAHAM/AgBMR3bJJfuJ9Mx/60LUbt28VRGxtHGkthPB+af6sC3A9qNs1olKED9eMcN1hr/21urhyFgggAPMqfXGR2tQY8yM/+mMfv/Wn8zyvHgokAADnvTE2y7LgknpvmZ1j9kCRwL0N/NHN+uM3bf+hD90wsXWbIMHeK62lIHYeve0tzUFQNEUIqFC6ZcYZGGCVOqnGf56FHLyHq5qDaicery04WBPgWts1ADAwgfyt3/rtAwfeeP6FF7XWjEhEBUM45713xnJ4GXhEIQg3RHxJk67YVHvvtTv2Xn9FY3yKGTwDSUWIzlpvnULOFs8uLS5prYQQgSJaKecdM4dTYCrdUA2+4u5BJXLBhqdOzVa/UGFmzpdMPE9TSr391tF//W/++PsvvqR1yPeiddZZh8BIwgODZ0RsSN5Rh0vG1BXbx6+9bvfmvZfEI+OI5L1zeWq7i+nywsKZudnZxTOL+RkTP7MQUVQbG21ppZN6cvlll996663rTGbNmN/RRIZrDtb0WFwvTcD5+zLGbNu+4z/+h//zD//oD1959XWtIg9eCCGIrDXBJY0VbIp5Z4v2Treu2juz57Id41u2qNooCgXAnKfArqguFVSv6V5qLbrF2aNHF1MlhSTSWj353e/OTM/cdNP78zwPdSOD4x8YdHE8QbXA57cvNHxcz6pzIYY+gnNI4OA4sizfun3H//WpT33wlps9W2OMC8VLJKWgqYivG8MbZ+Ifvmbmwz981TU3XT+5c69uTAodk5AFaJYSEAExjlSiZS2iiRpcPV1P+5nNLTP006zT6dx515dPnzlT7BPwHJTw4LgL4Akr2mFdBDL4aSEjlbNdHVFwLgY4Z0SgAvIAQso0TR/6u7+9/bbbDx46kmZ5qxZta8CWGm4Zi6+6bHrPZbsmN29NRsaQJIXCQgZm5521edd026a3ZHvt5bmlpcWuAzy55D7z92+eyUCSFIKEIKnkR370I//i934v0pHzfqAgYGDsCFAlideIzFpVsLqOz19I2XCZ6Qi3+cr0lDRnAGutkPLWj//szbd84NVXXj1y6PWXH/4bs3Bqeiy65vLpS6/YM7Jpc1RvEYkiywbogQs8yoRCyighdHGWO+sBYS5NhZSY2cAI3nkL9pFH/n5mZvpXf+VXcTDoyTC0/NWejxLsV+Xda2PdNHhmyODtJY+tocWK7QA/YIMrDqyMVpbn4+OT17/nvYg40Yo2jkR7d07s3LNlZMNGXWsSCWZgEEyKUTCiBwQURFKoSMY1GdejJB4Zry/l8IXHj822jZKq8vqc8/1++o177nnu+eekUoV7t85Yh370JROvK+o0jCiAAc5fH7jKQ6wgYOGYckBbAACR1gcPHfzkJz/5ub/8y1ZN7d0xsW37xtaGDTJpoZCAoig0ZvBFB4gMKIhUhCoiFTXGx+ZS8V8ePHzwbJZEmgQFaOWYvffWudOnz9x++x3L7eWQowxWdniea0lUwp+BwYc/w87ssOasWGNQ6wyp2oGffSlfIWUfKf300/t+//d//6mnnmTmSNLGjSOtsRGhIiDynr23yL444S4stnfMDpBQKCKlo/it09l//OoPXjuZJkkshFpxHpmdc8AsiF588fsP//3DUsoiVQvAUFCkQD4QNCtXYy5xWuElV5Ne54AYhnJx12O6dShSdh1+JSQhxLcfuP+P//jfvP3WW1rpNM0k+qQW6yhCAPAW2GHh2RtwGTjD1gRUjkRAQkfRoWPL//bzT7w+29FahbeEzEMVlOBwGI3n++69d25ujohgQAAqu4IrS1oa1OHRQ6k+6Fxz9muEigc+Ci8KNK5uQwAppLP2m9/8xv/zJ3/SbreJ0DlnjANvEACDp+4sW+NN5l3OzrJ34AyAY2BAZBRKR2+eWPzfP/vQodOdJElISC5jHwDBwXHMPqw2Cjp0+PBDDz1UsAazh/UTSMyF8zKoBAbZRJZX1lUSXJYDA3P1X5DroufKiITEx/79rz3wwLe/853vZGlGRP2+zfL8p279mdHWks1ym2c+z7xQgBaEIBDAgEIyoHeMJAFRCH3qzPK///P7D8wuJEmCRAToQjg9bP32ntmxBxbkgdF7QLr33ntvuOGGXTt3WmtDYAALVRgoXBrUSlCGyliLED4V/FRyR8U/AecPCMsAnqmiUSWDSCX7afqVr971pdv+6tHHHu12+wIw7ffTLP8ff/XXfuiaq3rtRfbOGmvz3OWpd6m3mbc525ydY8+AwgOhkO1u9qm/+NYPjpyK4xiQgMF5F2KFgR2cd+xLDVYsDZ48efLzn/9ce3mZCEue9ZXcrmiLihkGpaHcR7SmLmcNf5TSUOqY4RsQQSl95Mjhz//V55YW5paXO4uLy1KI5U7XWP97n/wXY5F48aGv3rAjEQK9syZPSRA4IqlAIINkzygJhBKkPNOnb7/v8ZferCU1DFDCc3DwmLk4AAGAGaozAUIsUxDWYi2k4BU1WWwqLFg76JuK/cPqVuyCAADnrF1bhyhrriCiFPLpp5/60pe+aG0Wx/Gp02db9cbsyVnj/B/+wb+qk3/i7v/6nt0bRho67FsGYG9y78CBJyNAxKRilDGIWCn9uS8/8M1Hvx/XaiQlMHjrQgbauyo2ypVDGs5OYO89onXw/pt+qNFspf0+QhHnAsBwmGkZbBt6fIVBilKpgbpfAMZ3kkeUQhqbf+2eb9x7739D4ImJ8Zdfeb1eq5+anWXAP/yDf5Vw9p07//zGvZt2bh2ZnKxLLaMoFlJ59iY37BySVrFEigClVur+h5/73D0PSx1LoqCTPbBzjn04RcgHm8rhIBDGoEGcd4jY7vXu+srXdu2+ZOeOHbkxGNzIMrwYYtDFEazMHGhVAtDAXgyAp2ZPVOQI6c7zNwYQiETi0OGD37znnhdeeD6OdLPVPHDwcK+bjbQaC3Nzv/3bv/uhq7Z98y8/NVaPr7lyy6aZUaEj5yx6D4DW5P3FJa3EyMYZmYygkDppvHTozB/9f19d6NtaFAGCZ3DOGZM7a0P+uVhWLkPYCCH/AoTAmBvTbNSvuPLy3/lfPrn3kr3GmpXCxMoRwapqLmCa1VMdwFpBcNZFpwNNIDrnvvLVu/7sz/7L888/E0e6Vk9OnTo9P79Ur9V63e71N7z/Z3/yx5Ze+87eLRNX7Jnefenu1uTmuDEax3WB5I3pLC6n/SwZm1L1CRE3laTH9r30h39653w3jbQKXgF7Z42xee6d5TJTHWzq4B6xIDRplikpiPDQwYOf+cynX371ZSHkiofKEPzvgbNugAfORF1Ni+o0rfOTIiCIu+666yt33Xno0BEG0pFut7tnzswLEoRgrbvx/R9MGg1jskYiNmwai0c3iKjOxoA1Lsv77U53qd2a3JiMTpHSStL+I2f+9MuPn1zoKakEEbP3zjvnQmkKFGG9cChHcTRHZSIJ0FnnnSeiMPOjR4/81ec/t//1/VKpIYgdyOJ9qTJDjHpourSKEMUpqeuShEEKeejwwW98427r7MnTp48effvNo8cXFpeMtVIIYyyR3LVzp6iNbbr6hycmG3Etdnlqukum103bnV6nk/b69WazPjLineW8d+TwW//hrx96a64dR5EgAYDOOmuttQ4Awh5GCmeGFClJIqSCOYgYwTqHBOy8tTY3Ns/MkSNH7rrzjtkTJ0iIIipc4NGgYQb4pQTNUPkjQ2WNJRlXOy7F/fCtb32z3W63O132EEU6yzNm9t6TIGvN1Ibprdu2mDzbcO1Pbbzuo0iULs/lnUXT6/Q6HWNMVE8aYyMMzpv01JnFT9326P5jc1ppEgIFhSSj8846G86jQyQSgkhioVB5cCres/OMgJ69c84Y00uzTq/3g5deuv322xYWFrRSMACJqiLTQvPA4K4ZHsIXQweZDusORhAkzs6defaZZxCx302lEAzQatS998yglTS53b37kqmpKWYPIhq99hP5qcvS49+3C28azySEVlJojSqBeMLXN336jq88d/CkVgqBBFGRZIQg3owkEEAQIhEw+PIoIe+5rIgsiIOiPKvZM6O3xva6/af3PW2M+amPffzqK68sCBeU7gpOLAxKNdmLPWYFGQTRiRPHTp85m+U5MyBSpLWScrnTDQuIgFdffbVS0nnLznkQevqaaOPlPmu7/qLpLbIzQsWqORWPbPjCF297+IUDoQSBSCCSsVYQsfeAQkhiZiIkwJBgqYL3RV5HCEQMW+DLY5oC3Abv2VjT6XT3PbNv//79v/iL/+TjP/Nxk+el9g0oJ8DwcAkRcB3cuS6PFFcQ3zzypnXOOUeCdCS1Vt57a4wggQBJvXHlVVcjQijnRPBscyCiZEw2JnSAOcyR1k9994nPfvbPg8xLKQnJMwNDvV4D5nan20/7zExYZCEHTmZFBBBESMTModCHS58MyAMLBGYPxlgE6FD77ru/ltTr11933djoSFE8FWLCXKVOC2+tOO+3TP0OTn31FQZ46+hRqWSW5nESaaVD4Z61TqvIWrdj5/bt27b5VWVlzOyM84UlFEKcnD3xJ//v/93pdKIoIiIVgr3Wx/VoZGRkcWnJGGOMI0KPDI6hrB8uTnxD9AwS0VjnnBNCcAknEYjKoI4AYIZOt99Ps//8n//TzPTMhz784Y/++E+Mjo44Z1c8tgC4PQdacOl/roCP1QdWMiBiv9c9ePhgv5sqrSKtrbVSaOucc17Ewlizd+9ljUbd+4GtHAjF6QnlCwjxS1/4q1deeSmJEyKKoyiOdD/NkNAad2L2pLXGM5eAPdT6sXUeCp8dQ2WO1pGxtnJARdg1j4X5JCJmyPKivq3d6Z09c/bll19+9NHH/uAPfn/Xjh3G2gKbwkpinUrDUaz8WgEpinWFmJ09/sqr+xk4iTWA98xElOcGAIlISX3D9e8ZYORBA1RQVUn17LP7vvb1r0Y6EkLUkmR0tAWIWZ4bY/r9PhIJEgFlh7K2ULgQRTqKwhk6MhTVp1nqXaAFSyGl0IIEArH3gkgQMYP3bK3LstzkxlqX5+bZZ575zKc/U5VyrASgmIFDwfoKDlsn/1FwINHLL7/U6XSVVkKIPHfheM48zwUJ7/3M5q1XXHlFaQixyt0HCx4CHO1O58//7NO9XlcplcRxq9kAD+Goj3AeG3tvnRNCQDnWqiQ0tNB5yD+Fqo44jqMoJiLn2bPXSiVJTEKy98aYKkEfZi2l3Ldv35NPPRWq6HyJpcKsaa0DwgMkqNjFe/fyKy8LIbVWzGyNEYIAwVqntHTOXXfN9ZOT41wVEJXmsepTSvW1r33l+ReeS5JEax3Hkfe+0+2F83LCPG3J9uxD8IoDeKmEZRA4I0K9ltSSBBG994AcRbrRqJMQQghfjmSFBZgR0Xn3wAMP5FleaM0SkXKId1YeG5cFTFzxTbgJcWFx/tChw0SYRFGaZQwgpQAP1npBQkn1vhvfX3pMRXdYhRAAlJL7X3vtti99QSmtlZJCsHdZlltrmTksMzM759I0LSdfECLg8cA7gSLhhmazMToy4pnDyTpKyPHRsampKSV1nhtBItB3kIJEGEfRa/tfO3X6lEAKqKOA2zxQ38nl2AdQa6EvUIjTp04dO3Zca22tM8YJQUrKUKaPCJumZy65ZI91dnUQJASBEPMs/8yffXpufk4pFdQ9CeGct84GlzEk5QNpvC9OQLZlq+o+ucxRNRv1yfEJ78E5L6Rg4LHRkdHRUSGktU4IoaQcPIksPKiUjJN4cXHx1ddeFUKEIGXlxQ3ICJeKY2A+IfhFiAffONDpdBExNyYoakEiz42UEhgvv/yqiYlxhILVocA/IY6CSqn777/vscf+PpyFJaWMdIRI1tpAhmraoecKWQGCMbbcYMG+LJWMo2h8bIxIZLkJdrFer23YMLVzx7Zet++sjbWSUgohKjEJHSZJHEUqTfOjR4+WgswD+mIYRQSrMWhQw/8HDhzop5lnDuE2KSUQpVmutSZB733P+wKfYxlQKyjrWQgxOzv7V3/9OQCQUkZaxUpLpfLcOHZhhnme53keDjuFUmUiohSiiOWV0k5ESqmJibFWq2ms8d4RkgceHRmZmpywxnV6nTiOokhLGTw5qsjhvQ+nwbHnM2dOu2CGeEU1UHEaaonseIgEECBJr9d5/cAbocTbes8ASolQdhVp1RoZ3blrZ4WRA6U9VLXxeNttXzx85HAcx+GwPRIiHAoFAM65LMuCjgir570PvI2IAChk8XNw06QUrUZ9+9YtkY6yzBCicbZRS2IdSakPHX5TCtlo1LXWiBRCoRXY8d73+5kQEoDTfuqqvSdccAgBhLrclSRMJWFBcQjCt996a//+A0qrUHtIhJEKAImklJMTGyanJr13AYYWwsnAzEqpF1544Z5v3l2L40grFcrgEbyzAGCNrTgiPBUoEvRouCKEXNF8iHEUbd68acPUlDGWfdjaxY16fWpyfG5uvtfvNxr1ZrOhpAq4jgZMCSJ2Ol1jrZSSqq9dqMjBZT04r1iN0sSUQTVB4vEnHl9qtwVR0HZKSqlVmqZaaQDYPLOlUa+HOudKvQXJ7/V6f/HZP+v2unEcE5GUqti0CZCmWZplAQJUohHwVdALobaAiGpJEj5SSm6e3rR182ZrXZpngGCdU1LGcRzFSb/f05Fq1Ovh1MdiH0YJSUpl7NrLnSSJqz0sg8tfXKJCVZX8UNzDRLTUXnrs8ScIhffgvAOAONLe+yzP4zj23u/ctaey4St6B1Fr/c1v3vPMvn31Wj2UvgpJAJznptvtZVkWbGSFoALERESpVK1W00p57yMdhRuklOOjozt3bGcPnW43z3IEyG1eryVK6YWFxUAXISUJoZRSWgshihOmq+wh4vJyO07iKIorhVp9KldcMC44pMqUMYCScv+rr73++htSSmbvLAsSWmuTG2d9HEXWuh07dlQ5GSjjiFLKI0eOfPFLfy2VKDZPCImAxthut5+maWU1Ch+cKJzTqqRUSltn+/0UiRaXFpm5Vqs16rU9u3c6x2eX5mzYZ+IdIdXrtTiOnHfMEAYJAFGk81yn/TSQubLEgTV63d709CbEMqS+7p4JGMgJFteRH33s0TTNEIs4glKKiNIsk1IJgc3myJYtW1adRx1e8/nP/+Xs7AmttRRSCsnsM2O6vX6/3yvP+C5YV0oppWRmJWWSxFmeZnmORL1eDwCiKI4jvX3r5kajcez4bJZlvV7fGJtleRRFWkeywBFMRMZYZ50gEUWR1kqQWDUqAFhud9I0K3wO5mrwNADXQznyQPiLaH5+7rnnnltRYAhaSWDo9zOttbNuw8ZN4+NjvuwuyJdS6qmnnnzgwfuTJJFCSEFEaJzr99N+vx84ohqfEIV7ETyxTqfrvQfmXq9XXhTjY6MbN2ycPXm61+9a67q9bgjqxZFWSnrvsywDQOe8MTbLrXUuSaIkSYoyyOF1IsRHHn18fn6+MjHFtrfijmIeDH5FtQohXn311cNvvlW6zxzk1nlnjE3i2Dm3a+fuWi0JIYtgromo0+n85ef+Is9zrcN2Ium8y9Ks1+sN7ihd8bsQlZRKyU63x4DWuG63G6ahlGo1GzPTm/ppurS0hADWuizLhCAfTpUWIq8UMLO11pjcex9J3Wq1ggIalBFEVEodPHTo+e89H5ix1Br+3MdHIwDzo48+mvazglbMUkhEsM4xs1LSed6797IBCQs4V913/73f+94LSZIopYiUda6fZv00DeazxApFU1JGWkspu90eEeZ51uv3A2RUStVryfTGDfVa7cyZuTy3QghjDANb6wQJqTQEx6yAKsYY45xnYMcQx0kcxyvBlDJbJKXI0uyRRx8f3MDH657HF5ogcfLUyaeeepqIqmoMIQkQjbVhMXUU79i+fdBKCxKnTp68447bhBRaKSmVdbbX76dpGjZbV5oyUERJWUsSFKLd6Ugp0zTNskzK8nBorcZGRyYnJubnl5Y7HUSIkyQsZK/fj+M4jqLKfw0cYa313pnMZHleGSYYMBYc9LQQzz/3/KlTp6rECjBTpSoqJz18JoTct+/pEydmhQjnvxXBFWbOs1xKycCTE1MbNkw5b6GIi7CQ4ut3f+3IkcO1JFFSWmvzPM+ybJVoBHLEUdRsNABxud0WQgQJCuItpIwi3Wo2NkxO9Pr9s/Pz3tk41iOtptYqlNg3GnWllHNFRUKWZsHke8/WuV6v75zTSg/qCywrdknQ2bNzL770AyFEtZRU+KUryLOQrTTtP/TQw650GcMO/XBLnluttbF2etPm1kirim9KIQ8fPvSNb3w9jmOlNBIZk1c4ohLaICBa63qt5rxfXFqSgoJOLVhSiEipWhyPjY1KpecXlozJa0kyMT4exYmxrp/2ATiOIiEkF5lX63llG7Mxtt/vZ2keRbry0AqbUYwWrbXPP/+CMRbK+EAZ1xoOxwkpjxw5/OJLL1VnszOzIMKw5dr5SEfeuV27dg8e3o6IX77zjjNnzsRxLITI8jzL8iq4BAPKMigCY+3C4iIiZlk+iFa11kmStFrNeq3R7nTStDcy0pyamup0eocOHe73uiEjgYDhK2usdcaYFUlln+cmTbNev6uUrL7EYxWyEkIcOnQ4TfslAUAyFxFhLj10BCDEJ554bHlpWUrNzAEih8hdbgwARJHu9fyuXbuKrhmkli+//NIDD9yfJImUwlmblRA76MsV20kUaZ3nebfXJ6KgRwLvSCmjKIrjqF5Lms2mIIy0mpiYAMBTp05Z57q9vjE2z/M4SRy7sGPHWgNFgQUDgvfeOmOM7fZ6WmshJA4fB+O5yDZ1ux1rrdZR4PcQ+y1r/ILUIy4vLz3x3SehjEqVqSZGAGuKeGSj1tyyZWu5jYO9c1/+8m3tdlsp5ZwP4dwKUwVdExBEFEXWmnani4hZllWECBuY4ziqxXGjUY+jqJbEGyansjSfX5jvp9nZ+YU8y5yz3nuB6KzzYZ9zGAISALJn67w1zhib9VNCVEpA6fhVkhI89QF8wVDsyeShohwp5CuvvHLgwEEpw7eeFJluZvQMxuRRVHPGTG/esmFqKkxVKvXCC88/8ugjSZIAgDEmz4v4XcURQgilZKyjXr+f5bkQIs9zIgphq4DBoyiqJ7VaLQHANDNKRyfePLq0vNzrpWmeCiSSwgSBQjTGEJLSioRAZwHAOw/Fjj5nnbXOxVorKQfNKpcxQQAXvs2itC9c7GcvBL5wKPxDD/1dp9uN47j6wjEsv2rCe44ibazdvmNXrVFzziKhd+6uu76cpv16vRFyvCW4xEACQBJESshurxcIEUxGiOsV+jKKarVESNnrZ9Y5QDx56mS3219caiNwQNPMECw6AhhjhZBcBHHRWIvIDNI7HxCQLc5nIQBYsZ0AzgZacIizVWJOK5oTgAEEiVOnTj711NNSKijKV0KEnxEwuEBaa8+w99JLwzkXSqoXXnj+u999XOsozC3YOQCQUgQLLxClkoEjENFaGzBfCHwjotYqiiJk7PR6zlkEcNZ22r3ldpuZsYwMO++LWHk5Bx8OMy3dNe+9KQdgrXXOhuwBDDTnPCEyQ62WDNKIuApceAZmIcRTTz45e/J0iCNUpgWBAMA5h0haqUhFO3fuDLbaWvvVr97V7/exPPwlqLTwfSIhdSykTPtpbkx4t5Syim4DgFIqiiIAzvJMCoq0SpKk2+uneUrhe9/KCHCAUoWjyB7Ah63BznlrXbXsKxv0AKJIrdILlblptVpCrHwB1Gq/xRjz7PPPMjOUB0GVnwADO+uklIQ4Pj4xvXFT0Pwvv/LSk09/V0oZqFDpS6lkMB1CiCwrCBGUaJhVQTIhtNbeszFGStmoJaMjI71e3+ZGChFiyNa5IHQ27MxB4KLYMehEZ5zzwNU3QYUIm/O+ihgO0oKZEYmZx0ZHlVTBMWPm1bRYXJx/ff8BrVSIoAGWKXpmALDWRVpb56anN4+MjYRevvWtezrtdhB+X76+5AgSQmZZFs4pDlcCIQISLQ+/ACKKtK7XkihKrHNxHAlJznOVFgg9h6cGYnAFR3jvAJhEsKsuVM57501meHhzZaCJlIKIpqYmsQypMfuhmgMhxIkTx5eWlpCIbXF6Cwykwrz3SmtjzO5du4UUAHz48KFHH32k+mKpVa6XlKLf7+d5XlmTKt8B5bdFAjAJEkQz0xsiFVnrpFadTtc6X9mj4IZW+gWK/fIht4aFx41ERNb5wnYCAHBmckTAgRhiWFopKY6jmenpiosBWA6KEBG9+IOXrC2CuGFWznkhEBCCVtZageedu/Yws5Tivvv+5uzZs1EUVewXMG9Y8F6vHwxnMJlVEsSXB9MhgpCSEGc2bdwwMYlI3vuF5eVut5+G/azWVvStQmGBW71znllguRsoWH3HzhUgwXlvrE2imAbc9tJwYBxFW7ZurnbKw6p9iHmeHz502Hnr2RdAlLkgJ2CRqlNKy2jLli2EdPz48QcefKCKAlSwX0qpte73e3luwhlbwYkqyrHCyQ9EQVPUa0kSRUjEjJ59p9dbWlrup32TF8ekBIbFwWxg+Y1PAfmEjbsiIgB23lUByqDsw3ETA/oCmcF7Pz4+MjG+IWRtQ5+yjHMCEXW7nePHjiEKABOIyGUkDomctVIpKcTo6Njk5KQQ+OAD3z5+/Niqr0IRQmil0n6/+H6/EP4pWbFCVkIIIUWj3piaHA/hz36aZrlZare73X6WZbaknZRSiLD9pspoMAC7Yl83MgMJDNUXQZlACTRd9U1qA8oCEa1127dvS5JkoHAm+OwFF7A1ZmFxgbm4YSWXBwAA3vlYR3meb9ww02w1zp6du+++v6lyGZXGkVLmJrcuOPI+GNogJgGVA0DI19drtXqt7r1PkkRr1en1l5aXe91umqWBEOHBoIYrTi65L5TNO+e8Zx8yQ1zsneeqhVLRMr1RMC8zO2d37typo8gPPDCUJuin/X4/DQZ8KASCEAyY1jrP8l179kSRfvyJxw4eOhgiGmHFgotZVWca44LPEyYTEBEAKKW0VvV6PdIRIiOSEMo57vV6vV4/y3LnnbM2HNWqlJIlUq5UUvEvcuB2CAdHMBdm1q9sOqvwSNWCnBFRCN+vOOg8jC+Wl5aMdZURwjJASEiePQNrrZlx+7YdaZo98MB9fuAIOESUUlgbbB4bY4M0h7h5ON+g8kSTJAmnQCRJoqTM8zxN036a5iZ3HCp5Q7pIyNKbqLBstXhFJrSESlx42ivKgplD4GTF6Sg/iSO9dcvWKmISROP/Bxe7gWYlMXncAAAAAElFTkSuQmCC\n",
                "text/plain": "<PIL.Image.Image image mode=RGB size=89x128 at 0x7F83E09653D0>"
              }
            ],
            "_view_module": "@jupyter-widgets/output",
            "_model_module_version": "1.0.0",
            "_view_count": null,
            "_view_module_version": "1.0.0",
            "layout": "IPY_MODEL_88761d22015946f0b9842630285458b1",
            "_model_module": "@jupyter-widgets/output"
          }
        },
        "4631c40b4eda47068663e04ad9780807": {
          "model_module": "@jupyter-widgets/controls",
          "model_name": "LabelModel",
          "state": {
            "_view_name": "LabelView",
            "style": "IPY_MODEL_8d4696f1d6c940fead8be682b00f857e",
            "_dom_classes": [],
            "description": "",
            "_model_name": "LabelModel",
            "placeholder": "​",
            "_view_module": "@jupyter-widgets/controls",
            "_model_module_version": "1.5.0",
            "value": "Prediction: with_mask; Probability: 1.0000",
            "_view_count": null,
            "_view_module_version": "1.5.0",
            "description_tooltip": null,
            "_model_module": "@jupyter-widgets/controls",
            "layout": "IPY_MODEL_89082a883d68407d9a9ac7d5ce83ed0e"
          }
        },
        "3948c3f4bbac4b279c3b8381c02b71ae": {
          "model_module": "@jupyter-widgets/controls",
          "model_name": "DescriptionStyleModel",
          "state": {
            "_view_name": "StyleView",
            "_model_name": "DescriptionStyleModel",
            "description_width": "",
            "_view_module": "@jupyter-widgets/base",
            "_model_module_version": "1.5.0",
            "_view_count": null,
            "_view_module_version": "1.2.0",
            "_model_module": "@jupyter-widgets/controls"
          }
        },
        "eec19776b10e439391a9dada0978d75c": {
          "model_module": "@jupyter-widgets/base",
          "model_name": "LayoutModel",
          "state": {
            "_view_name": "LayoutView",
            "grid_template_rows": null,
            "right": null,
            "justify_content": null,
            "_view_module": "@jupyter-widgets/base",
            "overflow": null,
            "_model_module_version": "1.2.0",
            "_view_count": null,
            "flex_flow": null,
            "width": null,
            "min_width": null,
            "border": null,
            "align_items": null,
            "bottom": null,
            "_model_module": "@jupyter-widgets/base",
            "top": null,
            "grid_column": null,
            "overflow_y": null,
            "overflow_x": null,
            "grid_auto_flow": null,
            "grid_area": null,
            "grid_template_columns": null,
            "flex": null,
            "_model_name": "LayoutModel",
            "justify_items": null,
            "grid_row": null,
            "max_height": null,
            "align_content": null,
            "visibility": null,
            "align_self": null,
            "height": null,
            "min_height": null,
            "padding": null,
            "grid_auto_rows": null,
            "grid_gap": null,
            "max_width": null,
            "order": null,
            "_view_module_version": "1.2.0",
            "grid_template_areas": null,
            "object_position": null,
            "object_fit": null,
            "grid_auto_columns": null,
            "margin": null,
            "display": null,
            "left": null
          }
        },
        "36bfa77711ee46a89412aacae77e194f": {
          "model_module": "@jupyter-widgets/controls",
          "model_name": "ButtonStyleModel",
          "state": {
            "_view_name": "StyleView",
            "_model_name": "ButtonStyleModel",
            "_view_module": "@jupyter-widgets/base",
            "_model_module_version": "1.5.0",
            "_view_count": null,
            "button_color": null,
            "font_weight": "",
            "_view_module_version": "1.2.0",
            "_model_module": "@jupyter-widgets/controls"
          }
        },
        "f17a74edcbb443aa85511149056ec2e6": {
          "model_module": "@jupyter-widgets/base",
          "model_name": "LayoutModel",
          "state": {
            "_view_name": "LayoutView",
            "grid_template_rows": null,
            "right": null,
            "justify_content": null,
            "_view_module": "@jupyter-widgets/base",
            "overflow": null,
            "_model_module_version": "1.2.0",
            "_view_count": null,
            "flex_flow": null,
            "width": null,
            "min_width": null,
            "border": null,
            "align_items": null,
            "bottom": null,
            "_model_module": "@jupyter-widgets/base",
            "top": null,
            "grid_column": null,
            "overflow_y": null,
            "overflow_x": null,
            "grid_auto_flow": null,
            "grid_area": null,
            "grid_template_columns": null,
            "flex": null,
            "_model_name": "LayoutModel",
            "justify_items": null,
            "grid_row": null,
            "max_height": null,
            "align_content": null,
            "visibility": null,
            "align_self": null,
            "height": null,
            "min_height": null,
            "padding": null,
            "grid_auto_rows": null,
            "grid_gap": null,
            "max_width": null,
            "order": null,
            "_view_module_version": "1.2.0",
            "grid_template_areas": null,
            "object_position": null,
            "object_fit": null,
            "grid_auto_columns": null,
            "margin": null,
            "display": null,
            "left": null
          }
        },
        "8d4696f1d6c940fead8be682b00f857e": {
          "model_module": "@jupyter-widgets/controls",
          "model_name": "DescriptionStyleModel",
          "state": {
            "_view_name": "StyleView",
            "_model_name": "DescriptionStyleModel",
            "description_width": "",
            "_view_module": "@jupyter-widgets/base",
            "_model_module_version": "1.5.0",
            "_view_count": null,
            "_view_module_version": "1.2.0",
            "_model_module": "@jupyter-widgets/controls"
          }
        },
        "89082a883d68407d9a9ac7d5ce83ed0e": {
          "model_module": "@jupyter-widgets/base",
          "model_name": "LayoutModel",
          "state": {
            "_view_name": "LayoutView",
            "grid_template_rows": null,
            "right": null,
            "justify_content": null,
            "_view_module": "@jupyter-widgets/base",
            "overflow": null,
            "_model_module_version": "1.2.0",
            "_view_count": null,
            "flex_flow": null,
            "width": null,
            "min_width": null,
            "border": null,
            "align_items": null,
            "bottom": null,
            "_model_module": "@jupyter-widgets/base",
            "top": null,
            "grid_column": null,
            "overflow_y": null,
            "overflow_x": null,
            "grid_auto_flow": null,
            "grid_area": null,
            "grid_template_columns": null,
            "flex": null,
            "_model_name": "LayoutModel",
            "justify_items": null,
            "grid_row": null,
            "max_height": null,
            "align_content": null,
            "visibility": null,
            "align_self": null,
            "height": null,
            "min_height": null,
            "padding": null,
            "grid_auto_rows": null,
            "grid_gap": null,
            "max_width": null,
            "order": null,
            "_view_module_version": "1.2.0",
            "grid_template_areas": null,
            "object_position": null,
            "object_fit": null,
            "grid_auto_columns": null,
            "margin": null,
            "display": null,
            "left": null
          }
        },
        "88761d22015946f0b9842630285458b1": {
          "model_module": "@jupyter-widgets/base",
          "model_name": "LayoutModel",
          "state": {
            "_view_name": "LayoutView",
            "grid_template_rows": null,
            "right": null,
            "justify_content": null,
            "_view_module": "@jupyter-widgets/base",
            "overflow": null,
            "_model_module_version": "1.2.0",
            "_view_count": null,
            "flex_flow": null,
            "width": null,
            "min_width": null,
            "border": null,
            "align_items": null,
            "bottom": null,
            "_model_module": "@jupyter-widgets/base",
            "top": null,
            "grid_column": null,
            "overflow_y": null,
            "overflow_x": null,
            "grid_auto_flow": null,
            "grid_area": null,
            "grid_template_columns": null,
            "flex": null,
            "_model_name": "LayoutModel",
            "justify_items": null,
            "grid_row": null,
            "max_height": null,
            "align_content": null,
            "visibility": null,
            "align_self": null,
            "height": null,
            "min_height": null,
            "padding": null,
            "grid_auto_rows": null,
            "grid_gap": null,
            "max_width": null,
            "order": null,
            "_view_module_version": "1.2.0",
            "grid_template_areas": null,
            "object_position": null,
            "object_fit": null,
            "grid_auto_columns": null,
            "margin": null,
            "display": null,
            "left": null
          }
        }
      }
    }
  },
  "cells": [
    {
      "cell_type": "code",
      "metadata": {
        "id": "C9uqWPmtreUs"
      },
      "source": [
        "\n",
        "from fastai.vision.all import *\n",
        "from fastai.vision.widgets import *"
      ],
      "execution_count": 1,
      "outputs": []
    },
    {
      "cell_type": "code",
      "metadata": {
        "id": "et2L2pE5T1-y"
      },
      "source": [
        "#hide\n",
        "from fastbook import *\n"
      ],
      "execution_count": 4,
      "outputs": []
    },
    {
      "cell_type": "code",
      "metadata": {
        "id": "TybSHaYUTNOj"
      },
      "source": [
        "path = Path()\n",
        "path.ls(file_exts='.pkl')\n",
        "learn_inf= load_learner(path/'export.pkl', cpu=True)\n"
      ],
      "execution_count": 7,
      "outputs": []
    },
    {
      "cell_type": "code",
      "metadata": {
        "id": "Q7M4HQXicULZ"
      },
      "source": [
        "btn_upload = widgets.FileUpload()\n",
        "out_pl = widgets.Output()\n",
        "lbl_pred= widgets.Label()"
      ],
      "execution_count": 8,
      "outputs": []
    },
    {
      "cell_type": "code",
      "metadata": {
        "id": "8SVpP60Vc7oQ"
      },
      "source": [
        "def on_click_classify(change):\n",
        "  img= PILImage.create(btn_upload.data[-1])\n",
        "  out_pl.clear_output()\n",
        "  with out_pl: display(img.to_thumb(128,128))\n",
        "  pred,pred_idx,probs= learn_inf.predict(img)\n",
        "  lbl_pred.value= f'Prediction: {pred}; Probability: {probs[pred_idx]:.04f}'\n"
      ],
      "execution_count": 9,
      "outputs": []
    },
    {
      "cell_type": "code",
      "metadata": {
        "id": "lUDaNExqdIYJ"
      },
      "source": [
        "btn_upload.observe(on_click_classify, names=['data'])"
      ],
      "execution_count": 10,
      "outputs": []
    },
    {
      "cell_type": "code",
      "metadata": {
        "colab": {
          "base_uri": "https://localhost:8080/",
          "height": 241,
          "referenced_widgets": [
            "4dc00cd7740c4475a05adebd942441ae",
            "ef16c91154ee4038af75714bbf9b6498",
            "0b6e931beb114113991edd8f76fd4e66",
            "6e443655f81b4842af98efc5f7883339",
            "25548de5d5ae45dd9115f877e28c6c02",
            "4631c40b4eda47068663e04ad9780807",
            "3948c3f4bbac4b279c3b8381c02b71ae",
            "eec19776b10e439391a9dada0978d75c",
            "36bfa77711ee46a89412aacae77e194f",
            "f17a74edcbb443aa85511149056ec2e6",
            "8d4696f1d6c940fead8be682b00f857e",
            "89082a883d68407d9a9ac7d5ce83ed0e",
            "88761d22015946f0b9842630285458b1"
          ]
        },
        "id": "TeC1_XWLdSB2",
        "outputId": "477bd749-3453-4ed0-d8c3-d542b9404d5c"
      },
      "source": [
        "display(VBox([widgets.Label('Select your Picture!'), btn_upload, out_pl, lbl_pred]))"
      ],
      "execution_count": 11,
      "outputs": [
        {
          "output_type": "display_data",
          "data": {
            "application/vnd.jupyter.widget-view+json": {
              "model_id": "4dc00cd7740c4475a05adebd942441ae",
              "version_minor": 0,
              "version_major": 2
            },
            "text/plain": [
              "VBox(children=(Label(value='Select your Picture!'), FileUpload(value={}, description='Upload'), Output(), Labe…"
            ]
          },
          "metadata": {
            "tags": []
          }
        },
        {
          "output_type": "display_data",
          "data": {
            "text/html": [
              ""
            ],
            "text/plain": [
              "<IPython.core.display.HTML object>"
            ]
          },
          "metadata": {
            "tags": []
          }
        }
      ]
    },
    {
      "cell_type": "code",
      "metadata": {
        "id": "r2bIDSLkdkm9"
      },
      "source": [
        ""
      ],
      "execution_count": null,
      "outputs": []
    }
  ]
}