<!DOCTYPE html>
<!-- saved from url=(0051)http://localhost:8890/notebooks/MaskClassifer.ipynb -->
<html lang="de-de"><head><meta http-equiv="Content-Type" content="text/html; charset=UTF-8">
    

    <title>MaskClassifer - Jupyter Notebook</title>
    
    <meta http-equiv="X-UA-Compatible" content="IE=edge">
    <link rel="stylesheet" href="./MaskClassifer_files/jquery-ui.min.css" type="text/css">
    <link rel="stylesheet" href="./MaskClassifer_files/jquery.typeahead.min.css" type="text/css">
    <meta name="viewport" content="width=device-width, initial-scale=1.0">
    
    


<script type="text/javascript" src="./MaskClassifer_files/MathJax.js.Download" charset="utf-8"></script>

<script type="text/javascript">
// MathJax disabled, set as null to distinguish from *missing* MathJax,
// where it will be undefined, and should prompt a dialog later.
window.mathjax_url = "/static/components/MathJax/MathJax.js";
</script>

<link rel="stylesheet" href="./MaskClassifer_files/bootstrap-tour.min.css" type="text/css">
<link rel="stylesheet" href="./MaskClassifer_files/codemirror.css">


    <link rel="stylesheet" href="./MaskClassifer_files/style.min.css" type="text/css">
    

<link rel="stylesheet" href="./MaskClassifer_files/override.css" type="text/css">
<link rel="stylesheet" href="http://localhost:8890/notebooks/MaskClassifer.ipynb" id="kernel-css" type="text/css">


    <link rel="stylesheet" href="./MaskClassifer_files/custom.css" type="text/css">
    <script src="./MaskClassifer_files/promise.min.js.Download" type="text/javascript" charset="utf-8"></script>
    <script src="./MaskClassifer_files/react.production.min.js.Download" type="text/javascript"></script>
    <script src="./MaskClassifer_files/react-dom.production.min.js.Download" type="text/javascript"></script>
    <script src="./MaskClassifer_files/index.js.Download" type="text/javascript"></script>
    <script src="./MaskClassifer_files/require.js.Download" type="text/javascript" charset="utf-8"></script>
    <script>
      require.config({
          
          urlArgs: "v=20210424125036",
          
          baseUrl: '/static/',
          paths: {
            'auth/js/main': 'auth/js/main.min',
            custom : '/custom',
            nbextensions : '/nbextensions',
            kernelspecs : '/kernelspecs',
            underscore : 'components/underscore/underscore-min',
            backbone : 'components/backbone/backbone-min',
            jed: 'components/jed/jed',
            jquery: 'components/jquery/jquery.min',
            json: 'components/requirejs-plugins/src/json',
            text: 'components/requirejs-text/text',
            bootstrap: 'components/bootstrap/dist/js/bootstrap.min',
            bootstraptour: 'components/bootstrap-tour/build/js/bootstrap-tour.min',
            'jquery-ui': 'components/jquery-ui/jquery-ui.min',
            moment: 'components/moment/min/moment-with-locales',
            codemirror: 'components/codemirror',
            termjs: 'components/xterm.js/xterm',
            typeahead: 'components/jquery-typeahead/dist/jquery.typeahead.min',
          },
          map: { // for backward compatibility
              "*": {
                  "jqueryui": "jquery-ui",
              }
          },
          shim: {
            typeahead: {
              deps: ["jquery"],
              exports: "typeahead"
            },
            underscore: {
              exports: '_'
            },
            backbone: {
              deps: ["underscore", "jquery"],
              exports: "Backbone"
            },
            bootstrap: {
              deps: ["jquery"],
              exports: "bootstrap"
            },
            bootstraptour: {
              deps: ["bootstrap"],
              exports: "Tour"
            },
            "jquery-ui": {
              deps: ["jquery"],
              exports: "$"
            }
          },
          waitSeconds: 30,
      });

      require.config({
          map: {
              '*':{
                'contents': 'services/contents',
              }
          }
      });

      // error-catching custom.js shim.
      define("custom", function (require, exports, module) {
          try {
              var custom = require('custom/custom');
              console.debug('loaded custom.js');
              return custom;
          } catch (e) {
              console.error("error loading custom.js", e);
              return {};
          }
      })

    document.nbjs_translations = {"domain": "nbjs", "locale_data": {"nbjs": {"": {"domain": "nbjs"}}}};
    document.documentElement.lang = navigator.language.toLowerCase();
    </script>

    
    

<script type="text/javascript" charset="utf-8" async="" data-requirecontext="_" data-requiremodule="services/contents" src="./MaskClassifer_files/contents.js.Download"></script><style type="text/css">.MathJax_Hover_Frame {border-radius: .25em; -webkit-border-radius: .25em; -moz-border-radius: .25em; -khtml-border-radius: .25em; box-shadow: 0px 0px 15px #83A; -webkit-box-shadow: 0px 0px 15px #83A; -moz-box-shadow: 0px 0px 15px #83A; -khtml-box-shadow: 0px 0px 15px #83A; border: 1px solid #A6D ! important; display: inline-block; position: absolute}
.MathJax_Menu_Button .MathJax_Hover_Arrow {position: absolute; cursor: pointer; display: inline-block; border: 2px solid #AAA; border-radius: 4px; -webkit-border-radius: 4px; -moz-border-radius: 4px; -khtml-border-radius: 4px; font-family: 'Courier New',Courier; font-size: 9px; color: #F0F0F0}
.MathJax_Menu_Button .MathJax_Hover_Arrow span {display: block; background-color: #AAA; border: 1px solid; border-radius: 3px; line-height: 0; padding: 4px}
.MathJax_Hover_Arrow:hover {color: white!important; border: 2px solid #CCC!important}
.MathJax_Hover_Arrow:hover span {background-color: #CCC!important}
</style><style type="text/css">#MathJax_About {position: fixed; left: 50%; width: auto; text-align: center; border: 3px outset; padding: 1em 2em; background-color: #DDDDDD; color: black; cursor: default; font-family: message-box; font-size: 120%; font-style: normal; text-indent: 0; text-transform: none; line-height: normal; letter-spacing: normal; word-spacing: normal; word-wrap: normal; white-space: nowrap; float: none; z-index: 201; border-radius: 15px; -webkit-border-radius: 15px; -moz-border-radius: 15px; -khtml-border-radius: 15px; box-shadow: 0px 10px 20px #808080; -webkit-box-shadow: 0px 10px 20px #808080; -moz-box-shadow: 0px 10px 20px #808080; -khtml-box-shadow: 0px 10px 20px #808080; filter: progid:DXImageTransform.Microsoft.dropshadow(OffX=2, OffY=2, Color='gray', Positive='true')}
#MathJax_About.MathJax_MousePost {outline: none}
.MathJax_Menu {position: absolute; background-color: white; color: black; width: auto; padding: 2px; border: 1px solid #CCCCCC; margin: 0; cursor: default; font: menu; text-align: left; text-indent: 0; text-transform: none; line-height: normal; letter-spacing: normal; word-spacing: normal; word-wrap: normal; white-space: nowrap; float: none; z-index: 201; box-shadow: 0px 10px 20px #808080; -webkit-box-shadow: 0px 10px 20px #808080; -moz-box-shadow: 0px 10px 20px #808080; -khtml-box-shadow: 0px 10px 20px #808080; filter: progid:DXImageTransform.Microsoft.dropshadow(OffX=2, OffY=2, Color='gray', Positive='true')}
.MathJax_MenuItem {padding: 2px 2em; background: transparent}
.MathJax_MenuArrow {position: absolute; right: .5em; padding-top: .25em; color: #666666; font-size: .75em}
.MathJax_MenuActive .MathJax_MenuArrow {color: white}
.MathJax_MenuArrow.RTL {left: .5em; right: auto}
.MathJax_MenuCheck {position: absolute; left: .7em}
.MathJax_MenuCheck.RTL {right: .7em; left: auto}
.MathJax_MenuRadioCheck {position: absolute; left: 1em}
.MathJax_MenuRadioCheck.RTL {right: 1em; left: auto}
.MathJax_MenuLabel {padding: 2px 2em 4px 1.33em; font-style: italic}
.MathJax_MenuRule {border-top: 1px solid #CCCCCC; margin: 4px 1px 0px}
.MathJax_MenuDisabled {color: GrayText}
.MathJax_MenuActive {background-color: Highlight; color: HighlightText}
.MathJax_MenuDisabled:focus, .MathJax_MenuLabel:focus {background-color: #E8E8E8}
.MathJax_ContextMenu:focus {outline: none}
.MathJax_ContextMenu .MathJax_MenuItem:focus {outline: none}
#MathJax_AboutClose {top: .2em; right: .2em}
.MathJax_Menu .MathJax_MenuClose {top: -10px; left: -10px}
.MathJax_MenuClose {position: absolute; cursor: pointer; display: inline-block; border: 2px solid #AAA; border-radius: 18px; -webkit-border-radius: 18px; -moz-border-radius: 18px; -khtml-border-radius: 18px; font-family: 'Courier New',Courier; font-size: 24px; color: #F0F0F0}
.MathJax_MenuClose span {display: block; background-color: #AAA; border: 1.5px solid; border-radius: 18px; -webkit-border-radius: 18px; -moz-border-radius: 18px; -khtml-border-radius: 18px; line-height: 0; padding: 8px 0 6px}
.MathJax_MenuClose:hover {color: white!important; border: 2px solid #CCC!important}
.MathJax_MenuClose:hover span {background-color: #CCC!important}
.MathJax_MenuClose:hover:focus {outline: none}
</style><style type="text/css">.MathJax_Preview .MJXf-math {color: inherit!important}
</style><style type="text/css">.MJX_Assistive_MathML {position: absolute!important; top: 0; left: 0; clip: rect(1px, 1px, 1px, 1px); padding: 1px 0 0 0!important; border: 0!important; height: 1px!important; width: 1px!important; overflow: hidden!important; display: block!important; -webkit-touch-callout: none; -webkit-user-select: none; -khtml-user-select: none; -moz-user-select: none; -ms-user-select: none; user-select: none}
.MJX_Assistive_MathML.MJX_Assistive_MathML_Block {width: 100%!important}
</style><style type="text/css">#MathJax_Zoom {position: absolute; background-color: #F0F0F0; overflow: auto; display: block; z-index: 301; padding: .5em; border: 1px solid black; margin: 0; font-weight: normal; font-style: normal; text-align: left; text-indent: 0; text-transform: none; line-height: normal; letter-spacing: normal; word-spacing: normal; word-wrap: normal; white-space: nowrap; float: none; -webkit-box-sizing: content-box; -moz-box-sizing: content-box; box-sizing: content-box; box-shadow: 5px 5px 15px #AAAAAA; -webkit-box-shadow: 5px 5px 15px #AAAAAA; -moz-box-shadow: 5px 5px 15px #AAAAAA; -khtml-box-shadow: 5px 5px 15px #AAAAAA; filter: progid:DXImageTransform.Microsoft.dropshadow(OffX=2, OffY=2, Color='gray', Positive='true')}
#MathJax_ZoomOverlay {position: absolute; left: 0; top: 0; z-index: 300; display: inline-block; width: 100%; height: 100%; border: 0; padding: 0; margin: 0; background-color: white; opacity: 0; filter: alpha(opacity=0)}
#MathJax_ZoomFrame {position: relative; display: inline-block; height: 0; width: 0}
#MathJax_ZoomEventTrap {position: absolute; left: 0; top: 0; z-index: 302; display: inline-block; border: 0; padding: 0; margin: 0; background-color: white; opacity: 0; filter: alpha(opacity=0)}
</style><style type="text/css">.MathJax_Preview {color: #888; display: contents}
#MathJax_Message {position: fixed; left: 1em; bottom: 1.5em; background-color: #E6E6E6; border: 1px solid #959595; margin: 0px; padding: 2px 8px; z-index: 102; color: black; font-size: 80%; width: auto; white-space: nowrap}
#MathJax_MSIE_Frame {position: absolute; top: 0; left: 0; width: 0px; z-index: 101; border: 0px; margin: 0px; padding: 0px}
.MathJax_Error {color: #CC0000; font-style: italic}
</style><script type="text/javascript" charset="utf-8" async="" data-requirecontext="_" data-requiremodule="custom/custom" src="./MaskClassifer_files/custom.js.Download"></script><style type="text/css">div.MathJax_MathML {text-align: center; margin: .75em 0px; display: block!important}
.MathJax_MathML {font-style: normal; font-weight: normal; line-height: normal; font-size: 100%; font-size-adjust: none; text-indent: 0; text-align: left; text-transform: none; letter-spacing: normal; word-spacing: normal; word-wrap: normal; white-space: nowrap; float: none; direction: ltr; max-width: none; max-height: none; min-width: 0; min-height: 0; border: 0; padding: 0; margin: 0}
span.MathJax_MathML {display: inline!important}
.MathJax_mmlExBox {display: block!important; overflow: hidden; height: 1px; width: 60ex; min-height: 0; max-height: none; padding: 0; border: 0; margin: 0}
[class="MJX-tex-oldstyle"] {font-family: MathJax_Caligraphic, MathJax_Caligraphic-WEB}
[class="MJX-tex-oldstyle-bold"] {font-family: MathJax_Caligraphic, MathJax_Caligraphic-WEB; font-weight: bold}
[class="MJX-tex-caligraphic"] {font-family: MathJax_Caligraphic, MathJax_Caligraphic-WEB}
[class="MJX-tex-caligraphic-bold"] {font-family: MathJax_Caligraphic, MathJax_Caligraphic-WEB; font-weight: bold}
@font-face /*1*/ {font-family: MathJax_Caligraphic-WEB; src: url('http://localhost:8890/static/components/MathJax/fonts/HTML-CSS/TeX/otf/MathJax_Caligraphic-Regular.otf')}
@font-face /*2*/ {font-family: MathJax_Caligraphic-WEB; font-weight: bold; src: url('http://localhost:8890/static/components/MathJax/fonts/HTML-CSS/TeX/otf/MathJax_Caligraphic-Bold.otf')}
[mathvariant="double-struck"] {font-family: MathJax_AMS, MathJax_AMS-WEB}
[mathvariant="script"] {font-family: MathJax_Script, MathJax_Script-WEB}
[mathvariant="fraktur"] {font-family: MathJax_Fraktur, MathJax_Fraktur-WEB}
[mathvariant="bold-script"] {font-family: MathJax_Script, MathJax_Caligraphic-WEB; font-weight: bold}
[mathvariant="bold-fraktur"] {font-family: MathJax_Fraktur, MathJax_Fraktur-WEB; font-weight: bold}
[mathvariant="monospace"] {font-family: monospace}
[mathvariant="sans-serif"] {font-family: sans-serif}
[mathvariant="bold-sans-serif"] {font-family: sans-serif; font-weight: bold}
[mathvariant="sans-serif-italic"] {font-family: sans-serif; font-style: italic}
[mathvariant="sans-serif-bold-italic"] {font-family: sans-serif; font-style: italic; font-weight: bold}
@font-face /*3*/ {font-family: MathJax_AMS-WEB; src: url('http://localhost:8890/static/components/MathJax/fonts/HTML-CSS/TeX/otf/MathJax_AMS-Regular.otf')}
@font-face /*4*/ {font-family: MathJax_Script-WEB; src: url('http://localhost:8890/static/components/MathJax/fonts/HTML-CSS/TeX/otf/MathJax_Script-Regular.otf')}
@font-face /*5*/ {font-family: MathJax_Fraktur-WEB; src: url('http://localhost:8890/static/components/MathJax/fonts/HTML-CSS/TeX/otf/MathJax_Fraktur-Regular.otf')}
@font-face /*6*/ {font-family: MathJax_Fraktur-WEB; font-weight: bold; src: url('http://localhost:8890/static/components/MathJax/fonts/HTML-CSS/TeX/otf/MathJax_Fraktur-Bold.otf')}
</style><style type="text/css">.MJXp-script {font-size: .8em}
.MJXp-right {-webkit-transform-origin: right; -moz-transform-origin: right; -ms-transform-origin: right; -o-transform-origin: right; transform-origin: right}
.MJXp-bold {font-weight: bold}
.MJXp-italic {font-style: italic}
.MJXp-scr {font-family: MathJax_Script,'Times New Roman',Times,STIXGeneral,serif}
.MJXp-frak {font-family: MathJax_Fraktur,'Times New Roman',Times,STIXGeneral,serif}
.MJXp-sf {font-family: MathJax_SansSerif,'Times New Roman',Times,STIXGeneral,serif}
.MJXp-cal {font-family: MathJax_Caligraphic,'Times New Roman',Times,STIXGeneral,serif}
.MJXp-mono {font-family: MathJax_Typewriter,'Times New Roman',Times,STIXGeneral,serif}
.MJXp-largeop {font-size: 150%}
.MJXp-largeop.MJXp-int {vertical-align: -.2em}
.MJXp-math {display: inline-block; line-height: 1.2; text-indent: 0; font-family: 'Times New Roman',Times,STIXGeneral,serif; white-space: nowrap; border-collapse: collapse}
.MJXp-display {display: block; text-align: center; margin: 1em 0}
.MJXp-math span {display: inline-block}
.MJXp-box {display: block!important; text-align: center}
.MJXp-box:after {content: " "}
.MJXp-rule {display: block!important; margin-top: .1em}
.MJXp-char {display: block!important}
.MJXp-mo {margin: 0 .15em}
.MJXp-mfrac {margin: 0 .125em; vertical-align: .25em}
.MJXp-denom {display: inline-table!important; width: 100%}
.MJXp-denom > * {display: table-row!important}
.MJXp-surd {vertical-align: top}
.MJXp-surd > * {display: block!important}
.MJXp-script-box > *  {display: table!important; height: 50%}
.MJXp-script-box > * > * {display: table-cell!important; vertical-align: top}
.MJXp-script-box > *:last-child > * {vertical-align: bottom}
.MJXp-script-box > * > * > * {display: block!important}
.MJXp-mphantom {visibility: hidden}
.MJXp-munderover, .MJXp-munder {display: inline-table!important}
.MJXp-over {display: inline-block!important; text-align: center}
.MJXp-over > * {display: block!important}
.MJXp-munderover > *, .MJXp-munder > * {display: table-row!important}
.MJXp-mtable {vertical-align: .25em; margin: 0 .125em}
.MJXp-mtable > * {display: inline-table!important; vertical-align: middle}
.MJXp-mtr {display: table-row!important}
.MJXp-mtd {display: table-cell!important; text-align: center; padding: .5em 0 0 .5em}
.MJXp-mtr > .MJXp-mtd:first-child {padding-left: 0}
.MJXp-mtr:first-child > .MJXp-mtd {padding-top: 0}
.MJXp-mlabeledtr {display: table-row!important}
.MJXp-mlabeledtr > .MJXp-mtd:first-child {padding-left: 0}
.MJXp-mlabeledtr:first-child > .MJXp-mtd {padding-top: 0}
.MJXp-merror {background-color: #FFFF88; color: #CC0000; border: 1px solid #CC0000; padding: 1px 3px; font-style: normal; font-size: 90%}
.MJXp-scale0 {-webkit-transform: scaleX(.0); -moz-transform: scaleX(.0); -ms-transform: scaleX(.0); -o-transform: scaleX(.0); transform: scaleX(.0)}
.MJXp-scale1 {-webkit-transform: scaleX(.1); -moz-transform: scaleX(.1); -ms-transform: scaleX(.1); -o-transform: scaleX(.1); transform: scaleX(.1)}
.MJXp-scale2 {-webkit-transform: scaleX(.2); -moz-transform: scaleX(.2); -ms-transform: scaleX(.2); -o-transform: scaleX(.2); transform: scaleX(.2)}
.MJXp-scale3 {-webkit-transform: scaleX(.3); -moz-transform: scaleX(.3); -ms-transform: scaleX(.3); -o-transform: scaleX(.3); transform: scaleX(.3)}
.MJXp-scale4 {-webkit-transform: scaleX(.4); -moz-transform: scaleX(.4); -ms-transform: scaleX(.4); -o-transform: scaleX(.4); transform: scaleX(.4)}
.MJXp-scale5 {-webkit-transform: scaleX(.5); -moz-transform: scaleX(.5); -ms-transform: scaleX(.5); -o-transform: scaleX(.5); transform: scaleX(.5)}
.MJXp-scale6 {-webkit-transform: scaleX(.6); -moz-transform: scaleX(.6); -ms-transform: scaleX(.6); -o-transform: scaleX(.6); transform: scaleX(.6)}
.MJXp-scale7 {-webkit-transform: scaleX(.7); -moz-transform: scaleX(.7); -ms-transform: scaleX(.7); -o-transform: scaleX(.7); transform: scaleX(.7)}
.MJXp-scale8 {-webkit-transform: scaleX(.8); -moz-transform: scaleX(.8); -ms-transform: scaleX(.8); -o-transform: scaleX(.8); transform: scaleX(.8)}
.MJXp-scale9 {-webkit-transform: scaleX(.9); -moz-transform: scaleX(.9); -ms-transform: scaleX(.9); -o-transform: scaleX(.9); transform: scaleX(.9)}
.MathJax_PHTML .noError {vertical-align: ; font-size: 90%; text-align: left; color: black; padding: 1px 3px; border: 1px solid}
</style><script type="text/javascript" charset="utf-8" async="" data-requirecontext="_" data-requiremodule="nbextensions/voila/extension" src="./MaskClassifer_files/extension.js.Download"></script><script type="text/javascript" charset="utf-8" async="" data-requirecontext="_" data-requiremodule="nbextensions/jupyter-js-widgets/extension" src="./MaskClassifer_files/extension.js(1).Download"></script><style type="text/css">.MathJax_Display {text-align: center; margin: 0; position: relative; display: block!important; text-indent: 0; max-width: none; max-height: none; min-width: 0; min-height: 0; width: 100%}
.MathJax .merror {background-color: #FFFF88; color: #CC0000; border: 1px solid #CC0000; padding: 1px 3px; font-style: normal; font-size: 90%}
.MathJax .MJX-monospace {font-family: monospace}
.MathJax .MJX-sans-serif {font-family: sans-serif}
#MathJax_Tooltip {background-color: InfoBackground; color: InfoText; border: 1px solid black; box-shadow: 2px 2px 5px #AAAAAA; -webkit-box-shadow: 2px 2px 5px #AAAAAA; -moz-box-shadow: 2px 2px 5px #AAAAAA; -khtml-box-shadow: 2px 2px 5px #AAAAAA; filter: progid:DXImageTransform.Microsoft.dropshadow(OffX=2, OffY=2, Color='gray', Positive='true'); padding: 3px 4px; z-index: 401; position: absolute; left: 0; top: 0; width: auto; height: auto; display: none}
.MathJax {display: inline; font-style: normal; font-weight: normal; line-height: normal; font-size: 100%; font-size-adjust: none; text-indent: 0; text-align: left; text-transform: none; letter-spacing: normal; word-spacing: normal; word-wrap: normal; white-space: nowrap; float: none; direction: ltr; max-width: none; max-height: none; min-width: 0; min-height: 0; border: 0; padding: 0; margin: 0}
.MathJax:focus, body :focus .MathJax {display: inline-table}
.MathJax.MathJax_FullWidth {text-align: center; display: table-cell!important; width: 10000em!important}
.MathJax img, .MathJax nobr, .MathJax a {border: 0; padding: 0; margin: 0; max-width: none; max-height: none; min-width: 0; min-height: 0; vertical-align: 0; line-height: normal; text-decoration: none}
img.MathJax_strut {border: 0!important; padding: 0!important; margin: 0!important; vertical-align: 0!important}
.MathJax span {display: inline; position: static; border: 0; padding: 0; margin: 0; vertical-align: 0; line-height: normal; text-decoration: none; box-sizing: content-box}
.MathJax nobr {white-space: nowrap!important}
.MathJax img {display: inline!important; float: none!important}
.MathJax * {transition: none; -webkit-transition: none; -moz-transition: none; -ms-transition: none; -o-transition: none}
.MathJax_Processing {visibility: hidden; position: fixed; width: 0; height: 0; overflow: hidden}
.MathJax_Processed {display: none!important}
.MathJax_test {font-style: normal; font-weight: normal; font-size: 100%; font-size-adjust: none; text-indent: 0; text-transform: none; letter-spacing: normal; word-spacing: normal; overflow: hidden; height: 1px}
.MathJax_test.mjx-test-display {display: table!important}
.MathJax_test.mjx-test-inline {display: inline!important; margin-right: -1px}
.MathJax_test.mjx-test-default {display: block!important; clear: both}
.MathJax_ex_box {display: inline-block!important; position: absolute; overflow: hidden; min-height: 0; max-height: none; padding: 0; border: 0; margin: 0; width: 1px; height: 60ex}
.MathJax_em_box {display: inline-block!important; position: absolute; overflow: hidden; min-height: 0; max-height: none; padding: 0; border: 0; margin: 0; width: 1px; height: 60em}
.mjx-test-inline .MathJax_left_box {display: inline-block; width: 0; float: left}
.mjx-test-inline .MathJax_right_box {display: inline-block; width: 0; float: right}
.mjx-test-display .MathJax_right_box {display: table-cell!important; width: 10000em!important; min-width: 0; max-width: none; padding: 0; border: 0; margin: 0}
.MathJax .MathJax_HitBox {cursor: text; background: white; opacity: 0; filter: alpha(opacity=0)}
.MathJax .MathJax_HitBox * {filter: none; opacity: 1; background: transparent}
#MathJax_Tooltip * {filter: none; opacity: 1; background: transparent}
@font-face {font-family: MathJax_Blank; src: url('about:blank')}
.MathJax .noError {vertical-align: ; font-size: 90%; text-align: left; color: black; padding: 1px 3px; border: 1px solid}
</style><style type="text/css">/*
 * Copyright (c) Jupyter Development Team.
 * Distributed under the terms of the Modified BSD License.
 */

/* Override the correction for the prompt area in https://github.com/jupyter/notebook/blob/dd41d9fd5c4f698bd7468612d877828a7eeb0e7a/IPython/html/static/notebook/less/outputarea.less#L110 */
.jupyter-widgets-output-area div.output_subarea {
    max-width: 100%;
}

/* Work-around for the bug fixed in https://github.com/jupyter/notebook/pull/2961 */
.jupyter-widgets-output-area > .out_prompt_overlay {
    display: none;
}
</style><style type="text/css">/*-----------------------------------------------------------------------------
| Copyright (c) 2014-2017, PhosphorJS Contributors
|
| Distributed under the terms of the BSD 3-Clause License.
|
| The full license is in the file LICENSE, distributed with this software.
|----------------------------------------------------------------------------*/


.p-Widget {
  box-sizing: border-box;
  position: relative;
  overflow: hidden;
  cursor: default;
}


.p-Widget.p-mod-hidden {
  display: none !important;
}
</style><style type="text/css">/*-----------------------------------------------------------------------------
| Copyright (c) 2014-2017, PhosphorJS Contributors
|
| Distributed under the terms of the BSD 3-Clause License.
|
| The full license is in the file LICENSE, distributed with this software.
|----------------------------------------------------------------------------*/


.p-CommandPalette {
  display: flex;
  flex-direction: column;
  -webkit-user-select: none;
  -moz-user-select: none;
  -ms-user-select: none;
  user-select: none;
}


.p-CommandPalette-search {
  flex: 0 0 auto;
}


.p-CommandPalette-content {
  flex: 1 1 auto;
  margin: 0;
  padding: 0;
  min-height: 0;
  overflow: auto;
  list-style-type: none;
}


.p-CommandPalette-header {
  overflow: hidden;
  white-space: nowrap;
  text-overflow: ellipsis;
}


.p-CommandPalette-item {
  display: flex;
  flex-direction: row;
}


.p-CommandPalette-itemIcon {
  flex: 0 0 auto;
}


.p-CommandPalette-itemContent {
  flex: 1 1 auto;
  overflow: hidden;
}


.p-CommandPalette-itemShortcut {
  flex: 0 0 auto;
}


.p-CommandPalette-itemLabel {
  overflow: hidden;
  white-space: nowrap;
  text-overflow: ellipsis;
}
</style><style type="text/css">/*-----------------------------------------------------------------------------
| Copyright (c) 2014-2017, PhosphorJS Contributors
|
| Distributed under the terms of the BSD 3-Clause License.
|
| The full license is in the file LICENSE, distributed with this software.
|----------------------------------------------------------------------------*/


.p-DockPanel {
  z-index: 0;
}


.p-DockPanel-widget {
  z-index: 0;
}


.p-DockPanel-tabBar {
  z-index: 1;
}


.p-DockPanel-handle {
  z-index: 2;
}


.p-DockPanel-handle.p-mod-hidden {
  display: none !important;
}


.p-DockPanel-handle:after {
  position: absolute;
  top: 0;
  left: 0;
  width: 100%;
  height: 100%;
  content: '';
}


.p-DockPanel-handle[data-orientation='horizontal'] {
  cursor: ew-resize;
}


.p-DockPanel-handle[data-orientation='vertical'] {
  cursor: ns-resize;
}


.p-DockPanel-handle[data-orientation='horizontal']:after {
  left: 50%;
  min-width: 8px;
  transform: translateX(-50%);
}


.p-DockPanel-handle[data-orientation='vertical']:after {
  top: 50%;
  min-height: 8px;
  transform: translateY(-50%);
}


.p-DockPanel-overlay {
  z-index: 3;
  box-sizing: border-box;
  pointer-events: none;
}


.p-DockPanel-overlay.p-mod-hidden {
  display: none !important;
}
</style><style type="text/css">/*-----------------------------------------------------------------------------
| Copyright (c) 2014-2017, PhosphorJS Contributors
|
| Distributed under the terms of the BSD 3-Clause License.
|
| The full license is in the file LICENSE, distributed with this software.
|----------------------------------------------------------------------------*/


.p-Menu {
  z-index: 10000;
  position: absolute;
  white-space: nowrap;
  overflow-x: hidden;
  overflow-y: auto;
  outline: none;
  -webkit-user-select: none;
  -moz-user-select: none;
  -ms-user-select: none;
  user-select: none;
}


.p-Menu-content {
  margin: 0;
  padding: 0;
  display: table;
  list-style-type: none;
}


.p-Menu-item {
  display: table-row;
}


.p-Menu-item.p-mod-hidden,
.p-Menu-item.p-mod-collapsed {
  display: none !important;
}


.p-Menu-itemIcon,
.p-Menu-itemSubmenuIcon {
  display: table-cell;
  text-align: center;
}


.p-Menu-itemLabel {
  display: table-cell;
  text-align: left;
}


.p-Menu-itemShortcut {
  display: table-cell;
  text-align: right;
}
</style><style type="text/css">/*-----------------------------------------------------------------------------
| Copyright (c) 2014-2017, PhosphorJS Contributors
|
| Distributed under the terms of the BSD 3-Clause License.
|
| The full license is in the file LICENSE, distributed with this software.
|----------------------------------------------------------------------------*/


.p-MenuBar {
  outline: none;
  -webkit-user-select: none;
  -moz-user-select: none;
  -ms-user-select: none;
  user-select: none;
}


.p-MenuBar-content {
  margin: 0;
  padding: 0;
  display: flex;
  flex-direction: row;
  list-style-type: none;
}


.p-MenuBar-item {
  box-sizing: border-box;
}


.p-MenuBar-itemIcon,
.p-MenuBar-itemLabel {
  display: inline-block;
}
</style><style type="text/css">/*-----------------------------------------------------------------------------
| Copyright (c) 2014-2017, PhosphorJS Contributors
|
| Distributed under the terms of the BSD 3-Clause License.
|
| The full license is in the file LICENSE, distributed with this software.
|----------------------------------------------------------------------------*/


.p-ScrollBar {
  display: flex;
  -webkit-user-select: none;
  -moz-user-select: none;
  -ms-user-select: none;
  user-select: none;
}


.p-ScrollBar[data-orientation='horizontal'] {
  flex-direction: row;
}


.p-ScrollBar[data-orientation='vertical'] {
  flex-direction: column;
}


.p-ScrollBar-button {
  box-sizing: border-box;
  flex: 0 0 auto;
}


.p-ScrollBar-track {
  box-sizing: border-box;
  position: relative;
  overflow: hidden;
  flex: 1 1 auto;
}


.p-ScrollBar-thumb {
  box-sizing: border-box;
  position: absolute;
}
</style><style type="text/css">/*-----------------------------------------------------------------------------
| Copyright (c) 2014-2017, PhosphorJS Contributors
|
| Distributed under the terms of the BSD 3-Clause License.
|
| The full license is in the file LICENSE, distributed with this software.
|----------------------------------------------------------------------------*/


.p-SplitPanel-child {
  z-index: 0;
}


.p-SplitPanel-handle {
  z-index: 1;
}


.p-SplitPanel-handle.p-mod-hidden {
  display: none !important;
}


.p-SplitPanel-handle:after {
  position: absolute;
  top: 0;
  left: 0;
  width: 100%;
  height: 100%;
  content: '';
}


.p-SplitPanel[data-orientation='horizontal'] > .p-SplitPanel-handle {
  cursor: ew-resize;
}


.p-SplitPanel[data-orientation='vertical'] > .p-SplitPanel-handle {
  cursor: ns-resize;
}


.p-SplitPanel[data-orientation='horizontal'] > .p-SplitPanel-handle:after {
  left: 50%;
  min-width: 8px;
  transform: translateX(-50%);
}


.p-SplitPanel[data-orientation='vertical'] > .p-SplitPanel-handle:after {
  top: 50%;
  min-height: 8px;
  transform: translateY(-50%);
}
</style><style type="text/css">/*-----------------------------------------------------------------------------
| Copyright (c) 2014-2017, PhosphorJS Contributors
|
| Distributed under the terms of the BSD 3-Clause License.
|
| The full license is in the file LICENSE, distributed with this software.
|----------------------------------------------------------------------------*/


.p-TabBar {
  display: flex;
  -webkit-user-select: none;
  -moz-user-select: none;
  -ms-user-select: none;
  user-select: none;
}


.p-TabBar[data-orientation='horizontal'] {
  flex-direction: row;
}


.p-TabBar[data-orientation='vertical'] {
  flex-direction: column;
}


.p-TabBar-content {
  margin: 0;
  padding: 0;
  display: flex;
  flex: 1 1 auto;
  list-style-type: none;
}


.p-TabBar[data-orientation='horizontal'] > .p-TabBar-content {
  flex-direction: row;
}


.p-TabBar[data-orientation='vertical'] > .p-TabBar-content {
  flex-direction: column;
}


.p-TabBar-tab {
  display: flex;
  flex-direction: row;
  box-sizing: border-box;
  overflow: hidden;
}


.p-TabBar-tabIcon,
.p-TabBar-tabCloseIcon {
  flex: 0 0 auto;
}


.p-TabBar-tabLabel {
  flex: 1 1 auto;
  overflow: hidden;
  white-space: nowrap;
}


.p-TabBar-tab.p-mod-hidden {
  display: none !important;
}


.p-TabBar.p-mod-dragging .p-TabBar-tab {
  position: relative;
}


.p-TabBar.p-mod-dragging[data-orientation='horizontal'] .p-TabBar-tab {
  left: 0;
  transition: left 150ms ease;
}


.p-TabBar.p-mod-dragging[data-orientation='vertical'] .p-TabBar-tab {
  top: 0;
  transition: top 150ms ease;
}


.p-TabBar.p-mod-dragging .p-TabBar-tab.p-mod-dragging {
  transition: none;
}
</style><style type="text/css">/*-----------------------------------------------------------------------------
| Copyright (c) 2014-2017, PhosphorJS Contributors
|
| Distributed under the terms of the BSD 3-Clause License.
|
| The full license is in the file LICENSE, distributed with this software.
|----------------------------------------------------------------------------*/


.p-TabPanel-tabBar {
  z-index: 1;
}


.p-TabPanel-stackedPanel {
  z-index: 0;
}
</style><style type="text/css">/*-----------------------------------------------------------------------------
| Copyright (c) 2014-2017, PhosphorJS Contributors
|
| Distributed under the terms of the BSD 3-Clause License.
|
| The full license is in the file LICENSE, distributed with this software.
|----------------------------------------------------------------------------*/
</style><style type="text/css">/* Copyright (c) Jupyter Development Team.
 * Distributed under the terms of the Modified BSD License.
 */

 .jupyter-widgets-disconnected::before {
    content: "\f127"; /* chain-broken */
    display: inline-block;
    font: normal normal normal 14px/1 FontAwesome;
    font-size: inherit;
    text-rendering: auto;
    -webkit-font-smoothing: antialiased;
    -moz-osx-font-smoothing: grayscale;
    color: #d9534f;
    padding: 3px;
    align-self: flex-start;
}
</style><style type="text/css">/**
 * The material design colors are adapted from google-material-color v1.2.6
 * https://github.com/danlevan/google-material-color
 * https://github.com/danlevan/google-material-color/blob/f67ca5f4028b2f1b34862f64b0ca67323f91b088/dist/palette.var.css
 *
 * The license for the material design color CSS variables is as follows (see
 * https://github.com/danlevan/google-material-color/blob/f67ca5f4028b2f1b34862f64b0ca67323f91b088/LICENSE)
 *
 * The MIT License (MIT)
 *
 * Copyright (c) 2014 Dan Le Van
 *
 * Permission is hereby granted, free of charge, to any person obtaining a copy
 * of this software and associated documentation files (the "Software"), to deal
 * in the Software without restriction, including without limitation the rights
 * to use, copy, modify, merge, publish, distribute, sublicense, and/or sell
 * copies of the Software, and to permit persons to whom the Software is
 * furnished to do so, subject to the following conditions:
 *
 * The above copyright notice and this permission notice shall be included in
 * all copies or substantial portions of the Software.
 *
 * THE SOFTWARE IS PROVIDED "AS IS", WITHOUT WARRANTY OF ANY KIND, EXPRESS OR
 * IMPLIED, INCLUDING BUT NOT LIMITED TO THE WARRANTIES OF MERCHANTABILITY,
 * FITNESS FOR A PARTICULAR PURPOSE AND NONINFRINGEMENT. IN NO EVENT SHALL THE
 * AUTHORS OR COPYRIGHT HOLDERS BE LIABLE FOR ANY CLAIM, DAMAGES OR OTHER
 * LIABILITY, WHETHER IN AN ACTION OF CONTRACT, TORT OR OTHERWISE, ARISING FROM,
 * OUT OF OR IN CONNECTION WITH THE SOFTWARE OR THE USE OR OTHER DEALINGS IN THE
 * SOFTWARE.
 */
:root {
  --md-red-50: #FFEBEE;
  --md-red-100: #FFCDD2;
  --md-red-200: #EF9A9A;
  --md-red-300: #E57373;
  --md-red-400: #EF5350;
  --md-red-500: #F44336;
  --md-red-600: #E53935;
  --md-red-700: #D32F2F;
  --md-red-800: #C62828;
  --md-red-900: #B71C1C;
  --md-red-A100: #FF8A80;
  --md-red-A200: #FF5252;
  --md-red-A400: #FF1744;
  --md-red-A700: #D50000;

  --md-pink-50: #FCE4EC;
  --md-pink-100: #F8BBD0;
  --md-pink-200: #F48FB1;
  --md-pink-300: #F06292;
  --md-pink-400: #EC407A;
  --md-pink-500: #E91E63;
  --md-pink-600: #D81B60;
  --md-pink-700: #C2185B;
  --md-pink-800: #AD1457;
  --md-pink-900: #880E4F;
  --md-pink-A100: #FF80AB;
  --md-pink-A200: #FF4081;
  --md-pink-A400: #F50057;
  --md-pink-A700: #C51162;

  --md-purple-50: #F3E5F5;
  --md-purple-100: #E1BEE7;
  --md-purple-200: #CE93D8;
  --md-purple-300: #BA68C8;
  --md-purple-400: #AB47BC;
  --md-purple-500: #9C27B0;
  --md-purple-600: #8E24AA;
  --md-purple-700: #7B1FA2;
  --md-purple-800: #6A1B9A;
  --md-purple-900: #4A148C;
  --md-purple-A100: #EA80FC;
  --md-purple-A200: #E040FB;
  --md-purple-A400: #D500F9;
  --md-purple-A700: #AA00FF;

  --md-deep-purple-50: #EDE7F6;
  --md-deep-purple-100: #D1C4E9;
  --md-deep-purple-200: #B39DDB;
  --md-deep-purple-300: #9575CD;
  --md-deep-purple-400: #7E57C2;
  --md-deep-purple-500: #673AB7;
  --md-deep-purple-600: #5E35B1;
  --md-deep-purple-700: #512DA8;
  --md-deep-purple-800: #4527A0;
  --md-deep-purple-900: #311B92;
  --md-deep-purple-A100: #B388FF;
  --md-deep-purple-A200: #7C4DFF;
  --md-deep-purple-A400: #651FFF;
  --md-deep-purple-A700: #6200EA;

  --md-indigo-50: #E8EAF6;
  --md-indigo-100: #C5CAE9;
  --md-indigo-200: #9FA8DA;
  --md-indigo-300: #7986CB;
  --md-indigo-400: #5C6BC0;
  --md-indigo-500: #3F51B5;
  --md-indigo-600: #3949AB;
  --md-indigo-700: #303F9F;
  --md-indigo-800: #283593;
  --md-indigo-900: #1A237E;
  --md-indigo-A100: #8C9EFF;
  --md-indigo-A200: #536DFE;
  --md-indigo-A400: #3D5AFE;
  --md-indigo-A700: #304FFE;

  --md-blue-50: #E3F2FD;
  --md-blue-100: #BBDEFB;
  --md-blue-200: #90CAF9;
  --md-blue-300: #64B5F6;
  --md-blue-400: #42A5F5;
  --md-blue-500: #2196F3;
  --md-blue-600: #1E88E5;
  --md-blue-700: #1976D2;
  --md-blue-800: #1565C0;
  --md-blue-900: #0D47A1;
  --md-blue-A100: #82B1FF;
  --md-blue-A200: #448AFF;
  --md-blue-A400: #2979FF;
  --md-blue-A700: #2962FF;

  --md-light-blue-50: #E1F5FE;
  --md-light-blue-100: #B3E5FC;
  --md-light-blue-200: #81D4FA;
  --md-light-blue-300: #4FC3F7;
  --md-light-blue-400: #29B6F6;
  --md-light-blue-500: #03A9F4;
  --md-light-blue-600: #039BE5;
  --md-light-blue-700: #0288D1;
  --md-light-blue-800: #0277BD;
  --md-light-blue-900: #01579B;
  --md-light-blue-A100: #80D8FF;
  --md-light-blue-A200: #40C4FF;
  --md-light-blue-A400: #00B0FF;
  --md-light-blue-A700: #0091EA;

  --md-cyan-50: #E0F7FA;
  --md-cyan-100: #B2EBF2;
  --md-cyan-200: #80DEEA;
  --md-cyan-300: #4DD0E1;
  --md-cyan-400: #26C6DA;
  --md-cyan-500: #00BCD4;
  --md-cyan-600: #00ACC1;
  --md-cyan-700: #0097A7;
  --md-cyan-800: #00838F;
  --md-cyan-900: #006064;
  --md-cyan-A100: #84FFFF;
  --md-cyan-A200: #18FFFF;
  --md-cyan-A400: #00E5FF;
  --md-cyan-A700: #00B8D4;

  --md-teal-50: #E0F2F1;
  --md-teal-100: #B2DFDB;
  --md-teal-200: #80CBC4;
  --md-teal-300: #4DB6AC;
  --md-teal-400: #26A69A;
  --md-teal-500: #009688;
  --md-teal-600: #00897B;
  --md-teal-700: #00796B;
  --md-teal-800: #00695C;
  --md-teal-900: #004D40;
  --md-teal-A100: #A7FFEB;
  --md-teal-A200: #64FFDA;
  --md-teal-A400: #1DE9B6;
  --md-teal-A700: #00BFA5;

  --md-green-50: #E8F5E9;
  --md-green-100: #C8E6C9;
  --md-green-200: #A5D6A7;
  --md-green-300: #81C784;
  --md-green-400: #66BB6A;
  --md-green-500: #4CAF50;
  --md-green-600: #43A047;
  --md-green-700: #388E3C;
  --md-green-800: #2E7D32;
  --md-green-900: #1B5E20;
  --md-green-A100: #B9F6CA;
  --md-green-A200: #69F0AE;
  --md-green-A400: #00E676;
  --md-green-A700: #00C853;

  --md-light-green-50: #F1F8E9;
  --md-light-green-100: #DCEDC8;
  --md-light-green-200: #C5E1A5;
  --md-light-green-300: #AED581;
  --md-light-green-400: #9CCC65;
  --md-light-green-500: #8BC34A;
  --md-light-green-600: #7CB342;
  --md-light-green-700: #689F38;
  --md-light-green-800: #558B2F;
  --md-light-green-900: #33691E;
  --md-light-green-A100: #CCFF90;
  --md-light-green-A200: #B2FF59;
  --md-light-green-A400: #76FF03;
  --md-light-green-A700: #64DD17;

  --md-lime-50: #F9FBE7;
  --md-lime-100: #F0F4C3;
  --md-lime-200: #E6EE9C;
  --md-lime-300: #DCE775;
  --md-lime-400: #D4E157;
  --md-lime-500: #CDDC39;
  --md-lime-600: #C0CA33;
  --md-lime-700: #AFB42B;
  --md-lime-800: #9E9D24;
  --md-lime-900: #827717;
  --md-lime-A100: #F4FF81;
  --md-lime-A200: #EEFF41;
  --md-lime-A400: #C6FF00;
  --md-lime-A700: #AEEA00;

  --md-yellow-50: #FFFDE7;
  --md-yellow-100: #FFF9C4;
  --md-yellow-200: #FFF59D;
  --md-yellow-300: #FFF176;
  --md-yellow-400: #FFEE58;
  --md-yellow-500: #FFEB3B;
  --md-yellow-600: #FDD835;
  --md-yellow-700: #FBC02D;
  --md-yellow-800: #F9A825;
  --md-yellow-900: #F57F17;
  --md-yellow-A100: #FFFF8D;
  --md-yellow-A200: #FFFF00;
  --md-yellow-A400: #FFEA00;
  --md-yellow-A700: #FFD600;

  --md-amber-50: #FFF8E1;
  --md-amber-100: #FFECB3;
  --md-amber-200: #FFE082;
  --md-amber-300: #FFD54F;
  --md-amber-400: #FFCA28;
  --md-amber-500: #FFC107;
  --md-amber-600: #FFB300;
  --md-amber-700: #FFA000;
  --md-amber-800: #FF8F00;
  --md-amber-900: #FF6F00;
  --md-amber-A100: #FFE57F;
  --md-amber-A200: #FFD740;
  --md-amber-A400: #FFC400;
  --md-amber-A700: #FFAB00;

  --md-orange-50: #FFF3E0;
  --md-orange-100: #FFE0B2;
  --md-orange-200: #FFCC80;
  --md-orange-300: #FFB74D;
  --md-orange-400: #FFA726;
  --md-orange-500: #FF9800;
  --md-orange-600: #FB8C00;
  --md-orange-700: #F57C00;
  --md-orange-800: #EF6C00;
  --md-orange-900: #E65100;
  --md-orange-A100: #FFD180;
  --md-orange-A200: #FFAB40;
  --md-orange-A400: #FF9100;
  --md-orange-A700: #FF6D00;

  --md-deep-orange-50: #FBE9E7;
  --md-deep-orange-100: #FFCCBC;
  --md-deep-orange-200: #FFAB91;
  --md-deep-orange-300: #FF8A65;
  --md-deep-orange-400: #FF7043;
  --md-deep-orange-500: #FF5722;
  --md-deep-orange-600: #F4511E;
  --md-deep-orange-700: #E64A19;
  --md-deep-orange-800: #D84315;
  --md-deep-orange-900: #BF360C;
  --md-deep-orange-A100: #FF9E80;
  --md-deep-orange-A200: #FF6E40;
  --md-deep-orange-A400: #FF3D00;
  --md-deep-orange-A700: #DD2C00;

  --md-brown-50: #EFEBE9;
  --md-brown-100: #D7CCC8;
  --md-brown-200: #BCAAA4;
  --md-brown-300: #A1887F;
  --md-brown-400: #8D6E63;
  --md-brown-500: #795548;
  --md-brown-600: #6D4C41;
  --md-brown-700: #5D4037;
  --md-brown-800: #4E342E;
  --md-brown-900: #3E2723;

  --md-grey-50: #FAFAFA;
  --md-grey-100: #F5F5F5;
  --md-grey-200: #EEEEEE;
  --md-grey-300: #E0E0E0;
  --md-grey-400: #BDBDBD;
  --md-grey-500: #9E9E9E;
  --md-grey-600: #757575;
  --md-grey-700: #616161;
  --md-grey-800: #424242;
  --md-grey-900: #212121;

  --md-blue-grey-50: #ECEFF1;
  --md-blue-grey-100: #CFD8DC;
  --md-blue-grey-200: #B0BEC5;
  --md-blue-grey-300: #90A4AE;
  --md-blue-grey-400: #78909C;
  --md-blue-grey-500: #607D8B;
  --md-blue-grey-600: #546E7A;
  --md-blue-grey-700: #455A64;
  --md-blue-grey-800: #37474F;
  --md-blue-grey-900: #263238;
}</style><style type="text/css">/*-----------------------------------------------------------------------------
| Copyright (c) Jupyter Development Team.
| Distributed under the terms of the Modified BSD License.
|----------------------------------------------------------------------------*/

/*
This file is copied from the JupyterLab project to define default styling for
when the widget styling is compiled down to eliminate CSS variables. We make one
change - we comment out the font import below.
*/

/*
The following CSS variables define the main, public API for styling JupyterLab.
These variables should be used by all plugins wherever possible. In other
words, plugins should not define custom colors, sizes, etc unless absolutely
necessary. This enables users to change the visual theme of JupyterLab
by changing these variables.

Many variables appear in an ordered sequence (0,1,2,3). These sequences
are designed to work well together, so for example, `--jp-border-color1` should
be used with `--jp-layout-color1`. The numbers have the following meanings:

* 0: super-primary, reserved for special emphasis
* 1: primary, most important under normal situations
* 2: secondary, next most important under normal situations
* 3: tertiary, next most important under normal situations

Throughout JupyterLab, we are mostly following principles from Google's
Material Design when selecting colors. We are not, however, following
all of MD as it is not optimized for dense, information rich UIs.
*/


/*
 * Optional monospace font for input/output prompt.
 */
 /* Commented out in ipywidgets since we don't need it. */
/* @import url('https://fonts.googleapis.com/css?family=Roboto+Mono'); */

/*
 * Added for compabitility with output area
 */
:root {
  --jp-icon-search: none;
  --jp-ui-select-caret: none;
}


:root {

  /* Borders

  The following variables, specify the visual styling of borders in JupyterLab.
   */

  --jp-border-width: 1px;
  --jp-border-color0: var(--md-grey-700);
  --jp-border-color1: var(--md-grey-500);
  --jp-border-color2: var(--md-grey-300);
  --jp-border-color3: var(--md-grey-100);

  /* UI Fonts

  The UI font CSS variables are used for the typography all of the JupyterLab
  user interface elements that are not directly user generated content.
  */

  --jp-ui-font-scale-factor: 1.2;
  --jp-ui-font-size0: calc(var(--jp-ui-font-size1)/var(--jp-ui-font-scale-factor));
  --jp-ui-font-size1: 13px; /* Base font size */
  --jp-ui-font-size2: calc(var(--jp-ui-font-size1)*var(--jp-ui-font-scale-factor));
  --jp-ui-font-size3: calc(var(--jp-ui-font-size2)*var(--jp-ui-font-scale-factor));
  --jp-ui-icon-font-size: 14px; /* Ensures px perfect FontAwesome icons */
  --jp-ui-font-family: "Helvetica Neue", Helvetica, Arial, sans-serif;

  /* Use these font colors against the corresponding main layout colors.
     In a light theme, these go from dark to light.
  */

  --jp-ui-font-color0: rgba(0,0,0,1.0);
  --jp-ui-font-color1: rgba(0,0,0,0.8);
  --jp-ui-font-color2: rgba(0,0,0,0.5);
  --jp-ui-font-color3: rgba(0,0,0,0.3);

  /* Use these against the brand/accent/warn/error colors.
     These will typically go from light to darker, in both a dark and light theme
   */

  --jp-inverse-ui-font-color0: rgba(255,255,255,1);
  --jp-inverse-ui-font-color1: rgba(255,255,255,1.0);
  --jp-inverse-ui-font-color2: rgba(255,255,255,0.7);
  --jp-inverse-ui-font-color3: rgba(255,255,255,0.5);

  /* Content Fonts

  Content font variables are used for typography of user generated content.
  */

  --jp-content-font-size: 13px;
  --jp-content-line-height: 1.5;
  --jp-content-font-color0: black;
  --jp-content-font-color1: black;
  --jp-content-font-color2: var(--md-grey-700);
  --jp-content-font-color3: var(--md-grey-500);

  --jp-ui-font-scale-factor: 1.2;
  --jp-ui-font-size0: calc(var(--jp-ui-font-size1)/var(--jp-ui-font-scale-factor));
  --jp-ui-font-size1: 13px; /* Base font size */
  --jp-ui-font-size2: calc(var(--jp-ui-font-size1)*var(--jp-ui-font-scale-factor));
  --jp-ui-font-size3: calc(var(--jp-ui-font-size2)*var(--jp-ui-font-scale-factor));

  --jp-code-font-size: 13px;
  --jp-code-line-height: 1.307;
  --jp-code-padding: 5px;
  --jp-code-font-family: monospace;


  /* Layout

  The following are the main layout colors use in JupyterLab. In a light
  theme these would go from light to dark.
  */

  --jp-layout-color0: white;
  --jp-layout-color1: white;
  --jp-layout-color2: var(--md-grey-200);
  --jp-layout-color3: var(--md-grey-400);

  /* Brand/accent */

  --jp-brand-color0: var(--md-blue-700);
  --jp-brand-color1: var(--md-blue-500);
  --jp-brand-color2: var(--md-blue-300);
  --jp-brand-color3: var(--md-blue-100);

  --jp-accent-color0: var(--md-green-700);
  --jp-accent-color1: var(--md-green-500);
  --jp-accent-color2: var(--md-green-300);
  --jp-accent-color3: var(--md-green-100);

  /* State colors (warn, error, success, info) */

  --jp-warn-color0: var(--md-orange-700);
  --jp-warn-color1: var(--md-orange-500);
  --jp-warn-color2: var(--md-orange-300);
  --jp-warn-color3: var(--md-orange-100);

  --jp-error-color0: var(--md-red-700);
  --jp-error-color1: var(--md-red-500);
  --jp-error-color2: var(--md-red-300);
  --jp-error-color3: var(--md-red-100);

  --jp-success-color0: var(--md-green-700);
  --jp-success-color1: var(--md-green-500);
  --jp-success-color2: var(--md-green-300);
  --jp-success-color3: var(--md-green-100);

  --jp-info-color0: var(--md-cyan-700);
  --jp-info-color1: var(--md-cyan-500);
  --jp-info-color2: var(--md-cyan-300);
  --jp-info-color3: var(--md-cyan-100);

  /* Cell specific styles */

  --jp-cell-padding: 5px;
  --jp-cell-editor-background: #f7f7f7;
  --jp-cell-editor-border-color: #cfcfcf;
  --jp-cell-editor-background-edit: var(--jp-ui-layout-color1);
  --jp-cell-editor-border-color-edit: var(--jp-brand-color1);
  --jp-cell-prompt-width: 100px;
  --jp-cell-prompt-font-family: 'Roboto Mono', monospace;
  --jp-cell-prompt-letter-spacing: 0px;
  --jp-cell-prompt-opacity: 1.0;
  --jp-cell-prompt-opacity-not-active: 0.4;
  --jp-cell-prompt-font-color-not-active: var(--md-grey-700);
  /* A custom blend of MD grey and blue 600
   * See https://meyerweb.com/eric/tools/color-blend/#546E7A:1E88E5:5:hex */
  --jp-cell-inprompt-font-color: #307FC1;
  /* A custom blend of MD grey and orange 600
   * https://meyerweb.com/eric/tools/color-blend/#546E7A:F4511E:5:hex */
  --jp-cell-outprompt-font-color: #BF5B3D;

  /* Notebook specific styles */

  --jp-notebook-padding: 10px;
  --jp-notebook-scroll-padding: 100px;

  /* Console specific styles */

  --jp-console-background: var(--md-grey-100);

  /* Toolbar specific styles */

  --jp-toolbar-border-color: var(--md-grey-400);
  --jp-toolbar-micro-height: 8px;
  --jp-toolbar-background: var(--jp-layout-color0);
  --jp-toolbar-box-shadow: 0px 0px 2px 0px rgba(0,0,0,0.24);
  --jp-toolbar-header-margin: 4px 4px 0px 4px;
  --jp-toolbar-active-background: var(--md-grey-300);
}
</style><style type="text/css">/* This file has code derived from PhosphorJS CSS files, as noted below. The license for this PhosphorJS code is:

Copyright (c) 2014-2017, PhosphorJS Contributors
All rights reserved.

Redistribution and use in source and binary forms, with or without
modification, are permitted provided that the following conditions are met:

* Redistributions of source code must retain the above copyright notice, this
  list of conditions and the following disclaimer.

* Redistributions in binary form must reproduce the above copyright notice,
  this list of conditions and the following disclaimer in the documentation
  and/or other materials provided with the distribution.

* Neither the name of the copyright holder nor the names of its
  contributors may be used to endorse or promote products derived from
  this software without specific prior written permission.

THIS SOFTWARE IS PROVIDED BY THE COPYRIGHT HOLDERS AND CONTRIBUTORS "AS IS"
AND ANY EXPRESS OR IMPLIED WARRANTIES, INCLUDING, BUT NOT LIMITED TO, THE
IMPLIED WARRANTIES OF MERCHANTABILITY AND FITNESS FOR A PARTICULAR PURPOSE ARE
DISCLAIMED. IN NO EVENT SHALL THE COPYRIGHT HOLDER OR CONTRIBUTORS BE LIABLE
FOR ANY DIRECT, INDIRECT, INCIDENTAL, SPECIAL, EXEMPLARY, OR CONSEQUENTIAL
DAMAGES (INCLUDING, BUT NOT LIMITED TO, PROCUREMENT OF SUBSTITUTE GOODS OR
SERVICES; LOSS OF USE, DATA, OR PROFITS; OR BUSINESS INTERRUPTION) HOWEVER
CAUSED AND ON ANY THEORY OF LIABILITY, WHETHER IN CONTRACT, STRICT LIABILITY,
OR TORT (INCLUDING NEGLIGENCE OR OTHERWISE) ARISING IN ANY WAY OUT OF THE USE
OF THIS SOFTWARE, EVEN IF ADVISED OF THE POSSIBILITY OF SUCH DAMAGE.

*/

/*
 * The following section is derived from https://github.com/phosphorjs/phosphor/blob/23b9d075ebc5b73ab148b6ebfc20af97f85714c4/packages/widgets/style/tabbar.css 
 * We've scoped the rules so that they are consistent with exactly our code.
 */

.jupyter-widgets.widget-tab > .p-TabBar {
  display: flex;
  -webkit-user-select: none;
  -moz-user-select: none;
  -ms-user-select: none;
  user-select: none;
}


.jupyter-widgets.widget-tab > .p-TabBar[data-orientation='horizontal'] {
  flex-direction: row;
}


.jupyter-widgets.widget-tab > .p-TabBar[data-orientation='vertical'] {
  flex-direction: column;
}


.jupyter-widgets.widget-tab > .p-TabBar > .p-TabBar-content {
  margin: 0;
  padding: 0;
  display: flex;
  flex: 1 1 auto;
  list-style-type: none;
}


.jupyter-widgets.widget-tab > .p-TabBar[data-orientation='horizontal'] > .p-TabBar-content {
  flex-direction: row;
}


.jupyter-widgets.widget-tab > .p-TabBar[data-orientation='vertical'] > .p-TabBar-content {
  flex-direction: column;
}


.jupyter-widgets.widget-tab > .p-TabBar .p-TabBar-tab {
  display: flex;
  flex-direction: row;
  box-sizing: border-box;
  overflow: hidden;
}


.jupyter-widgets.widget-tab > .p-TabBar .p-TabBar-tabIcon,
.jupyter-widgets.widget-tab > .p-TabBar .p-TabBar-tabCloseIcon {
  flex: 0 0 auto;
}


.jupyter-widgets.widget-tab > .p-TabBar .p-TabBar-tabLabel {
  flex: 1 1 auto;
  overflow: hidden;
  white-space: nowrap;
}


.jupyter-widgets.widget-tab > .p-TabBar .p-TabBar-tab.p-mod-hidden {
  display: none !important;
}


.jupyter-widgets.widget-tab > .p-TabBar.p-mod-dragging .p-TabBar-tab {
  position: relative;
}


.jupyter-widgets.widget-tab > .p-TabBar.p-mod-dragging[data-orientation='horizontal'] .p-TabBar-tab {
  left: 0;
  transition: left 150ms ease;
}


.jupyter-widgets.widget-tab > .p-TabBar.p-mod-dragging[data-orientation='vertical'] .p-TabBar-tab {
  top: 0;
  transition: top 150ms ease;
}


.jupyter-widgets.widget-tab > .p-TabBar.p-mod-dragging .p-TabBar-tab.p-mod-dragging {
  transition: none;
}

/* End tabbar.css */
</style><style type="text/css">/* Copyright (c) Jupyter Development Team.
 * Distributed under the terms of the Modified BSD License.
 */

/*
 * We assume that the CSS variables in
 * https://github.com/jupyterlab/jupyterlab/blob/master/src/default-theme/variables.css
 * have been defined.
 */

:root {
    --jp-widgets-color: var(--jp-content-font-color1);
    --jp-widgets-label-color: var(--jp-widgets-color);
    --jp-widgets-readout-color: var(--jp-widgets-color);
    --jp-widgets-font-size: var(--jp-ui-font-size1);
    --jp-widgets-margin: 2px;
    --jp-widgets-inline-height: 28px;
    --jp-widgets-inline-width: 300px;
    --jp-widgets-inline-width-short: calc(var(--jp-widgets-inline-width) / 2 - var(--jp-widgets-margin));
    --jp-widgets-inline-width-tiny: calc(var(--jp-widgets-inline-width-short) / 2 - var(--jp-widgets-margin));
    --jp-widgets-inline-margin: 4px; /* margin between inline elements */
    --jp-widgets-inline-label-width: 80px;
    --jp-widgets-border-width: var(--jp-border-width);
    --jp-widgets-vertical-height: 200px;
    --jp-widgets-horizontal-tab-height: 24px;
    --jp-widgets-horizontal-tab-width: 144px;
    --jp-widgets-horizontal-tab-top-border: 2px;
    --jp-widgets-progress-thickness: 20px;
    --jp-widgets-container-padding: 15px;
    --jp-widgets-input-padding: 4px;
    --jp-widgets-radio-item-height-adjustment: 8px;
    --jp-widgets-radio-item-height: calc(var(--jp-widgets-inline-height) - var(--jp-widgets-radio-item-height-adjustment));
    --jp-widgets-slider-track-thickness: 4px;
    --jp-widgets-slider-border-width: var(--jp-widgets-border-width);
    --jp-widgets-slider-handle-size: 16px;
    --jp-widgets-slider-handle-border-color: var(--jp-border-color1);
    --jp-widgets-slider-handle-background-color: var(--jp-layout-color1);
    --jp-widgets-slider-active-handle-color: var(--jp-brand-color1);
    --jp-widgets-menu-item-height: 24px;
    --jp-widgets-dropdown-arrow: url("data:image/svg+xml;base64,PD94bWwgdmVyc2lvbj0iMS4wIiBlbmNvZGluZz0idXRmLTgiPz4KPCEtLSBHZW5lcmF0b3I6IEFkb2JlIElsbHVzdHJhdG9yIDE5LjIuMSwgU1ZHIEV4cG9ydCBQbHVnLUluIC4gU1ZHIFZlcnNpb246IDYuMDAgQnVpbGQgMCkgIC0tPgo8c3ZnIHZlcnNpb249IjEuMSIgaWQ9IkxheWVyXzEiIHhtbG5zPSJodHRwOi8vd3d3LnczLm9yZy8yMDAwL3N2ZyIgeG1sbnM6eGxpbms9Imh0dHA6Ly93d3cudzMub3JnLzE5OTkveGxpbmsiIHg9IjBweCIgeT0iMHB4IgoJIHZpZXdCb3g9IjAgMCAxOCAxOCIgc3R5bGU9ImVuYWJsZS1iYWNrZ3JvdW5kOm5ldyAwIDAgMTggMTg7IiB4bWw6c3BhY2U9InByZXNlcnZlIj4KPHN0eWxlIHR5cGU9InRleHQvY3NzIj4KCS5zdDB7ZmlsbDpub25lO30KPC9zdHlsZT4KPHBhdGggZD0iTTUuMiw1LjlMOSw5LjdsMy44LTMuOGwxLjIsMS4ybC00LjksNWwtNC45LTVMNS4yLDUuOXoiLz4KPHBhdGggY2xhc3M9InN0MCIgZD0iTTAtMC42aDE4djE4SDBWLTAuNnoiLz4KPC9zdmc+Cg");
    --jp-widgets-input-color: var(--jp-ui-font-color1);
    --jp-widgets-input-background-color: var(--jp-layout-color1);
    --jp-widgets-input-border-color: var(--jp-border-color1);
    --jp-widgets-input-focus-border-color: var(--jp-brand-color2);
    --jp-widgets-input-border-width: var(--jp-widgets-border-width);
    --jp-widgets-disabled-opacity: 0.6;

    /* From Material Design Lite */
    --md-shadow-key-umbra-opacity: 0.2;
    --md-shadow-key-penumbra-opacity: 0.14;
    --md-shadow-ambient-shadow-opacity: 0.12;
}

.jupyter-widgets {
    margin: var(--jp-widgets-margin);
    box-sizing: border-box;
    color: var(--jp-widgets-color);
    overflow: visible;
}

.jupyter-widgets.jupyter-widgets-disconnected::before {
    line-height: var(--jp-widgets-inline-height);
    height: var(--jp-widgets-inline-height);
}

.jp-Output-result > .jupyter-widgets {
    margin-left: 0;
    margin-right: 0;
}

/* vbox and hbox */

.widget-inline-hbox {
    /* Horizontal widgets */
    box-sizing: border-box;
    display: flex;
    flex-direction: row;
    align-items: baseline;
}

.widget-inline-vbox {
    /* Vertical Widgets */
    box-sizing: border-box;
    display: flex;
    flex-direction: column;
    align-items: center;
}

.widget-box {
    box-sizing: border-box;
    display: flex;
    margin: 0;
    overflow: auto;
}

.widget-gridbox {
    box-sizing: border-box;
    display: grid;
    margin: 0;
    overflow: auto;
}

.widget-hbox {
    flex-direction: row;
}

.widget-vbox {
    flex-direction: column;
}

/* General Button Styling */

.jupyter-button {
    padding-left: 10px;
    padding-right: 10px;
    padding-top: 0px;
    padding-bottom: 0px;
    display: inline-block;
    white-space: nowrap;
    overflow: hidden;
    text-overflow: ellipsis;
    text-align: center;
    font-size: var(--jp-widgets-font-size);
    cursor: pointer;

    height: var(--jp-widgets-inline-height);
    border: 0px solid;
    line-height: var(--jp-widgets-inline-height);
    box-shadow: none;

    color: var(--jp-ui-font-color1);
    background-color: var(--jp-layout-color2);
    border-color: var(--jp-border-color2);
    border: none;
    user-select: none;
}

.jupyter-button i.fa {
    margin-right: var(--jp-widgets-inline-margin);
    pointer-events: none;
}

.jupyter-button:empty:before {
    content: "\200b"; /* zero-width space */
}

.jupyter-widgets.jupyter-button:disabled {
    opacity: var(--jp-widgets-disabled-opacity);
}

.jupyter-button i.fa.center {
    margin-right: 0;
}

.jupyter-button:hover:enabled, .jupyter-button:focus:enabled {
    /* MD Lite 2dp shadow */
    box-shadow: 0 2px 2px 0 rgba(0, 0, 0, var(--md-shadow-key-penumbra-opacity)),
                0 3px 1px -2px rgba(0, 0, 0, var(--md-shadow-key-umbra-opacity)),
                0 1px 5px 0 rgba(0, 0, 0, var(--md-shadow-ambient-shadow-opacity));
}

.jupyter-button:active, .jupyter-button.mod-active {
    /* MD Lite 4dp shadow */
    box-shadow: 0 4px 5px 0 rgba(0, 0, 0, var(--md-shadow-key-penumbra-opacity)),
                0 1px 10px 0 rgba(0, 0, 0, var(--md-shadow-ambient-shadow-opacity)),
                0 2px 4px -1px rgba(0, 0, 0, var(--md-shadow-key-umbra-opacity));
    color: var(--jp-ui-font-color1);
    background-color: var(--jp-layout-color3);
}

.jupyter-button:focus:enabled {
    outline: 1px solid var(--jp-widgets-input-focus-border-color);
}

/* Button "Primary" Styling */

.jupyter-button.mod-primary {
    color: var(--jp-inverse-ui-font-color1);
    background-color: var(--jp-brand-color1);
}

.jupyter-button.mod-primary.mod-active {
    color: var(--jp-inverse-ui-font-color0);
    background-color: var(--jp-brand-color0);
}

.jupyter-button.mod-primary:active {
    color: var(--jp-inverse-ui-font-color0);
    background-color: var(--jp-brand-color0);
}

/* Button "Success" Styling */

.jupyter-button.mod-success {
    color: var(--jp-inverse-ui-font-color1);
    background-color: var(--jp-success-color1);
}

.jupyter-button.mod-success.mod-active {
    color: var(--jp-inverse-ui-font-color0);
    background-color: var(--jp-success-color0);
 }

.jupyter-button.mod-success:active {
    color: var(--jp-inverse-ui-font-color0);
    background-color: var(--jp-success-color0);
 }

 /* Button "Info" Styling */

.jupyter-button.mod-info {
    color: var(--jp-inverse-ui-font-color1);
    background-color: var(--jp-info-color1);
}

.jupyter-button.mod-info.mod-active {
    color: var(--jp-inverse-ui-font-color0);
    background-color: var(--jp-info-color0);
}

.jupyter-button.mod-info:active {
    color: var(--jp-inverse-ui-font-color0);
    background-color: var(--jp-info-color0);
}

/* Button "Warning" Styling */

.jupyter-button.mod-warning {
    color: var(--jp-inverse-ui-font-color1);
    background-color: var(--jp-warn-color1);
}

.jupyter-button.mod-warning.mod-active {
    color: var(--jp-inverse-ui-font-color0);
    background-color: var(--jp-warn-color0);
}

.jupyter-button.mod-warning:active {
    color: var(--jp-inverse-ui-font-color0);
    background-color: var(--jp-warn-color0);
}

/* Button "Danger" Styling */

.jupyter-button.mod-danger {
    color: var(--jp-inverse-ui-font-color1);
    background-color: var(--jp-error-color1);
}

.jupyter-button.mod-danger.mod-active {
    color: var(--jp-inverse-ui-font-color0);
    background-color: var(--jp-error-color0);
}

.jupyter-button.mod-danger:active {
    color: var(--jp-inverse-ui-font-color0);
    background-color: var(--jp-error-color0);
}

/* Widget Button, Widget Toggle Button, Widget Upload */

.widget-button, .widget-toggle-button, .widget-upload {
    width: var(--jp-widgets-inline-width-short);
}

/* Widget Label Styling */

/* Override Bootstrap label css */
.jupyter-widgets label {
    margin-bottom: initial;
}

.widget-label-basic {
    /* Basic Label */
    color: var(--jp-widgets-label-color);
    font-size: var(--jp-widgets-font-size);
    overflow: hidden;
    text-overflow: ellipsis;
    white-space: nowrap;
    line-height: var(--jp-widgets-inline-height);
}

.widget-label {
    /* Label */
    color: var(--jp-widgets-label-color);
    font-size: var(--jp-widgets-font-size);
    overflow: hidden;
    text-overflow: ellipsis;
    white-space: nowrap;
    line-height: var(--jp-widgets-inline-height);
}

.widget-inline-hbox .widget-label {
    /* Horizontal Widget Label */
    color: var(--jp-widgets-label-color);
    text-align: right;
    margin-right: calc( var(--jp-widgets-inline-margin) * 2 );
    width: var(--jp-widgets-inline-label-width);
    flex-shrink: 0;
}

.widget-inline-vbox .widget-label {
    /* Vertical Widget Label */
    color: var(--jp-widgets-label-color);
    text-align: center;
    line-height: var(--jp-widgets-inline-height);
}

/* Widget Readout Styling */

.widget-readout {
    color: var(--jp-widgets-readout-color);
    font-size: var(--jp-widgets-font-size);
    height: var(--jp-widgets-inline-height);
    line-height: var(--jp-widgets-inline-height);
    overflow: hidden;
    white-space: nowrap;
    text-align: center;
}

.widget-readout.overflow {
    /* Overflowing Readout */

    /* From Material Design Lite
        shadow-key-umbra-opacity: 0.2;
        shadow-key-penumbra-opacity: 0.14;
        shadow-ambient-shadow-opacity: 0.12;
     */
    -webkit-box-shadow: 0 2px 2px 0 rgba(0, 0, 0, 0.2),
                        0 3px 1px -2px rgba(0, 0, 0, 0.14),
                        0 1px 5px 0 rgba(0, 0, 0, 0.12);

    -moz-box-shadow: 0 2px 2px 0 rgba(0, 0, 0, 0.2),
                     0 3px 1px -2px rgba(0, 0, 0, 0.14),
                     0 1px 5px 0 rgba(0, 0, 0, 0.12);

    box-shadow: 0 2px 2px 0 rgba(0, 0, 0, 0.2),
                0 3px 1px -2px rgba(0, 0, 0, 0.14),
                0 1px 5px 0 rgba(0, 0, 0, 0.12);
}

.widget-inline-hbox .widget-readout {
    /* Horizontal Readout */
    text-align: center;
    max-width: var(--jp-widgets-inline-width-short);
    min-width: var(--jp-widgets-inline-width-tiny);
    margin-left: var(--jp-widgets-inline-margin);
}

.widget-inline-vbox .widget-readout {
    /* Vertical Readout */
    margin-top: var(--jp-widgets-inline-margin);
    /* as wide as the widget */
    width: inherit;
}

/* Widget Checkbox Styling */

.widget-checkbox {
    width: var(--jp-widgets-inline-width);
    height: var(--jp-widgets-inline-height);
    line-height: var(--jp-widgets-inline-height);
}

.widget-checkbox input[type="checkbox"] {
    margin: 0px calc( var(--jp-widgets-inline-margin) * 2 ) 0px 0px;
    line-height: var(--jp-widgets-inline-height);
    font-size: large;
    flex-grow: 1;
    flex-shrink: 0;
    align-self: center;
}

/* Widget Valid Styling */

.widget-valid {
    height: var(--jp-widgets-inline-height);
    line-height: var(--jp-widgets-inline-height);
    width: var(--jp-widgets-inline-width-short);
    font-size: var(--jp-widgets-font-size);
}

.widget-valid i:before {
    line-height: var(--jp-widgets-inline-height);
    margin-right: var(--jp-widgets-inline-margin);
    margin-left: var(--jp-widgets-inline-margin);

    /* from the fa class in FontAwesome: https://github.com/FortAwesome/Font-Awesome/blob/49100c7c3a7b58d50baa71efef11af41a66b03d3/css/font-awesome.css#L14 */
    display: inline-block;
    font: normal normal normal 14px/1 FontAwesome;
    font-size: inherit;
    text-rendering: auto;
    -webkit-font-smoothing: antialiased;
    -moz-osx-font-smoothing: grayscale;
}

.widget-valid.mod-valid i:before {
    content: "\f00c";
    color: green;
}

.widget-valid.mod-invalid i:before {
    content: "\f00d";
    color: red;
}

.widget-valid.mod-valid .widget-valid-readout {
    display: none;
}

/* Widget Text and TextArea Stying */

.widget-textarea, .widget-text {
    width: var(--jp-widgets-inline-width);
}

.widget-text input[type="text"], .widget-text input[type="number"]{
    height: var(--jp-widgets-inline-height);
    line-height: var(--jp-widgets-inline-height);
}

.widget-text input[type="text"]:disabled, .widget-text input[type="number"]:disabled, .widget-textarea textarea:disabled {
    opacity: var(--jp-widgets-disabled-opacity);
}

.widget-text input[type="text"], .widget-text input[type="number"], .widget-textarea textarea {
    box-sizing: border-box;
    border: var(--jp-widgets-input-border-width) solid var(--jp-widgets-input-border-color);
    background-color: var(--jp-widgets-input-background-color);
    color: var(--jp-widgets-input-color);
    font-size: var(--jp-widgets-font-size);
    flex-grow: 1;
    min-width: 0; /* This makes it possible for the flexbox to shrink this input */
    flex-shrink: 1;
    outline: none !important;
}
    
.widget-text input[type="text"], .widget-textarea textarea {
    padding: var(--jp-widgets-input-padding) calc( var(--jp-widgets-input-padding) *  2);
}

.widget-text input[type="number"] {
    padding: var(--jp-widgets-input-padding) 0 var(--jp-widgets-input-padding) calc(var(--jp-widgets-input-padding) *  2);
}

.widget-textarea textarea {
    height: inherit;
    width: inherit;
}

.widget-text input:focus, .widget-textarea textarea:focus {
    border-color: var(--jp-widgets-input-focus-border-color);
}

/* Widget Slider */

.widget-slider .ui-slider {
    /* Slider Track */
    border: var(--jp-widgets-slider-border-width) solid var(--jp-layout-color3);
    background: var(--jp-layout-color3);
    box-sizing: border-box;
    position: relative;
    border-radius: 0px;
}

.widget-slider .ui-slider .ui-slider-handle {
    /* Slider Handle */
    outline: none !important; /* focused slider handles are colored - see below */
    position: absolute;
    background-color: var(--jp-widgets-slider-handle-background-color);
    border: var(--jp-widgets-slider-border-width) solid var(--jp-widgets-slider-handle-border-color);
    box-sizing: border-box;
    z-index: 1;
    background-image: none; /* Override jquery-ui */
}

/* Override jquery-ui */
.widget-slider .ui-slider .ui-slider-handle:hover, .widget-slider .ui-slider .ui-slider-handle:focus {
    background-color: var(--jp-widgets-slider-active-handle-color);
    border: var(--jp-widgets-slider-border-width) solid var(--jp-widgets-slider-active-handle-color);
}

.widget-slider .ui-slider .ui-slider-handle:active {
    background-color: var(--jp-widgets-slider-active-handle-color);
    border-color: var(--jp-widgets-slider-active-handle-color);
    z-index: 2;
    transform: scale(1.2);
}

.widget-slider  .ui-slider .ui-slider-range {
    /* Interval between the two specified value of a double slider */
    position: absolute;
    background: var(--jp-widgets-slider-active-handle-color);
    z-index: 0;
}

/* Shapes of Slider Handles */

.widget-hslider .ui-slider .ui-slider-handle {
    width: var(--jp-widgets-slider-handle-size);
    height: var(--jp-widgets-slider-handle-size);
    margin-top: calc((var(--jp-widgets-slider-track-thickness) - var(--jp-widgets-slider-handle-size)) / 2 - var(--jp-widgets-slider-border-width));
    margin-left: calc(var(--jp-widgets-slider-handle-size) / -2 + var(--jp-widgets-slider-border-width));
    border-radius: 50%;
    top: 0;
}

.widget-vslider .ui-slider .ui-slider-handle {
    width: var(--jp-widgets-slider-handle-size);
    height: var(--jp-widgets-slider-handle-size);
    margin-bottom: calc(var(--jp-widgets-slider-handle-size) / -2 + var(--jp-widgets-slider-border-width));
    margin-left: calc((var(--jp-widgets-slider-track-thickness) - var(--jp-widgets-slider-handle-size)) / 2 - var(--jp-widgets-slider-border-width));
    border-radius: 50%;
    left: 0;
}

.widget-hslider .ui-slider .ui-slider-range {
    height: calc( var(--jp-widgets-slider-track-thickness) * 2 );
    margin-top: calc((var(--jp-widgets-slider-track-thickness) - var(--jp-widgets-slider-track-thickness) * 2 ) / 2 - var(--jp-widgets-slider-border-width));
}

.widget-vslider .ui-slider .ui-slider-range {
    width: calc( var(--jp-widgets-slider-track-thickness) * 2 );
    margin-left: calc((var(--jp-widgets-slider-track-thickness) - var(--jp-widgets-slider-track-thickness) * 2 ) / 2 - var(--jp-widgets-slider-border-width));
}

/* Horizontal Slider */

.widget-hslider {
    width: var(--jp-widgets-inline-width);
    height: var(--jp-widgets-inline-height);
    line-height: var(--jp-widgets-inline-height);

    /* Override the align-items baseline. This way, the description and readout
    still seem to align their baseline properly, and we don't have to have
    align-self: stretch in the .slider-container. */
    align-items: center;
}

.widgets-slider .slider-container {
    overflow: visible;
}

.widget-hslider .slider-container {
    height: var(--jp-widgets-inline-height);
    margin-left: calc(var(--jp-widgets-slider-handle-size) / 2 - 2 * var(--jp-widgets-slider-border-width));
    margin-right: calc(var(--jp-widgets-slider-handle-size) / 2 - 2 * var(--jp-widgets-slider-border-width));
    flex: 1 1 var(--jp-widgets-inline-width-short);
}

.widget-hslider .ui-slider {
    /* Inner, invisible slide div */
    height: var(--jp-widgets-slider-track-thickness);
    margin-top: calc((var(--jp-widgets-inline-height) - var(--jp-widgets-slider-track-thickness)) / 2);
    width: 100%;
}

/* Vertical Slider */

.widget-vbox .widget-label {
    height: var(--jp-widgets-inline-height);
    line-height: var(--jp-widgets-inline-height);
}

.widget-vslider {
    /* Vertical Slider */
    height: var(--jp-widgets-vertical-height);
    width: var(--jp-widgets-inline-width-tiny);
}

.widget-vslider .slider-container {
    flex: 1 1 var(--jp-widgets-inline-width-short);
    margin-left: auto;
    margin-right: auto;
    margin-bottom: calc(var(--jp-widgets-slider-handle-size) / 2 - 2 * var(--jp-widgets-slider-border-width));
    margin-top: calc(var(--jp-widgets-slider-handle-size) / 2 - 2 * var(--jp-widgets-slider-border-width));
    display: flex;
    flex-direction: column;
}

.widget-vslider .ui-slider-vertical {
    /* Inner, invisible slide div */
    width: var(--jp-widgets-slider-track-thickness);
    flex-grow: 1;
    margin-left: auto;
    margin-right: auto;
}

/* Widget Progress Styling */

.progress-bar {
    -webkit-transition: none;
    -moz-transition: none;
    -ms-transition: none;
    -o-transition: none;
    transition: none;
}

.progress-bar {
    height: var(--jp-widgets-inline-height);
}

.progress-bar {
    background-color: var(--jp-brand-color1);
}

.progress-bar-success {
    background-color: var(--jp-success-color1);
}

.progress-bar-info {
    background-color: var(--jp-info-color1);
}

.progress-bar-warning {
    background-color: var(--jp-warn-color1);
}

.progress-bar-danger {
    background-color: var(--jp-error-color1);
}

.progress {
    background-color: var(--jp-layout-color2);
    border: none;
    box-shadow: none;
}

/* Horisontal Progress */

.widget-hprogress {
    /* Progress Bar */
    height: var(--jp-widgets-inline-height);
    line-height: var(--jp-widgets-inline-height);
    width: var(--jp-widgets-inline-width);
    align-items: center;

}

.widget-hprogress .progress {
    flex-grow: 1;
    margin-top: var(--jp-widgets-input-padding);
    margin-bottom: var(--jp-widgets-input-padding);
    align-self: stretch;
    /* Override bootstrap style */
    height: initial;
}

/* Vertical Progress */

.widget-vprogress {
    height: var(--jp-widgets-vertical-height);
    width: var(--jp-widgets-inline-width-tiny);
}

.widget-vprogress .progress {
    flex-grow: 1;
    width: var(--jp-widgets-progress-thickness);
    margin-left: auto;
    margin-right: auto;
    margin-bottom: 0;
}

/* Select Widget Styling */

.widget-dropdown {
    height: var(--jp-widgets-inline-height);
    width: var(--jp-widgets-inline-width);
    line-height: var(--jp-widgets-inline-height);
}

.widget-dropdown > select {
    padding-right: 20px;
    border: var(--jp-widgets-input-border-width) solid var(--jp-widgets-input-border-color);
    border-radius: 0;
    height: inherit;
    flex: 1 1 var(--jp-widgets-inline-width-short);
    min-width: 0; /* This makes it possible for the flexbox to shrink this input */
    box-sizing: border-box;
    outline: none !important;
    box-shadow: none;
    background-color: var(--jp-widgets-input-background-color);
    color: var(--jp-widgets-input-color);
    font-size: var(--jp-widgets-font-size);
    vertical-align: top;
    padding-left: calc( var(--jp-widgets-input-padding) * 2);
	appearance: none;
	-webkit-appearance: none;
	-moz-appearance: none;
    background-repeat: no-repeat;
	background-size: 20px;
	background-position: right center;
    background-image: var(--jp-widgets-dropdown-arrow);
}
.widget-dropdown > select:focus {
    border-color: var(--jp-widgets-input-focus-border-color);
}

.widget-dropdown > select:disabled {
    opacity: var(--jp-widgets-disabled-opacity);
}

/* To disable the dotted border in Firefox around select controls.
   See http://stackoverflow.com/a/18853002 */
.widget-dropdown > select:-moz-focusring {
    color: transparent;
    text-shadow: 0 0 0 #000;
}

/* Select and SelectMultiple */

.widget-select {
    width: var(--jp-widgets-inline-width);
    line-height: var(--jp-widgets-inline-height);

    /* Because Firefox defines the baseline of a select as the bottom of the
    control, we align the entire control to the top and add padding to the
    select to get an approximate first line baseline alignment. */
    align-items: flex-start;
}

.widget-select > select {
    border: var(--jp-widgets-input-border-width) solid var(--jp-widgets-input-border-color);
    background-color: var(--jp-widgets-input-background-color);
    color: var(--jp-widgets-input-color);
    font-size: var(--jp-widgets-font-size);
    flex: 1 1 var(--jp-widgets-inline-width-short);
    outline: none !important;
    overflow: auto;
    height: inherit;

    /* Because Firefox defines the baseline of a select as the bottom of the
    control, we align the entire control to the top and add padding to the
    select to get an approximate first line baseline alignment. */
    padding-top: 5px;
}

.widget-select > select:focus {
    border-color: var(--jp-widgets-input-focus-border-color);
}

.wiget-select > select > option {
    padding-left: var(--jp-widgets-input-padding);
    line-height: var(--jp-widgets-inline-height);
    /* line-height doesn't work on some browsers for select options */
    padding-top: calc(var(--jp-widgets-inline-height)-var(--jp-widgets-font-size)/2);
    padding-bottom: calc(var(--jp-widgets-inline-height)-var(--jp-widgets-font-size)/2);
}



/* Toggle Buttons Styling */

.widget-toggle-buttons {
    line-height: var(--jp-widgets-inline-height);
}

.widget-toggle-buttons .widget-toggle-button {
    margin-left: var(--jp-widgets-margin);
    margin-right: var(--jp-widgets-margin);
}

.widget-toggle-buttons .jupyter-button:disabled {
    opacity: var(--jp-widgets-disabled-opacity);
}

/* Radio Buttons Styling */

.widget-radio {
    width: var(--jp-widgets-inline-width);
    line-height: var(--jp-widgets-inline-height);
}

.widget-radio-box {
    display: flex;
    flex-direction: column;
    align-items: stretch;
    box-sizing: border-box;
    flex-grow: 1;
    margin-bottom: var(--jp-widgets-radio-item-height-adjustment);
}

.widget-radio-box label {
    height: var(--jp-widgets-radio-item-height);
    line-height: var(--jp-widgets-radio-item-height);
    font-size: var(--jp-widgets-font-size);
}

.widget-radio-box input {
    height: var(--jp-widgets-radio-item-height);
    line-height: var(--jp-widgets-radio-item-height);
    margin: 0 calc( var(--jp-widgets-input-padding) * 2 ) 0 1px;
    float: left;
}

/* Color Picker Styling */

.widget-colorpicker {
    width: var(--jp-widgets-inline-width);
    height: var(--jp-widgets-inline-height);
    line-height: var(--jp-widgets-inline-height);
}

.widget-colorpicker > .widget-colorpicker-input {
    flex-grow: 1;
    flex-shrink: 1;
    min-width: var(--jp-widgets-inline-width-tiny);
}

.widget-colorpicker input[type="color"] {
    width: var(--jp-widgets-inline-height);
    height: var(--jp-widgets-inline-height);
    padding: 0 2px; /* make the color square actually square on Chrome on OS X */
    background: var(--jp-widgets-input-background-color);
    color: var(--jp-widgets-input-color);
    border: var(--jp-widgets-input-border-width) solid var(--jp-widgets-input-border-color);
    border-left: none;
    flex-grow: 0;
    flex-shrink: 0;
    box-sizing: border-box;
    align-self: stretch;
    outline: none !important;
}

.widget-colorpicker.concise input[type="color"] {
    border-left: var(--jp-widgets-input-border-width) solid var(--jp-widgets-input-border-color);
}

.widget-colorpicker input[type="color"]:focus, .widget-colorpicker input[type="text"]:focus {
    border-color: var(--jp-widgets-input-focus-border-color);
}

.widget-colorpicker input[type="text"] {
    flex-grow: 1;
    outline: none !important;
    height: var(--jp-widgets-inline-height);
    line-height: var(--jp-widgets-inline-height);
    background: var(--jp-widgets-input-background-color);
    color: var(--jp-widgets-input-color);
    border: var(--jp-widgets-input-border-width) solid var(--jp-widgets-input-border-color);
    font-size: var(--jp-widgets-font-size);
    padding: var(--jp-widgets-input-padding) calc( var(--jp-widgets-input-padding) *  2 );
    min-width: 0; /* This makes it possible for the flexbox to shrink this input */
    flex-shrink: 1;
    box-sizing: border-box;
}

.widget-colorpicker input[type="text"]:disabled {
    opacity: var(--jp-widgets-disabled-opacity);
}

/* Date Picker Styling */

.widget-datepicker {
    width: var(--jp-widgets-inline-width);
    height: var(--jp-widgets-inline-height);
    line-height: var(--jp-widgets-inline-height);
}

.widget-datepicker input[type="date"] {
    flex-grow: 1;
    flex-shrink: 1;
    min-width: 0; /* This makes it possible for the flexbox to shrink this input */
    outline: none !important;
    height: var(--jp-widgets-inline-height);
    border: var(--jp-widgets-input-border-width) solid var(--jp-widgets-input-border-color);
    background-color: var(--jp-widgets-input-background-color);
    color: var(--jp-widgets-input-color);
    font-size: var(--jp-widgets-font-size);
    padding: var(--jp-widgets-input-padding) calc( var(--jp-widgets-input-padding) *  2 );
    box-sizing: border-box;
}

.widget-datepicker input[type="date"]:focus {
    border-color: var(--jp-widgets-input-focus-border-color);
}

.widget-datepicker input[type="date"]:invalid {
    border-color: var(--jp-warn-color1);
}

.widget-datepicker input[type="date"]:disabled {
    opacity: var(--jp-widgets-disabled-opacity);
}

/* Play Widget */

.widget-play {
    width: var(--jp-widgets-inline-width-short);
    display: flex;
    align-items: stretch;
}

.widget-play .jupyter-button {
    flex-grow: 1;
    height: auto;
}

.widget-play .jupyter-button:disabled {
    opacity: var(--jp-widgets-disabled-opacity);
}

/* Tab Widget */

.jupyter-widgets.widget-tab {
    display: flex;
    flex-direction: column;
}

.jupyter-widgets.widget-tab > .p-TabBar {
    /* Necessary so that a tab can be shifted down to overlay the border of the box below. */
    overflow-x: visible;
    overflow-y: visible;
}

.jupyter-widgets.widget-tab > .p-TabBar > .p-TabBar-content {
    /* Make sure that the tab grows from bottom up */
    align-items: flex-end;
    min-width: 0;
    min-height: 0;
}

.jupyter-widgets.widget-tab > .widget-tab-contents {
    width: 100%;
    box-sizing: border-box;
    margin: 0;
    background: var(--jp-layout-color1);
    color: var(--jp-ui-font-color1);
    border: var(--jp-border-width) solid var(--jp-border-color1);
    padding: var(--jp-widgets-container-padding);
    flex-grow: 1;
    overflow: auto;
}

.jupyter-widgets.widget-tab > .p-TabBar {
    font: var(--jp-widgets-font-size) Helvetica, Arial, sans-serif;
    min-height: calc(var(--jp-widgets-horizontal-tab-height) + var(--jp-border-width));
}

.jupyter-widgets.widget-tab > .p-TabBar .p-TabBar-tab {
    flex: 0 1 var(--jp-widgets-horizontal-tab-width);
    min-width: 35px;
    min-height: calc(var(--jp-widgets-horizontal-tab-height) + var(--jp-border-width));
    line-height: var(--jp-widgets-horizontal-tab-height);
    margin-left: calc(-1 * var(--jp-border-width));
    padding: 0px 10px;
    background: var(--jp-layout-color2);
    color: var(--jp-ui-font-color2);
    border: var(--jp-border-width) solid var(--jp-border-color1);
    border-bottom: none;
    position: relative;
}

.jupyter-widgets.widget-tab > .p-TabBar .p-TabBar-tab.p-mod-current {
    color: var(--jp-ui-font-color0);
    /* We want the background to match the tab content background */
    background: var(--jp-layout-color1);
    min-height: calc(var(--jp-widgets-horizontal-tab-height) + 2 * var(--jp-border-width));
    transform: translateY(var(--jp-border-width));
    overflow: visible;
}

.jupyter-widgets.widget-tab > .p-TabBar .p-TabBar-tab.p-mod-current:before {
    position: absolute;
    top: calc(-1 * var(--jp-border-width));
    left: calc(-1 * var(--jp-border-width));
    content: '';
    height: var(--jp-widgets-horizontal-tab-top-border);
    width: calc(100% + 2 * var(--jp-border-width));
    background: var(--jp-brand-color1);
}

.jupyter-widgets.widget-tab > .p-TabBar .p-TabBar-tab:first-child {
    margin-left: 0;
}

.jupyter-widgets.widget-tab > .p-TabBar .p-TabBar-tab:hover:not(.p-mod-current) {
    background: var(--jp-layout-color1);
    color: var(--jp-ui-font-color1);
}

.jupyter-widgets.widget-tab > .p-TabBar .p-mod-closable > .p-TabBar-tabCloseIcon {
    margin-left: 4px;
}

.jupyter-widgets.widget-tab > .p-TabBar .p-mod-closable > .p-TabBar-tabCloseIcon:before {
    font-family: FontAwesome;
    content: '\f00d'; /* close */
}

.jupyter-widgets.widget-tab > .p-TabBar .p-TabBar-tabIcon,
.jupyter-widgets.widget-tab > .p-TabBar .p-TabBar-tabLabel,
.jupyter-widgets.widget-tab > .p-TabBar .p-TabBar-tabCloseIcon {
    line-height: var(--jp-widgets-horizontal-tab-height);
}

/* Accordion Widget */

.p-Collapse {
    display: flex;
    flex-direction: column;
    align-items: stretch;
}

.p-Collapse-header {
    padding: var(--jp-widgets-input-padding);
    cursor: pointer;
    color: var(--jp-ui-font-color2);
    background-color: var(--jp-layout-color2);
    border: var(--jp-widgets-border-width) solid var(--jp-border-color1);
    padding: calc(var(--jp-widgets-container-padding) * 2 / 3) var(--jp-widgets-container-padding);
    font-weight: bold;
}

.p-Collapse-header:hover {
    background-color: var(--jp-layout-color1);
    color: var(--jp-ui-font-color1);
}

.p-Collapse-open > .p-Collapse-header {
    background-color: var(--jp-layout-color1);
    color: var(--jp-ui-font-color0);
    cursor: default;
    border-bottom: none;
}

.p-Collapse .p-Collapse-header::before {
    content: '\f0da\00A0';  /* caret-right, non-breaking space */
    display: inline-block;
    font: normal normal normal 14px/1 FontAwesome;
    font-size: inherit;
    text-rendering: auto;
    -webkit-font-smoothing: antialiased;
    -moz-osx-font-smoothing: grayscale;
}

.p-Collapse-open > .p-Collapse-header::before {
    content: '\f0d7\00A0'; /* caret-down, non-breaking space */
}

.p-Collapse-contents {
    padding: var(--jp-widgets-container-padding);
    background-color: var(--jp-layout-color1);
    color: var(--jp-ui-font-color1);
    border-left: var(--jp-widgets-border-width) solid var(--jp-border-color1);
    border-right: var(--jp-widgets-border-width) solid var(--jp-border-color1);
    border-bottom: var(--jp-widgets-border-width) solid var(--jp-border-color1);
    overflow: auto;
}

.p-Accordion {
    display: flex;
    flex-direction: column;
    align-items: stretch;
}

.p-Accordion .p-Collapse {
    margin-bottom: 0;
}

.p-Accordion .p-Collapse + .p-Collapse {
    margin-top: 4px;
}



/* HTML widget */

.widget-html, .widget-htmlmath {
    font-size: var(--jp-widgets-font-size);
}

.widget-html > .widget-html-content, .widget-htmlmath > .widget-html-content {
    /* Fill out the area in the HTML widget */
    align-self: stretch;
    flex-grow: 1;
    flex-shrink: 1;
    /* Makes sure the baseline is still aligned with other elements */
    line-height: var(--jp-widgets-inline-height);
    /* Make it possible to have absolutely-positioned elements in the html */
    position: relative;
}


/* Image widget  */

.widget-image {
    max-width: 100%;
    height: auto;
}
</style><style type="text/css">/* Copyright (c) Jupyter Development Team.
 * Distributed under the terms of the Modified BSD License.
 */
</style><link id="favicon" type="image/x-icon" rel="shortcut icon" href="http://localhost:8890/static/base/images/favicon-notebook.ico"></head>

<body class="notebook_app command_mode" data-jupyter-api-token="404c349d19a1d7c7ea6d1477cf84bcff56e2bafe58f81b1b" data-base-url="/" data-ws-url="" data-notebook-name="Untitled.ipynb" data-notebook-path="Untitled.ipynb" dir="ltr"><div style="visibility: hidden; overflow: hidden; position: absolute; top: 0px; height: 1px; width: auto; padding: 0px; border: 0px; margin: 0px; text-align: left; text-indent: 0px; text-transform: none; line-height: normal; letter-spacing: normal; word-spacing: normal;"><div id="MathJax_Hidden"></div></div><div id="MathJax_Message" style="display: none;"></div>

<noscript>
    <div id='noscript'>
      Jupyter Notebook requires JavaScript.<br>
      Please enable it to proceed. 
  </div>
</noscript>

<div id="header" role="navigation" aria-label="Top Menu" style="display: block;">
  <div id="header-container" class="container">
  <div id="ipython_notebook" class="nav navbar-brand"><a href="http://localhost:8890/tree?token=404c349d19a1d7c7ea6d1477cf84bcff56e2bafe58f81b1b" title="dashboard">
      <img src="./MaskClassifer_files/logo.png" alt="Jupyter Notebook">
  </a></div>

  


<span id="save_widget" class="save_widget">
    <span id="notebook_name" class="filename">MaskClassifer</span>
    <span class="checkpoint_status" title="Sa., 24. Apr. 2021 13:36">Last Checkpoint: vor einer Minute</span>
    <span class="autosave_status">(autosaved)</span>
</span>


  

<span id="kernel_logo_widget">
  
  <img class="current_kernel_logo" alt="Current Kernel Logo" src="./MaskClassifer_files/logo-64x64.png" title="Python 3" style="display: inline;">
  
</span>


  
  
  
  

    <span id="login_widget">
      
        <button id="logout" class="btn btn-sm navbar-btn">Logout</button>
      
    </span>

  

  
  
  </div>
  <div class="header-bar"></div>

  
<div id="menubar-container" class="container">
<div id="menubar">
    <div id="menus" class="navbar navbar-default" role="navigation">
        <div class="container-fluid">
            <button type="button" class="btn btn-default navbar-btn navbar-toggle" data-toggle="collapse" data-target=".navbar-collapse">
              <i class="fa fa-bars"></i>
              <span class="navbar-text">Menu</span>
            </button>
            <p id="kernel_indicator" class="navbar-text indicator_area">
              <span class="kernel_indicator_name">Python 3</span>
              <i id="kernel_indicator_icon" class="kernel_idle_icon" title="Kernel Idle"></i>
            </p>
            <i id="readonly-indicator" class="navbar-text" title="This notebook is read-only" style="display: none;">
                <span class="fa-stack">
                    <i class="fa fa-save fa-stack-1x"></i>
                    <i class="fa fa-ban fa-stack-2x text-danger"></i>
                </span>
            </i>
            <i id="modal_indicator" class="navbar-text modal_indicator" title="Command Mode"></i>
            <span id="notification_area"><div id="notification_kernel" class="notification_widget btn btn-xs navbar-btn undefined info" style="display: none;"><span></span></div><div id="notification_notebook" class="notification_widget btn btn-xs navbar-btn" style="display: none;"><span></span></div><div id="notification_trusted" class="notification_widget btn btn-xs navbar-btn" style="cursor: help;" disabled="disabled"><span title="Javascript enabled for notebook display">Trusted</span></div><div id="notification_widgets" class="notification_widget btn btn-xs navbar-btn" style="display: none;"><span></span></div></span>
            <div class="navbar-collapse collapse">
              <ul class="nav navbar-nav">
                <li class="dropdown"><a href="http://localhost:8890/notebooks/MaskClassifer.ipynb#" class="dropdown-toggle" id="filelink" data-toggle="dropdown" aria-haspopup="true" aria-controls="file_menu" aria-expanded="false">File</a>
                    <ul id="file_menu" class="dropdown-menu" role="menu" aria-labelledby="filelink">
                        <li id="new_notebook" class="menu_focus_highlight dropdown dropdown-submenu" role="none">
                            <a href="http://localhost:8890/notebooks/MaskClassifer.ipynb#" role="menuitem" aria-haspopup="true" aria-expanded="false" class="dropdown-toggle" data-toggle="dropdown">New Notebook<span class="sr-only">Dropdown</span></a>
                            <ul class="dropdown-menu" id="menu-new-notebook-submenu" role="menu">
                            <li id="new-notebook-submenu-python3"><a href="http://localhost:8890/notebooks/MaskClassifer.ipynb#">Python 3</a></li></ul>
                        </li>
                        <li id="open_notebook" role="none" title="Opens a new window with the Dashboard view">
                            <a href="http://localhost:8890/notebooks/MaskClassifer.ipynb#" role="menuitem">Open...</a></li>
                        <!-- <hr/> -->
                        <li class="divider" role="none"></li>
                        <li id="copy_notebook" role="none" title="Open a copy of this notebook&#39;s contents and start a new kernel">
                            <a href="http://localhost:8890/notebooks/MaskClassifer.ipynb#" role="menuitem">Make a Copy...</a></li>
                        <li id="save_notebook_as" role="none" title="Save a copy of the notebook&#39;s contents and start a new kernel">
                            <a href="http://localhost:8890/notebooks/MaskClassifer.ipynb#" role="menuitem">Save as...</a></li>
                        <li id="rename_notebook" role="none"><a href="http://localhost:8890/notebooks/MaskClassifer.ipynb#" role="menuitem">Rename...</a></li>
                        <li id="save_checkpoint" role="none"><a href="http://localhost:8890/notebooks/MaskClassifer.ipynb#" role="menuitem" class="menu-shortcut-container"><span class="action">Save and Checkpoint</span><span class="kb"><kbd>Ctrl-S</kbd></span></a></li>
                        <!-- <hr/> -->
                        <li class="divider" role="none"></li>
                        <li id="restore_checkpoint" class="menu_focus_highlight dropdown-submenu" role="none"><a href="http://localhost:8890/notebooks/MaskClassifer.ipynb#" role="menuitem" aria-haspopup="true" aria-expanded="false" class="dropdown-toggle" data-toggle="dropdown">Revert to Checkpoint<span class="sr-only">Dropdown</span></a>
                          <ul class="dropdown-menu"><li><a href="http://localhost:8890/notebooks/MaskClassifer.ipynb#">Samstag, 24. April 2021 13:36</a></li></ul>
                        </li>
                        <li class="divider" role="none"></li>
                        <li id="print_preview" role="none"><a href="http://localhost:8890/notebooks/MaskClassifer.ipynb#" role="menuitem">Print Preview</a></li>
                        <li class="dropdown-submenu menu_focus_highlight" role="none"><a href="http://localhost:8890/notebooks/MaskClassifer.ipynb#" role="menuitem" aria-haspopup="true" aria-expanded="false" class="dropdown-toggle" data-toggle="dropdown">Download as<span class="sr-only">Dropdown</span></a>
                            <ul id="download_menu" class="dropdown-menu">
                                
                                <li id="download_asciidoc">
                                    <a href="http://localhost:8890/notebooks/MaskClassifer.ipynb#">AsciiDoc (.asciidoc)</a>
                                </li>
                                
                                <li id="download_html">
                                    <a href="http://localhost:8890/notebooks/MaskClassifer.ipynb#">HTML (.html)</a>
                                </li>
                                
                                <li id="download_latex">
                                    <a href="http://localhost:8890/notebooks/MaskClassifer.ipynb#">LaTeX (.tex)</a>
                                </li>
                                
                                <li id="download_markdown">
                                    <a href="http://localhost:8890/notebooks/MaskClassifer.ipynb#">Markdown (.md)</a>
                                </li>
                                
                                <li id="download_notebook">
                                    <a href="http://localhost:8890/notebooks/MaskClassifer.ipynb#">Notebook (.ipynb)</a>
                                </li>
                                
                                <li id="download_pdf">
                                    <a href="http://localhost:8890/notebooks/MaskClassifer.ipynb#">PDF via LaTeX (.pdf)</a>
                                </li>
                                
                                <li id="download_rst">
                                    <a href="http://localhost:8890/notebooks/MaskClassifer.ipynb#">reST (.rst)</a>
                                </li>
                                
                                <li id="download_script">
                                    <a href="http://localhost:8890/notebooks/MaskClassifer.ipynb#">Python (.py)</a>
                                </li>
                                
                                <li id="download_slides">
                                    <a href="http://localhost:8890/notebooks/MaskClassifer.ipynb#">Reveal.js slides (.slides.html)</a>
                                </li>
                                
                            </ul>
                        </li>
                        <li class="dropdown-submenu hidden" role="none"><a href="http://localhost:8890/notebooks/MaskClassifer.ipynb#" role="menuitem">Deploy as</a>
                            <ul id="deploy_menu" class="dropdown-menu"></ul>
                        </li>
                        <li class="divider" role="none"></li>
                        <li id="trust_notebook" role="none" title="Trust the output of this notebook" class="disabled">
                            <a href="http://localhost:8890/notebooks/MaskClassifer.ipynb#" role="menuitem">Trusted Notebook</a></li>
                        <li class="divider" role="none"></li>
                        <li id="close_and_halt" role="none" title="Shutdown this notebook&#39;s kernel, and close this window">
                            <a href="http://localhost:8890/notebooks/MaskClassifer.ipynb#" role="menuitem">Close and Halt</a></li>
                    </ul>
                </li>

                <li class="dropdown"><a href="http://localhost:8890/notebooks/MaskClassifer.ipynb#" class="dropdown-toggle" id="editlink" data-toggle="dropdown" aria-haspopup="true" aria-controls="edit_menu">Edit</a>
                    <ul id="edit_menu" class="dropdown-menu" role="menu" aria-labelledby="editlink">
                        <li id="cut_cell" role="none"><a href="http://localhost:8890/notebooks/MaskClassifer.ipynb#" role="menuitem" class="menu-shortcut-container"><span class="action">Cut Cells</span><span class="kb"><kbd>X</kbd></span></a></li>
                        <li id="copy_cell" role="none"><a href="http://localhost:8890/notebooks/MaskClassifer.ipynb#" role="menuitem" class="menu-shortcut-container"><span class="action">Copy Cells</span><span class="kb"><kbd>C</kbd></span></a></li>
                        <li id="paste_cell_above" class="disabled" role="none"><a href="http://localhost:8890/notebooks/MaskClassifer.ipynb#" role="menuitem" aria-disabled="true" class="menu-shortcut-container"><span class="action">Paste Cells Above</span><span class="kb"><kbd>Shift-V</kbd></span></a></li>
                        <li id="paste_cell_below" class="disabled" role="none"><a href="http://localhost:8890/notebooks/MaskClassifer.ipynb#" role="menuitem" aria-disabled="true" class="menu-shortcut-container"><span class="action">Paste Cells Below</span><span class="kb"><kbd>V</kbd></span></a></li>
                        <li id="paste_cell_replace" class="disabled" role="none"><a href="http://localhost:8890/notebooks/MaskClassifer.ipynb#" role="menuitem" aria-disabled="true">Paste Cells &amp; Replace</a></li>
                        <li id="delete_cell" role="none"><a href="http://localhost:8890/notebooks/MaskClassifer.ipynb#" role="menuitem" class="menu-shortcut-container"><span class="action">Delete Cells</span><span class="kb"><kbd>D</kbd>,<kbd>D</kbd></span></a></li>
                        <li id="undelete_cell" class="disabled" role="none"><a href="http://localhost:8890/notebooks/MaskClassifer.ipynb#" role="menuitem" aria-disabled="true" class="menu-shortcut-container"><span class="action">Undo Delete Cells</span><span class="kb"><kbd>Z</kbd></span></a></li>
                        <li class="divider" role="none"></li>
                        <li id="split_cell" role="none"><a href="http://localhost:8890/notebooks/MaskClassifer.ipynb#" role="menuitem" class="menu-shortcut-container"><span class="action">Split Cell</span><span class="kb"><kbd>Ctrl-Shift-Minus</kbd></span></a></li>
                        <li id="merge_cell_above" role="none"><a href="http://localhost:8890/notebooks/MaskClassifer.ipynb#" role="menuitem">Merge Cell Above</a></li>
                        <li id="merge_cell_below" role="none"><a href="http://localhost:8890/notebooks/MaskClassifer.ipynb#" role="menuitem">Merge Cell Below</a></li>
                        <li class="divider" role="none"></li>
                        <li id="move_cell_up" role="none"><a href="http://localhost:8890/notebooks/MaskClassifer.ipynb#" role="menuitem">Move Cell Up</a></li>
                        <li id="move_cell_down" role="none"><a href="http://localhost:8890/notebooks/MaskClassifer.ipynb#" role="menuitem">Move Cell Down</a></li>
                        <li class="divider" role="none"></li>
                        <li id="edit_nb_metadata" role="none"><a href="http://localhost:8890/notebooks/MaskClassifer.ipynb#" role="menuitem">Edit Notebook Metadata</a></li>
                        <li class="divider" role="none"></li>
                        <li id="find_and_replace" role="none"><a href="http://localhost:8890/notebooks/MaskClassifer.ipynb#" role="menuitem"> Find and Replace </a></li>
                        <li class="divider" role="none"></li>
                        <li id="cut_cell_attachments" role="none"><a href="http://localhost:8890/notebooks/MaskClassifer.ipynb#" role="menuitem">Cut Cell Attachments</a></li>
                        <li id="copy_cell_attachments" role="none"><a href="http://localhost:8890/notebooks/MaskClassifer.ipynb#" role="menuitem">Copy Cell Attachments</a></li>
                        <li id="paste_cell_attachments" class="disabled" role="none"><a href="http://localhost:8890/notebooks/MaskClassifer.ipynb#" role="menuitem" aria-disabled="true">Paste Cell Attachments</a></li>
                        <li class="divider" role="none"></li>
                        <li id="insert_image" class="disabled" role="none"><a href="http://localhost:8890/notebooks/MaskClassifer.ipynb#" role="menuitem" aria-disabled="true">  Insert Image </a></li>
                    </ul>
                </li>
                <li class="dropdown"><a href="http://localhost:8890/notebooks/MaskClassifer.ipynb#" class="dropdown-toggle" id="viewlink" data-toggle="dropdown" aria-haspopup="true" aria-controls="view_menu">View</a>
                    <ul id="view_menu" class="dropdown-menu" role="menu" aria-labelledby="viewlink">
                        <li id="toggle_header" role="none" title="Show/Hide the logo and notebook title (above menu bar)">
                            <a href="http://localhost:8890/notebooks/MaskClassifer.ipynb#" role="menuitem">Toggle Header</a>
                        </li>
                        <li id="toggle_toolbar" role="none" title="Show/Hide the action icons (below menu bar)">
                            <a href="http://localhost:8890/notebooks/MaskClassifer.ipynb#" role="menuitem">Toggle Toolbar</a>
                        </li>
                        <li id="toggle_line_numbers" role="none" title="Show/Hide line numbers in cells">
                            <a href="http://localhost:8890/notebooks/MaskClassifer.ipynb#" role="menuitem" class="menu-shortcut-container"><span class="action">Toggle Line Numbers</span><span class="kb"><kbd>Shift-L</kbd></span></a>
                        </li>
                        <li id="menu-cell-toolbar" class="menu_focus_highlight dropdown-submenu" role="none">
                            <a href="http://localhost:8890/notebooks/MaskClassifer.ipynb#" role="menuitem" aria-haspopup="true" aria-expanded="false" class="dropdown-toggle" data-toggle="dropdown">Cell Toolbar</a>
                            <ul class="dropdown-menu" id="menu-cell-toolbar-submenu"><li data-name="None"><a href="http://localhost:8890/notebooks/MaskClassifer.ipynb#">None</a></li><li data-name="Edit%20Metadata"><a href="http://localhost:8890/notebooks/MaskClassifer.ipynb#">Edit Metadata</a></li><li data-name="Raw%20Cell%20Format"><a href="http://localhost:8890/notebooks/MaskClassifer.ipynb#">Raw Cell Format</a></li><li data-name="Slideshow"><a href="http://localhost:8890/notebooks/MaskClassifer.ipynb#">Slideshow</a></li><li data-name="Attachments"><a href="http://localhost:8890/notebooks/MaskClassifer.ipynb#">Attachments</a></li><li data-name="Tags"><a href="http://localhost:8890/notebooks/MaskClassifer.ipynb#">Tags</a></li></ul>
                        </li>
                    </ul>
                </li>
                <li class="dropdown"><a href="http://localhost:8890/notebooks/MaskClassifer.ipynb#" class="dropdown-toggle" id="insertlink" data-toggle="dropdown" aria-haspopup="true" aria-controls="insert_menu">Insert</a>
                    <ul id="insert_menu" class="dropdown-menu" role="menu" aria-labelledby="insertlink">
                        <li id="insert_cell_above" role="none" title="Insert an empty Code cell above the currently active cell">
                            <a href="http://localhost:8890/notebooks/MaskClassifer.ipynb#" role="menuitem" class="menu-shortcut-container"><span class="action">Insert Cell Above</span><span class="kb"><kbd>A</kbd></span></a></li>
                        <li id="insert_cell_below" role="none" title="Insert an empty Code cell below the currently active cell">
                            <a href="http://localhost:8890/notebooks/MaskClassifer.ipynb#" role="menuitem" class="menu-shortcut-container"><span class="action">Insert Cell Below</span><span class="kb"><kbd>B</kbd></span></a></li>
                    </ul>
                </li>
                <li class="dropdown"><a href="http://localhost:8890/notebooks/MaskClassifer.ipynb#" class="dropdown-toggle" id="celllink" data-toggle="dropdown" aria-haspopup="true" aria-controls="cell_menu">Cell</a>
                    <ul id="cell_menu" class="dropdown-menu" role="menu" aria-labelledby="celllink">
                        <li id="run_cell" role="none" title="Run this cell, and move cursor to the next one">
                            <a role="menuitem" href="http://localhost:8890/notebooks/MaskClassifer.ipynb#" class="menu-shortcut-container"><span class="action">Run Cells</span><span class="kb"><kbd>Ctrl-Enter</kbd></span></a></li>
                        <li id="run_cell_select_below" role="none" title="Run this cell, select below">
                            <a href="http://localhost:8890/notebooks/MaskClassifer.ipynb#" role="menuitem" class="menu-shortcut-container"><span class="action">Run Cells and Select Below</span><span class="kb"><kbd>Shift-Enter</kbd></span></a></li>
                        <li id="run_cell_insert_below" role="none" title="Run this cell, insert below">
                            <a href="http://localhost:8890/notebooks/MaskClassifer.ipynb#" role="menuitem" class="menu-shortcut-container"><span class="action">Run Cells and Insert Below</span><span class="kb"><kbd>Alt-Enter</kbd></span></a></li>
                        <li id="run_all_cells" role="none" title="Run all cells in the notebook">
                            <a href="http://localhost:8890/notebooks/MaskClassifer.ipynb#" role="menuitem">Run All</a></li>
                        <li id="run_all_cells_above" role="none" title="Run all cells above (but not including) this cell">
                            <a href="http://localhost:8890/notebooks/MaskClassifer.ipynb#" role="menuitem">Run All Above</a></li>
                        <li id="run_all_cells_below" role="none" title="Run this cell and all cells below it">
                            <a href="http://localhost:8890/notebooks/MaskClassifer.ipynb#" role="menuitem">Run All Below</a></li>
                        <li class="divider" role="none"></li>
                        <li id="change_cell_type" class="menu_focus_highlight dropdown-submenu" role="none" title="All cells in the notebook have a cell type. By default, new cells are created as &#39;Code&#39; cells">
                            <a href="http://localhost:8890/notebooks/MaskClassifer.ipynb#" role="menuitem" aria-haspopup="true" aria-expanded="false" class="dropdown-toggle" data-toggle="dropdown">Cell Type</a>
                            <ul class="dropdown-menu" role="menu">
                              <li id="to_code" role="none" title="Contents will be sent to the kernel for execution, and output will display in the footer of cell">
                                  <a href="http://localhost:8890/notebooks/MaskClassifer.ipynb#" class="menu-shortcut-container"><span class="action">Code</span><span class="kb"><kbd>Y</kbd></span></a></li>
                              <li id="to_markdown" title="Contents will be rendered as HTML and serve as explanatory text">
                                  <a href="http://localhost:8890/notebooks/MaskClassifer.ipynb#" class="menu-shortcut-container"><span class="action">Markdown</span><span class="kb"><kbd>M</kbd></span></a></li>
                              <li id="to_raw" title="Contents will pass through nbconvert unmodified">
                                  <a href="http://localhost:8890/notebooks/MaskClassifer.ipynb#" class="menu-shortcut-container"><span class="action">Raw NBConvert</span><span class="kb"><kbd>R</kbd></span></a></li>
                            </ul>
                        </li>
                        <li class="divider" role="none"></li>
                        <li id="current_outputs" class="menu_focus_highlight dropdown-submenu" role="none"><a href="http://localhost:8890/notebooks/MaskClassifer.ipynb#" role="menuitem" aria-haspopup="true" aria-expanded="false" class="dropdown-toggle" data-toggle="dropdown">Current Outputs</a>
                            <ul class="dropdown-menu" role="menu">
                                <li id="toggle_current_output" role="none" title="Hide/Show the output of the current cell">
                                    <a href="http://localhost:8890/notebooks/MaskClassifer.ipynb#" class="menu-shortcut-container"><span class="action">Toggle</span><span class="kb"><kbd>O</kbd></span></a>
                                </li>
                                <li id="toggle_current_output_scroll" title="Scroll the output of the current cell">
                                    <a href="http://localhost:8890/notebooks/MaskClassifer.ipynb#" class="menu-shortcut-container"><span class="action">Toggle Scrolling</span><span class="kb"><kbd>Shift-O</kbd></span></a>
                                </li>
                                <li id="clear_current_output" title="Clear the output of the current cell">
                                    <a href="http://localhost:8890/notebooks/MaskClassifer.ipynb#">Clear</a>
                                </li>
                            </ul>
                        </li>
                        <li id="all_outputs" class="menu_focus_highlight dropdown-submenu" role="none"><a href="http://localhost:8890/notebooks/MaskClassifer.ipynb#" role="menuitem" aria-haspopup="true" aria-expanded="false" class="dropdown-toggle" data-toggle="dropdown">All Output</a>
                            <ul class="dropdown-menu" role="menu">
                                <li id="toggle_all_output" role="none" title="Hide/Show the output of all cells">
                                    <a href="http://localhost:8890/notebooks/MaskClassifer.ipynb#">Toggle</a>
                                </li>
                                <li id="toggle_all_output_scroll" title="Scroll the output of all cells">
                                    <a href="http://localhost:8890/notebooks/MaskClassifer.ipynb#">Toggle Scrolling</a>
                                </li>
                                <li id="clear_all_output" title="Clear the output of all cells">
                                    <a href="http://localhost:8890/notebooks/MaskClassifer.ipynb#">Clear</a>
                                </li>
                            </ul>
                        </li>
                    </ul>
                </li>
                <li class="dropdown"><a href="http://localhost:8890/notebooks/MaskClassifer.ipynb#" class="dropdown-toggle" data-toggle="dropdown" id="kernellink">Kernel</a>
                    <ul id="kernel_menu" class="dropdown-menu" aria-labelledby="kernellink">
                        <li id="int_kernel" title="Send Keyboard Interrupt (CTRL-C) to the Kernel">
                            <a href="http://localhost:8890/notebooks/MaskClassifer.ipynb#" class="menu-shortcut-container"><span class="action">Interrupt</span><span class="kb"><kbd>I</kbd>,<kbd>I</kbd></span></a>
                        </li>
                        <li id="restart_kernel" title="Restart the Kernel">
                            <a href="http://localhost:8890/notebooks/MaskClassifer.ipynb#" class="menu-shortcut-container"><span class="action">Restart</span><span class="kb"><kbd>0</kbd>,<kbd>0</kbd></span></a>
                        </li>
                        <li id="restart_clear_output" title="Restart the Kernel and clear all output">
                            <a href="http://localhost:8890/notebooks/MaskClassifer.ipynb#">Restart &amp; Clear Output</a>
                        </li>
                        <li id="restart_run_all" title="Restart the Kernel and re-run the notebook">
                            <a href="http://localhost:8890/notebooks/MaskClassifer.ipynb#">Restart &amp; Run All</a>
                        </li>
                        <li id="reconnect_kernel" title="Reconnect to the Kernel">
                            <a href="http://localhost:8890/notebooks/MaskClassifer.ipynb#">Reconnect</a>
                        </li>
                        <li id="shutdown_kernel" title="Shutdown the Kernel">
                            <a href="http://localhost:8890/notebooks/MaskClassifer.ipynb#">Shutdown</a>
                        </li>
                        <li class="divider" role="none"></li>
                        <li id="menu-change-kernel" class="menu_focus_highlight dropdown-submenu" role="menuitem">
                            <a href="http://localhost:8890/notebooks/MaskClassifer.ipynb#" role="menuitem" aria-haspopup="true" aria-expanded="false" class="dropdown-toggle" data-toggle="dropdown">Change kernel</a>
                            <ul class="dropdown-menu" id="menu-change-kernel-submenu"><li id="kernel-submenu-python3"><a href="http://localhost:8890/notebooks/MaskClassifer.ipynb#">Python 3</a></li></ul>
                        </li>
                    </ul>
                </li>
                <li class="dropdown"><a href="http://localhost:8890/notebooks/MaskClassifer.ipynb#" data-toggle="dropdown" class="dropdown-toggle">Widgets</a><ul id="widget-submenu" class="dropdown-menu"><li title="Save the notebook with the widget state information for static rendering"><a href="http://localhost:8890/notebooks/MaskClassifer.ipynb#">Save Notebook Widget State</a></li><li title="Clear the widget state information from the notebook"><a href="http://localhost:8890/notebooks/MaskClassifer.ipynb#">Clear Notebook Widget State</a></li><ul class="divider"></ul><li title="Download the widget state as a JSON file"><a href="http://localhost:8890/notebooks/MaskClassifer.ipynb#">Download Widget State</a></li><li title="Embed interactive widgets"><a href="http://localhost:8890/notebooks/MaskClassifer.ipynb#">Embed Widgets</a></li></ul></li><li class="dropdown"><a href="http://localhost:8890/notebooks/MaskClassifer.ipynb#" class="dropdown-toggle" data-toggle="dropdown">Help</a>
                    <ul id="help_menu" class="dropdown-menu">
                        
                        <li id="notebook_tour" title="A quick tour of the notebook user interface"><a href="http://localhost:8890/notebooks/MaskClassifer.ipynb#">User Interface Tour</a></li>
                        <li id="keyboard_shortcuts" title="Opens a tooltip with all keyboard shortcuts"><a href="http://localhost:8890/notebooks/MaskClassifer.ipynb#" class="menu-shortcut-container"><span class="action">Keyboard Shortcuts</span><span class="kb"><kbd>H</kbd></span></a></li>
                        <li id="edit_keyboard_shortcuts" title="Opens a dialog allowing you to edit Keyboard shortcuts"><a href="http://localhost:8890/notebooks/MaskClassifer.ipynb#">Edit Keyboard Shortcuts</a></li>
                        <li class="divider"></li>
                        

						
                        
                            
                                <li><a rel="noreferrer" href="http://nbviewer.jupyter.org/github/ipython/ipython/blob/3.x/examples/Notebook/Index.ipynb" target="_blank" title="Opens in a new window">
                                
                                    <i class="fa fa-external-link menu-icon pull-right"></i>
                                

                                Notebook Help
                                </a></li>
                            
                                <li><a rel="noreferrer" href="https://help.github.com/articles/markdown-basics/" target="_blank" title="Opens in a new window">
                                
                                    <i class="fa fa-external-link menu-icon pull-right"></i>
                                

                                Markdown
                                </a></li>
                            
                            
                        
                        <li id="kernel-help-links" class="divider"></li><li><a target="_blank" title="Opens in a new window" href="https://docs.python.org/3.7?v=20210424125036"><i class="fa fa-external-link menu-icon pull-right"></i><span>Python Reference</span></a></li><li><a target="_blank" title="Opens in a new window" href="https://ipython.org/documentation.html?v=20210424125036"><i class="fa fa-external-link menu-icon pull-right"></i><span>IPython Reference</span></a></li><li><a target="_blank" title="Opens in a new window" href="https://docs.scipy.org/doc/numpy/reference/?v=20210424125036"><i class="fa fa-external-link menu-icon pull-right"></i><span>NumPy Reference</span></a></li><li><a target="_blank" title="Opens in a new window" href="https://docs.scipy.org/doc/scipy/reference/?v=20210424125036"><i class="fa fa-external-link menu-icon pull-right"></i><span>SciPy Reference</span></a></li><li><a target="_blank" title="Opens in a new window" href="https://matplotlib.org/contents.html?v=20210424125036"><i class="fa fa-external-link menu-icon pull-right"></i><span>Matplotlib Reference</span></a></li><li><a target="_blank" title="Opens in a new window" href="http://docs.sympy.org/latest/index.html?v=20210424125036"><i class="fa fa-external-link menu-icon pull-right"></i><span>SymPy Reference</span></a></li><li><a target="_blank" title="Opens in a new window" href="https://pandas.pydata.org/pandas-docs/stable/?v=20210424125036"><i class="fa fa-external-link menu-icon pull-right"></i><span>pandas Reference</span></a></li><li class="divider"></li>
                        <li title="About Jupyter Notebook"><a id="notebook_about" href="http://localhost:8890/notebooks/MaskClassifer.ipynb#">About</a></li>
                        
                    </ul>
                </li>
              </ul>
            </div>
        </div>
    </div>
</div>

<div id="maintoolbar" class="navbar">
  <div class="toolbar-inner navbar-inner navbar-nobg">
    <div id="maintoolbar-container" class="container toolbar"><div class="btn-group" id="save-notbook"><button class="btn btn-default" title="Save and Checkpoint" data-jupyter-action="jupyter-notebook:save-notebook"><i class="fa-save fa"></i></button></div><div class="btn-group" id="insert_above_below"><button class="btn btn-default" title="insert cell below" data-jupyter-action="jupyter-notebook:insert-cell-below"><i class="fa-plus fa"></i></button></div><div class="btn-group" id="cut_copy_paste"><button class="btn btn-default" title="cut selected cells" data-jupyter-action="jupyter-notebook:cut-cell"><i class="fa-cut fa"></i></button><button class="btn btn-default" title="copy selected cells" data-jupyter-action="jupyter-notebook:copy-cell"><i class="fa-copy fa"></i></button><button class="btn btn-default" title="paste cells below" data-jupyter-action="jupyter-notebook:paste-cell-below"><i class="fa-paste fa"></i></button></div><div class="btn-group" id="move_up_down"><button class="btn btn-default" title="move selected cells up" data-jupyter-action="jupyter-notebook:move-cell-up"><i class="fa-arrow-up fa"></i></button><button class="btn btn-default" title="move selected cells down" data-jupyter-action="jupyter-notebook:move-cell-down"><i class="fa-arrow-down fa"></i></button></div><div class="btn-group" id="run_int"><button class="btn btn-default" aria-label="Run" title="run cell, select below" data-jupyter-action="jupyter-notebook:run-cell-and-select-next"><i class="fa-play fa"></i><span class="toolbar-btn-label">Run</span></button><button class="btn btn-default" title="interrupt the kernel" data-jupyter-action="jupyter-notebook:interrupt-kernel"><i class="fa-stop fa"></i></button><button class="btn btn-default" title="restart the kernel (with dialog)" data-jupyter-action="jupyter-notebook:confirm-restart-kernel"><i class="fa-repeat fa"></i></button><button class="btn btn-default" title="restart the kernel, then re-run the whole notebook (with dialog)" data-jupyter-action="jupyter-notebook:confirm-restart-kernel-and-run-all-cells"><i class="fa-forward fa"></i></button></div><select id="cell_type" aria-label="combobox, select cell type" role="combobox" class="form-control select-xs"><option value="code">Code</option><option value="markdown">Markdown</option><option value="raw">Raw NBConvert</option><option value="heading">Heading</option><option value="multiselect" disabled="disabled" style="display: none;">-</option></select><div class="btn-group" id="cmd_palette"><button class="btn btn-default" title="open the command palette" data-jupyter-action="jupyter-notebook:show-command-palette"><i class="fa-keyboard-o fa"></i></button></div><div class="btn-group"><button class="btn btn-default" aria-label="Voilà" title="Voilà" id="toggle_codecells"><i class="fa-desktop fa"></i><span class="toolbar-btn-label">Voilà</span></button></div></div>
  </div>
</div>
</div>

<div class="lower-header-bar"></div>

</div>

<div id="site" style="display: block; height: 656.222px;">


<div id="ipython-main-app">
    <div id="notebook_panel">
        <div id="notebook" tabindex="-1"><div class="container" id="notebook-container"><div class="cell code_cell rendered unselected" tabindex="2"><div class="input"><div class="prompt_container"><div class="prompt input_prompt"><bdi>In</bdi>&nbsp;[1]:</div><div class="run_this_cell" title="Run this cell"><i class="fa-step-forward fa"></i></div></div><div class="inner_cell"><div class="ctb_hideshow"><div class="celltoolbar"></div></div><div class="input_area" aria-label="Edit code here"><div class="CodeMirror cm-s-ipython"><div style="overflow: hidden; position: relative; width: 3px; height: 0px; top: 5.59717px; left: 172px;"><textarea autocorrect="off" autocapitalize="off" spellcheck="false" tabindex="0" style="position: absolute; bottom: -1em; padding: 0px; width: 1000px; height: 1em; outline: none;"></textarea></div><div class="CodeMirror-vscrollbar" tabindex="-1" cm-not-content="true"><div style="min-width: 1px; height: 0px;"></div></div><div class="CodeMirror-hscrollbar" tabindex="-1" cm-not-content="true"><div style="height: 100%; min-height: 1px; width: 0px;"></div></div><div class="CodeMirror-scrollbar-filler" cm-not-content="true"></div><div class="CodeMirror-gutter-filler" cm-not-content="true"></div><div class="CodeMirror-scroll" tabindex="-1"><div class="CodeMirror-sizer" style="margin-left: 0px; min-width: 175px; margin-bottom: -19px; border-right-width: 31px; min-height: 28px; padding-right: 0px; padding-bottom: 0px;"><div style="position: relative; top: 0px;"><div class="CodeMirror-lines" role="presentation"><div role="presentation" style="position: relative; outline: none;"><div class="CodeMirror-measure"></div><div class="CodeMirror-measure"></div><div style="position: relative; z-index: 1;"></div><div class="CodeMirror-cursors" style=""><div class="CodeMirror-cursor" style="left: 172px; top: 0px; height: 16.8889px;">&nbsp;</div></div><div class="CodeMirror-code" role="presentation"><pre class=" CodeMirror-line " role="presentation"><span role="presentation" style="padding-right: 0.1px;"><span class="cm-comment">#!pip install fastai2</span></span></pre></div></div></div></div></div><div style="position: absolute; height: 31px; width: 1px; border-bottom: 0px solid transparent; top: 28px;"></div><div class="CodeMirror-gutters" style="display: none; height: 59px;"></div></div></div></div></div></div><div class="output_wrapper"><div class="out_prompt_overlay prompt" title="click to expand output; double click to hide output"></div><div class="output"><div class="output_area"><div class="run_this_cell"></div><div class="prompt"></div><div class="output_subarea output_text output_stream output_stdout" dir="auto"><pre>Collecting fastai2
  Using cached fastai2-0.0.30-py3-none-any.whl (179 kB)
Requirement already satisfied: spacy in c:\users\redi5\anaconda3\envs\bachelorarbeit\lib\site-packages (from fastai2) (3.0.1)
Requirement already satisfied: packaging in c:\users\redi5\anaconda3\envs\bachelorarbeit\lib\site-packages (from fastai2) (20.9)
Requirement already satisfied: requests in c:\users\redi5\anaconda3\envs\bachelorarbeit\lib\site-packages (from fastai2) (2.25.1)
Requirement already satisfied: torch&gt;=1.6.0 in c:\users\redi5\anaconda3\envs\bachelorarbeit\lib\site-packages (from fastai2) (1.6.0)
Requirement already satisfied: scikit-learn in c:\users\redi5\anaconda3\envs\bachelorarbeit\lib\site-packages (from fastai2) (0.24.1)
Requirement already satisfied: torchvision&gt;=0.7 in c:\users\redi5\anaconda3\envs\bachelorarbeit\lib\site-packages (from fastai2) (0.7.0)
Requirement already satisfied: scipy in c:\users\redi5\anaconda3\envs\bachelorarbeit\lib\site-packages (from fastai2) (1.6.0)
Requirement already satisfied: fastprogress&gt;=0.2.4 in c:\users\redi5\anaconda3\envs\bachelorarbeit\lib\site-packages (from fastai2) (1.0.0)
Requirement already satisfied: fastcore&gt;=0.1.34 in c:\users\redi5\anaconda3\envs\bachelorarbeit\lib\site-packages (from fastai2) (1.3.19)
Requirement already satisfied: pandas in c:\users\redi5\anaconda3\envs\bachelorarbeit\lib\site-packages (from fastai2) (1.2.1)
Requirement already satisfied: pyyaml in c:\users\redi5\anaconda3\envs\bachelorarbeit\lib\site-packages (from fastai2) (5.4.1)
Requirement already satisfied: matplotlib in c:\users\redi5\anaconda3\envs\bachelorarbeit\lib\site-packages (from fastai2) (3.3.4)
Requirement already satisfied: pillow in c:\users\redi5\anaconda3\envs\bachelorarbeit\lib\site-packages (from fastai2) (8.1.0)
Requirement already satisfied: pip in c:\users\redi5\anaconda3\envs\bachelorarbeit\lib\site-packages (from fastai2) (20.3.3)
Requirement already satisfied: numpy in c:\users\redi5\anaconda3\envs\bachelorarbeit\lib\site-packages (from fastprogress&gt;=0.2.4-&gt;fastai2) (1.19.2)
Requirement already satisfied: future in c:\users\redi5\anaconda3\envs\bachelorarbeit\lib\site-packages (from torch&gt;=1.6.0-&gt;fastai2) (0.18.2)
Requirement already satisfied: cycler&gt;=0.10 in c:\users\redi5\anaconda3\envs\bachelorarbeit\lib\site-packages (from matplotlib-&gt;fastai2) (0.10.0)
Requirement already satisfied: python-dateutil&gt;=2.1 in c:\users\redi5\anaconda3\envs\bachelorarbeit\lib\site-packages (from matplotlib-&gt;fastai2) (2.8.1)
Requirement already satisfied: kiwisolver&gt;=1.0.1 in c:\users\redi5\anaconda3\envs\bachelorarbeit\lib\site-packages (from matplotlib-&gt;fastai2) (1.3.1)
Requirement already satisfied: pyparsing!=2.0.4,!=2.1.2,!=2.1.6,&gt;=2.0.3 in c:\users\redi5\anaconda3\envs\bachelorarbeit\lib\site-packages (from matplotlib-&gt;fastai2) (2.4.7)
Requirement already satisfied: six in c:\users\redi5\anaconda3\envs\bachelorarbeit\lib\site-packages (from cycler&gt;=0.10-&gt;matplotlib-&gt;fastai2) (1.15.0)
Requirement already satisfied: pytz&gt;=2017.3 in c:\users\redi5\anaconda3\envs\bachelorarbeit\lib\site-packages (from pandas-&gt;fastai2) (2021.1)
Requirement already satisfied: certifi&gt;=2017.4.17 in c:\users\redi5\anaconda3\envs\bachelorarbeit\lib\site-packages (from requests-&gt;fastai2) (2020.12.5)
Requirement already satisfied: urllib3&lt;1.27,&gt;=1.21.1 in c:\users\redi5\anaconda3\envs\bachelorarbeit\lib\site-packages (from requests-&gt;fastai2) (1.26.3)
Requirement already satisfied: chardet&lt;5,&gt;=3.0.2 in c:\users\redi5\anaconda3\envs\bachelorarbeit\lib\site-packages (from requests-&gt;fastai2) (4.0.0)
Requirement already satisfied: idna&lt;3,&gt;=2.5 in c:\users\redi5\anaconda3\envs\bachelorarbeit\lib\site-packages (from requests-&gt;fastai2) (2.10)
Requirement already satisfied: joblib&gt;=0.11 in c:\users\redi5\anaconda3\envs\bachelorarbeit\lib\site-packages (from scikit-learn-&gt;fastai2) (1.0.0)
Requirement already satisfied: threadpoolctl&gt;=2.0.0 in c:\users\redi5\anaconda3\envs\bachelorarbeit\lib\site-packages (from scikit-learn-&gt;fastai2) (2.1.0)
Requirement already satisfied: blis&lt;0.8.0,&gt;=0.4.0 in c:\users\redi5\anaconda3\envs\bachelorarbeit\lib\site-packages (from spacy-&gt;fastai2) (0.7.4)
Requirement already satisfied: importlib-metadata&gt;=0.20 in c:\users\redi5\anaconda3\envs\bachelorarbeit\lib\site-packages (from spacy-&gt;fastai2) (2.0.0)
Requirement already satisfied: cymem&lt;2.1.0,&gt;=2.0.2 in c:\users\redi5\anaconda3\envs\bachelorarbeit\lib\site-packages (from spacy-&gt;fastai2) (2.0.5)
Requirement already satisfied: typer&lt;0.4.0,&gt;=0.3.0 in c:\users\redi5\anaconda3\envs\bachelorarbeit\lib\site-packages (from spacy-&gt;fastai2) (0.3.2)
Requirement already satisfied: catalogue&lt;2.1.0,&gt;=2.0.1 in c:\users\redi5\anaconda3\envs\bachelorarbeit\lib\site-packages (from spacy-&gt;fastai2) (2.0.1)
Requirement already satisfied: wasabi&lt;1.1.0,&gt;=0.8.1 in c:\users\redi5\anaconda3\envs\bachelorarbeit\lib\site-packages (from spacy-&gt;fastai2) (0.8.2)
Requirement already satisfied: thinc&lt;8.1.0,&gt;=8.0.0 in c:\users\redi5\anaconda3\envs\bachelorarbeit\lib\site-packages (from spacy-&gt;fastai2) (8.0.1)
Requirement already satisfied: typing-extensions&gt;=3.7.4 in c:\users\redi5\anaconda3\envs\bachelorarbeit\lib\site-packages (from spacy-&gt;fastai2) (3.7.4.3)
Requirement already satisfied: jinja2 in c:\users\redi5\anaconda3\envs\bachelorarbeit\lib\site-packages (from spacy-&gt;fastai2) (2.11.3)
Requirement already satisfied: tqdm&lt;5.0.0,&gt;=4.38.0 in c:\users\redi5\anaconda3\envs\bachelorarbeit\lib\site-packages (from spacy-&gt;fastai2) (4.56.0)
Requirement already satisfied: setuptools in c:\users\redi5\anaconda3\envs\bachelorarbeit\lib\site-packages (from spacy-&gt;fastai2) (52.0.0.post20210125)
Requirement already satisfied: spacy-legacy&lt;3.1.0,&gt;=3.0.0 in c:\users\redi5\anaconda3\envs\bachelorarbeit\lib\site-packages (from spacy-&gt;fastai2) (3.0.1)
Requirement already satisfied: murmurhash&lt;1.1.0,&gt;=0.28.0 in c:\users\redi5\anaconda3\envs\bachelorarbeit\lib\site-packages (from spacy-&gt;fastai2) (1.0.5)
Requirement already satisfied: srsly&lt;3.0.0,&gt;=2.4.0 in c:\users\redi5\anaconda3\envs\bachelorarbeit\lib\site-packages (from spacy-&gt;fastai2) (2.4.0)
Requirement already satisfied: pydantic&lt;1.8.0,&gt;=1.7.1 in c:\users\redi5\anaconda3\envs\bachelorarbeit\lib\site-packages (from spacy-&gt;fastai2) (1.7.3)
Requirement already satisfied: preshed&lt;3.1.0,&gt;=3.0.2 in c:\users\redi5\anaconda3\envs\bachelorarbeit\lib\site-packages (from spacy-&gt;fastai2) (3.0.5)
Requirement already satisfied: pathy in c:\users\redi5\anaconda3\envs\bachelorarbeit\lib\site-packages (from spacy-&gt;fastai2) (0.3.5)
Requirement already satisfied: zipp&gt;=0.5 in c:\users\redi5\anaconda3\envs\bachelorarbeit\lib\site-packages (from importlib-metadata&gt;=0.20-&gt;spacy-&gt;fastai2) (3.4.0)
Requirement already satisfied: click&lt;7.2.0,&gt;=7.1.1 in c:\users\redi5\anaconda3\envs\bachelorarbeit\lib\site-packages (from typer&lt;0.4.0,&gt;=0.3.0-&gt;spacy-&gt;fastai2) (7.1.2)
Requirement already satisfied: MarkupSafe&gt;=0.23 in c:\users\redi5\anaconda3\envs\bachelorarbeit\lib\site-packages (from jinja2-&gt;spacy-&gt;fastai2) (1.1.1)
Requirement already satisfied: smart-open&lt;4.0.0,&gt;=2.2.0 in c:\users\redi5\anaconda3\envs\bachelorarbeit\lib\site-packages (from pathy-&gt;spacy-&gt;fastai2) (3.0.0)
Installing collected packages: fastai2
Successfully installed fastai2-0.0.30
</pre></div></div></div><div class="btn btn-default output_collapsed" title="click to expand output" style="display: none;">. . .</div></div></div><div class="cell code_cell unselected rendered" tabindex="2"><div class="input"><div class="prompt_container"><div class="prompt input_prompt"><bdi>In</bdi>&nbsp;[2]:</div><div class="run_this_cell" title="Run this cell"><i class="fa-step-forward fa"></i></div></div><div class="inner_cell"><div class="ctb_hideshow"><div class="celltoolbar"></div></div><div class="input_area" aria-label="Edit code here"><div class="CodeMirror cm-s-ipython"><div style="overflow: hidden; position: relative; width: 3px; height: 0px; top: 5.59723px; left: 4px;"><textarea autocorrect="off" autocapitalize="off" spellcheck="false" tabindex="0" style="position: absolute; bottom: -1em; padding: 0px; width: 1000px; height: 1em; outline: none;"></textarea></div><div class="CodeMirror-vscrollbar" tabindex="-1" cm-not-content="true"><div style="min-width: 1px; height: 0px;"></div></div><div class="CodeMirror-hscrollbar" tabindex="-1" cm-not-content="true"><div style="height: 100%; min-height: 1px; width: 0px;"></div></div><div class="CodeMirror-scrollbar-filler" cm-not-content="true"></div><div class="CodeMirror-gutter-filler" cm-not-content="true"></div><div class="CodeMirror-scroll" tabindex="-1"><div class="CodeMirror-sizer" style="margin-left: 0px; min-width: 215px; margin-bottom: -19px; border-right-width: 31px; min-height: 79px; padding-right: 0px; padding-bottom: 0px;"><div style="position: relative; top: 0px;"><div class="CodeMirror-lines" role="presentation"><div role="presentation" style="position: relative; outline: none;"><div class="CodeMirror-measure"><pre class="CodeMirror-line-like"><span>xxxxxxxxxx</span></pre></div><div class="CodeMirror-measure"></div><div style="position: relative; z-index: 1;"></div><div class="CodeMirror-cursors"><div class="CodeMirror-cursor" style="left: 4px; top: 0px; height: 16.8889px;">&nbsp;</div></div><div class="CodeMirror-code" role="presentation"><pre class=" CodeMirror-line " role="presentation"><span role="presentation" style="padding-right: 0.1px;"><span class="cm-comment">#hide</span></span></pre><pre class=" CodeMirror-line " role="presentation"><span role="presentation" style="padding-right: 0.1px;"><span class="cm-operator">!</span><span class="cm-variable">pip</span> <span class="cm-variable">install</span> <span class="cm-operator">-</span><span class="cm-variable">Uqq</span> <span class="cm-variable">fastbook</span></span></pre><pre class=" CodeMirror-line " role="presentation"><span role="presentation" style="padding-right: 0.1px;"><span class="cm-keyword">import</span> <span class="cm-variable">fastbook</span></span></pre><pre class=" CodeMirror-line " role="presentation"><span role="presentation" style="padding-right: 0.1px;"><span class="cm-variable">fastbook</span>.<span class="cm-property">setup_book</span>()</span></pre></div></div></div></div></div><div style="position: absolute; height: 31px; width: 1px; border-bottom: 0px solid transparent; top: 79px;"></div><div class="CodeMirror-gutters" style="display: none; height: 110px;"></div></div></div></div></div></div><div class="output_wrapper"><div class="out_prompt_overlay prompt" title="click to expand output; double click to hide output"></div><div class="output"><div class="output_area"><div class="run_this_cell"></div><div class="prompt"></div><div class="output_subarea output_text output_stream output_stderr" dir="auto"><pre>C:\Users\redi5\Anaconda3\envs\Bachelorarbeit\lib\site-packages\fastbook\__init__.py:18: UserWarning: Missing `graphviz` - please run `conda install fastbook`
  except ModuleNotFoundError: warn("Missing `graphviz` - please run `conda install fastbook`")
</pre></div></div></div><div class="btn btn-default output_collapsed" title="click to expand output" style="display: none;">. . .</div></div></div><div class="cell text_cell unselected rendered" tabindex="2"><div class="prompt input_prompt"></div><div class="inner_cell"><div class="ctb_hideshow"><div class="celltoolbar"></div></div><div class="input_area" aria-label="Edit Markup Text here"><div class="CodeMirror cm-s-default CodeMirror-wrap"><div style="overflow: hidden; position: relative; width: 3px; height: 0px; top: 5.59717px; left: 4px;"><textarea autocorrect="off" autocapitalize="off" spellcheck="false" tabindex="0" style="position: absolute; bottom: -1em; padding: 0px; width: 1000px; height: 1em; outline: none;"></textarea></div><div class="CodeMirror-vscrollbar" tabindex="-1" cm-not-content="true" style="bottom: 0px;"><div style="min-width: 1px; height: 0px;"></div></div><div class="CodeMirror-hscrollbar" tabindex="-1" cm-not-content="true"><div style="height: 100%; min-height: 1px; width: 0px;"></div></div><div class="CodeMirror-scrollbar-filler" cm-not-content="true"></div><div class="CodeMirror-gutter-filler" cm-not-content="true"></div><div class="CodeMirror-scroll" tabindex="-1"><div class="CodeMirror-sizer" style="margin-left: 0px; padding-right: 0px; padding-bottom: 0px; margin-bottom: -19px; border-right-width: 31px; min-height: 45px;"><div style="position: relative; top: 0px;"><div class="CodeMirror-lines" role="presentation"><div role="presentation" style="position: relative; outline: none;"><div class="CodeMirror-measure"><pre class="CodeMirror-line-like"><span>xxxxxxxxxx</span></pre></div><div class="CodeMirror-measure"></div><div style="position: relative; z-index: 1;"></div><div class="CodeMirror-cursors"><div class="CodeMirror-cursor" style="left: 4px; top: 0px; height: 16.8889px;">&nbsp;</div></div><div class="CodeMirror-code" role="presentation"><pre class=" CodeMirror-line " role="presentation"><span role="presentation" style="padding-right: 0.1px;">from fastai2.vision.all import *</span></pre><pre class=" CodeMirror-line " role="presentation"><span role="presentation" style="padding-right: 0.1px;">from fastai2.vision.widgets import *</span></pre></div></div></div></div></div><div style="position: absolute; height: 31px; width: 1px; border-bottom: 0px solid transparent; top: 45px;"></div><div class="CodeMirror-gutters" style="display: none; height: 76px;"></div></div></div></div><div class="text_cell_render rendered_html" tabindex="-1" dir="ltr"><p>from fastai2.vision.all import *
from fastai2.vision.widgets import *</p>
</div></div></div><div class="cell code_cell unselected rendered" tabindex="2"><div class="input"><div class="prompt_container"><div class="prompt input_prompt"><bdi>In</bdi>&nbsp;[3]:</div><div class="run_this_cell" title="Run this cell"><i class="fa-step-forward fa"></i></div></div><div class="inner_cell"><div class="ctb_hideshow"><div class="celltoolbar"></div></div><div class="input_area" aria-label="Edit code here"><div class="CodeMirror cm-s-ipython"><div style="overflow: hidden; position: relative; width: 3px; height: 0px; top: 5.59723px; left: 4px;"><textarea autocorrect="off" autocapitalize="off" spellcheck="false" tabindex="0" style="position: absolute; bottom: -1em; padding: 0px; width: 1000px; height: 1em; outline: none;"></textarea></div><div class="CodeMirror-vscrollbar" tabindex="-1" cm-not-content="true"><div style="min-width: 1px; height: 0px;"></div></div><div class="CodeMirror-hscrollbar" tabindex="-1" cm-not-content="true"><div style="height: 100%; min-height: 1px; width: 0px;"></div></div><div class="CodeMirror-scrollbar-filler" cm-not-content="true"></div><div class="CodeMirror-gutter-filler" cm-not-content="true"></div><div class="CodeMirror-scroll" tabindex="-1"><div class="CodeMirror-sizer" style="margin-left: 0px; min-width: 415px; margin-bottom: -19px; border-right-width: 31px; min-height: 45px; padding-right: 0px; padding-bottom: 0px;"><div style="position: relative; top: 0px;"><div class="CodeMirror-lines" role="presentation"><div role="presentation" style="position: relative; outline: none;"><div class="CodeMirror-measure"><pre class="CodeMirror-line-like"><span>xxxxxxxxxx</span></pre></div><div class="CodeMirror-measure"></div><div style="position: relative; z-index: 1;"></div><div class="CodeMirror-cursors"><div class="CodeMirror-cursor" style="left: 4px; top: 0px; height: 16.8889px;">&nbsp;</div></div><div class="CodeMirror-code" role="presentation"><pre class=" CodeMirror-line " role="presentation"><span role="presentation" style="padding-right: 0.1px;"><span class="cm-comment">#!pip install voila</span></span></pre><pre class=" CodeMirror-line " role="presentation"><span role="presentation" style="padding-right: 0.1px;"><span class="cm-comment">#!jupyter serverextension enable voila --sys-prefix</span></span></pre></div></div></div></div></div><div style="position: absolute; height: 31px; width: 1px; border-bottom: 0px solid transparent; top: 45px;"></div><div class="CodeMirror-gutters" style="display: none; height: 76px;"></div></div></div></div></div></div><div class="output_wrapper"><div class="out_prompt_overlay prompt" title="click to unscroll output; double click to hide"></div><div class="output output_scroll"><div class="output_area"><div class="run_this_cell"></div><div class="prompt"></div><div class="output_subarea output_text output_stream output_stdout" dir="auto"><pre>Collecting voila
  Using cached voila-0.2.9-py3-none-any.whl (1.6 MB)
Requirement already satisfied: jupyter-client&lt;7,&gt;=6.1.3 in c:\users\redi5\anaconda3\envs\bachelorarbeit\lib\site-packages (from voila) (6.1.7)
Requirement already satisfied: nbclient&lt;0.6,&gt;=0.4.0 in c:\users\redi5\anaconda3\envs\bachelorarbeit\lib\site-packages (from voila) (0.5.1)
Requirement already satisfied: pyzmq&gt;=13 in c:\users\redi5\anaconda3\envs\bachelorarbeit\lib\site-packages (from jupyter-client&lt;7,&gt;=6.1.3-&gt;voila) (20.0.0)
Requirement already satisfied: jupyter-core&gt;=4.6.0 in c:\users\redi5\anaconda3\envs\bachelorarbeit\lib\site-packages (from jupyter-client&lt;7,&gt;=6.1.3-&gt;voila) (4.7.1)
Requirement already satisfied: tornado&gt;=4.1 in c:\users\redi5\anaconda3\envs\bachelorarbeit\lib\site-packages (from jupyter-client&lt;7,&gt;=6.1.3-&gt;voila) (6.1)
Requirement already satisfied: traitlets in c:\users\redi5\anaconda3\envs\bachelorarbeit\lib\site-packages (from jupyter-client&lt;7,&gt;=6.1.3-&gt;voila) (5.0.5)
Requirement already satisfied: python-dateutil&gt;=2.1 in c:\users\redi5\anaconda3\envs\bachelorarbeit\lib\site-packages (from jupyter-client&lt;7,&gt;=6.1.3-&gt;voila) (2.8.1)
Requirement already satisfied: pywin32&gt;=1.0 in c:\users\redi5\anaconda3\envs\bachelorarbeit\lib\site-packages (from jupyter-core&gt;=4.6.0-&gt;jupyter-client&lt;7,&gt;=6.1.3-&gt;voila) (227)
Collecting jupyter-server&lt;2.0.0,&gt;=0.3.0
  Using cached jupyter_server-1.6.4-py3-none-any.whl (377 kB)
Requirement already satisfied: nbformat in c:\users\redi5\anaconda3\envs\bachelorarbeit\lib\site-packages (from jupyter-server&lt;2.0.0,&gt;=0.3.0-&gt;voila) (5.1.2)
Requirement already satisfied: jinja2 in c:\users\redi5\anaconda3\envs\bachelorarbeit\lib\site-packages (from jupyter-server&lt;2.0.0,&gt;=0.3.0-&gt;voila) (2.11.3)
Requirement already satisfied: terminado&gt;=0.8.3 in c:\users\redi5\anaconda3\envs\bachelorarbeit\lib\site-packages (from jupyter-server&lt;2.0.0,&gt;=0.3.0-&gt;voila) (0.9.2)
Requirement already satisfied: ipython-genutils in c:\users\redi5\anaconda3\envs\bachelorarbeit\lib\site-packages (from jupyter-server&lt;2.0.0,&gt;=0.3.0-&gt;voila) (0.2.0)
Requirement already satisfied: argon2-cffi in c:\users\redi5\anaconda3\envs\bachelorarbeit\lib\site-packages (from jupyter-server&lt;2.0.0,&gt;=0.3.0-&gt;voila) (20.1.0)
Requirement already satisfied: prometheus-client in c:\users\redi5\anaconda3\envs\bachelorarbeit\lib\site-packages (from jupyter-server&lt;2.0.0,&gt;=0.3.0-&gt;voila) (0.9.0)
Requirement already satisfied: Send2Trash in c:\users\redi5\anaconda3\envs\bachelorarbeit\lib\site-packages (from jupyter-server&lt;2.0.0,&gt;=0.3.0-&gt;voila) (1.5.0)
Collecting anyio&lt;3,&gt;=2.0.2
  Using cached anyio-2.2.0-py3-none-any.whl (65 kB)
Requirement already satisfied: typing-extensions in c:\users\redi5\anaconda3\envs\bachelorarbeit\lib\site-packages (from anyio&lt;3,&gt;=2.0.2-&gt;jupyter-server&lt;2.0.0,&gt;=0.3.0-&gt;voila) (3.7.4.3)
Requirement already satisfied: idna&gt;=2.8 in c:\users\redi5\anaconda3\envs\bachelorarbeit\lib\site-packages (from anyio&lt;3,&gt;=2.0.2-&gt;jupyter-server&lt;2.0.0,&gt;=0.3.0-&gt;voila) (2.10)
Collecting jupyter-packaging~=0.9
  Using cached jupyter_packaging-0.9.2-py2.py3-none-any.whl (13 kB)
Requirement already satisfied: setuptools&gt;=46.4.0 in c:\users\redi5\anaconda3\envs\bachelorarbeit\lib\site-packages (from jupyter-packaging~=0.9-&gt;jupyter-server&lt;2.0.0,&gt;=0.3.0-&gt;voila) (52.0.0.post20210125)
Requirement already satisfied: packaging in c:\users\redi5\anaconda3\envs\bachelorarbeit\lib\site-packages (from jupyter-packaging~=0.9-&gt;jupyter-server&lt;2.0.0,&gt;=0.3.0-&gt;voila) (20.9)
Requirement already satisfied: wheel in c:\users\redi5\anaconda3\envs\bachelorarbeit\lib\site-packages (from jupyter-packaging~=0.9-&gt;jupyter-server&lt;2.0.0,&gt;=0.3.0-&gt;voila) (0.36.2)
</pre></div></div><div class="output_area"><div class="run_this_cell"></div><div class="prompt"></div><div class="output_subarea output_text output_stream output_stderr" dir="auto"><pre>ERROR: pip's dependency resolver does not currently take into account all the packages that are installed. This behaviour is the source of the following dependency conflicts.
nbdev 1.1.12 requires nbconvert&lt;6, but you have nbconvert 6.0.7 which is incompatible.
</pre></div></div><div class="output_area"><div class="run_this_cell"></div><div class="prompt"></div><div class="output_subarea output_text output_stream output_stdout" dir="auto"><pre>Requirement already satisfied: nest-asyncio in c:\users\redi5\anaconda3\envs\bachelorarbeit\lib\site-packages (from nbclient&lt;0.6,&gt;=0.4.0-&gt;voila) (1.4.3)
Requirement already satisfied: async-generator in c:\users\redi5\anaconda3\envs\bachelorarbeit\lib\site-packages (from nbclient&lt;0.6,&gt;=0.4.0-&gt;voila) (1.10)
Collecting nbconvert&lt;7,&gt;=6.0.0
  Using cached nbconvert-6.0.7-py3-none-any.whl (552 kB)
Requirement already satisfied: pandocfilters&gt;=1.4.1 in c:\users\redi5\anaconda3\envs\bachelorarbeit\lib\site-packages (from nbconvert&lt;7,&gt;=6.0.0-&gt;voila) (1.4.3)
Requirement already satisfied: entrypoints&gt;=0.2.2 in c:\users\redi5\anaconda3\envs\bachelorarbeit\lib\site-packages (from nbconvert&lt;7,&gt;=6.0.0-&gt;voila) (0.3)
Requirement already satisfied: testpath in c:\users\redi5\anaconda3\envs\bachelorarbeit\lib\site-packages (from nbconvert&lt;7,&gt;=6.0.0-&gt;voila) (0.4.4)
Requirement already satisfied: bleach in c:\users\redi5\anaconda3\envs\bachelorarbeit\lib\site-packages (from nbconvert&lt;7,&gt;=6.0.0-&gt;voila) (3.3.0)
Requirement already satisfied: mistune&lt;2,&gt;=0.8.1 in c:\users\redi5\anaconda3\envs\bachelorarbeit\lib\site-packages (from nbconvert&lt;7,&gt;=6.0.0-&gt;voila) (0.8.4)
Requirement already satisfied: jupyterlab-pygments in c:\users\redi5\anaconda3\envs\bachelorarbeit\lib\site-packages (from nbconvert&lt;7,&gt;=6.0.0-&gt;voila) (0.1.2)
Requirement already satisfied: defusedxml in c:\users\redi5\anaconda3\envs\bachelorarbeit\lib\site-packages (from nbconvert&lt;7,&gt;=6.0.0-&gt;voila) (0.6.0)
Requirement already satisfied: pygments&gt;=2.4.1 in c:\users\redi5\anaconda3\envs\bachelorarbeit\lib\site-packages (from nbconvert&lt;7,&gt;=6.0.0-&gt;voila) (2.7.4)
Requirement already satisfied: MarkupSafe&gt;=0.23 in c:\users\redi5\anaconda3\envs\bachelorarbeit\lib\site-packages (from jinja2-&gt;jupyter-server&lt;2.0.0,&gt;=0.3.0-&gt;voila) (1.1.1)
Requirement already satisfied: jsonschema!=2.5.0,&gt;=2.4 in c:\users\redi5\anaconda3\envs\bachelorarbeit\lib\site-packages (from nbformat-&gt;jupyter-server&lt;2.0.0,&gt;=0.3.0-&gt;voila) (3.2.0)
Requirement already satisfied: attrs&gt;=17.4.0 in c:\users\redi5\anaconda3\envs\bachelorarbeit\lib\site-packages (from jsonschema!=2.5.0,&gt;=2.4-&gt;nbformat-&gt;jupyter-server&lt;2.0.0,&gt;=0.3.0-&gt;voila) (20.3.0)
Requirement already satisfied: six&gt;=1.11.0 in c:\users\redi5\anaconda3\envs\bachelorarbeit\lib\site-packages (from jsonschema!=2.5.0,&gt;=2.4-&gt;nbformat-&gt;jupyter-server&lt;2.0.0,&gt;=0.3.0-&gt;voila) (1.15.0)
Requirement already satisfied: pyrsistent&gt;=0.14.0 in c:\users\redi5\anaconda3\envs\bachelorarbeit\lib\site-packages (from jsonschema!=2.5.0,&gt;=2.4-&gt;nbformat-&gt;jupyter-server&lt;2.0.0,&gt;=0.3.0-&gt;voila) (0.17.3)
Requirement already satisfied: importlib-metadata in c:\users\redi5\anaconda3\envs\bachelorarbeit\lib\site-packages (from jsonschema!=2.5.0,&gt;=2.4-&gt;nbformat-&gt;jupyter-server&lt;2.0.0,&gt;=0.3.0-&gt;voila) (2.0.0)
Collecting sniffio&gt;=1.1
  Using cached sniffio-1.2.0-py3-none-any.whl (10 kB)
Requirement already satisfied: pywinpty&gt;=0.5 in c:\users\redi5\anaconda3\envs\bachelorarbeit\lib\site-packages (from terminado&gt;=0.8.3-&gt;jupyter-server&lt;2.0.0,&gt;=0.3.0-&gt;voila) (0.5.7)
Requirement already satisfied: cffi&gt;=1.0.0 in c:\users\redi5\anaconda3\envs\bachelorarbeit\lib\site-packages (from argon2-cffi-&gt;jupyter-server&lt;2.0.0,&gt;=0.3.0-&gt;voila) (1.14.4)
Requirement already satisfied: pycparser in c:\users\redi5\anaconda3\envs\bachelorarbeit\lib\site-packages (from cffi&gt;=1.0.0-&gt;argon2-cffi-&gt;jupyter-server&lt;2.0.0,&gt;=0.3.0-&gt;voila) (2.20)
Requirement already satisfied: webencodings in c:\users\redi5\anaconda3\envs\bachelorarbeit\lib\site-packages (from bleach-&gt;nbconvert&lt;7,&gt;=6.0.0-&gt;voila) (0.5.1)
Collecting deprecation
  Using cached deprecation-2.1.0-py2.py3-none-any.whl (11 kB)
Requirement already satisfied: zipp&gt;=0.5 in c:\users\redi5\anaconda3\envs\bachelorarbeit\lib\site-packages (from importlib-metadata-&gt;jsonschema!=2.5.0,&gt;=2.4-&gt;nbformat-&gt;jupyter-server&lt;2.0.0,&gt;=0.3.0-&gt;voila) (3.4.0)
Requirement already satisfied: pyparsing&gt;=2.0.2 in c:\users\redi5\anaconda3\envs\bachelorarbeit\lib\site-packages (from packaging-&gt;jupyter-packaging~=0.9-&gt;jupyter-server&lt;2.0.0,&gt;=0.3.0-&gt;voila) (2.4.7)
Collecting tomlkit
  Using cached tomlkit-0.7.0-py2.py3-none-any.whl (32 kB)
Installing collected packages: tomlkit, sniffio, deprecation, nbconvert, jupyter-packaging, anyio, jupyter-server, voila
  Attempting uninstall: nbconvert
    Found existing installation: nbconvert 5.6.1
    Uninstalling nbconvert-5.6.1:
      Successfully uninstalled nbconvert-5.6.1
Successfully installed anyio-2.2.0 deprecation-2.1.0 jupyter-packaging-0.9.2 jupyter-server-1.6.4 nbconvert-6.0.7 sniffio-1.2.0 tomlkit-0.7.0 voila-0.2.9
</pre></div></div><div class="output_area"><div class="run_this_cell"></div><div class="prompt"></div><div class="output_subarea output_text output_stream output_stderr" dir="auto"><pre>Enabling: voila
- Writing config: C:\Users\redi5\Anaconda3\envs\Bachelorarbeit\etc\jupyter
    - Validating...
      voila 0.2.9 ok
</pre></div></div></div><div class="btn btn-default output_collapsed" title="click to expand output" style="display: none;">. . .</div></div></div><div class="cell code_cell unselected rendered" tabindex="2"><div class="input"><div class="prompt_container"><div class="prompt input_prompt"><bdi>In</bdi>&nbsp;[4]:</div><div class="run_this_cell" title="Run this cell"><i class="fa-step-forward fa"></i></div></div><div class="inner_cell"><div class="ctb_hideshow"><div class="celltoolbar"></div></div><div class="input_area" aria-label="Edit code here"><div class="CodeMirror cm-s-ipython"><div style="overflow: hidden; position: relative; width: 3px; height: 0px; top: 5.59717px; left: 4px;"><textarea autocorrect="off" autocapitalize="off" spellcheck="false" tabindex="0" style="position: absolute; bottom: -1em; padding: 0px; width: 1000px; height: 1em; outline: none;"></textarea></div><div class="CodeMirror-vscrollbar" tabindex="-1" cm-not-content="true"><div style="min-width: 1px; height: 0px;"></div></div><div class="CodeMirror-hscrollbar" tabindex="-1" cm-not-content="true"><div style="height: 100%; min-height: 1px; width: 0px;"></div></div><div class="CodeMirror-scrollbar-filler" cm-not-content="true"></div><div class="CodeMirror-gutter-filler" cm-not-content="true"></div><div class="CodeMirror-scroll" tabindex="-1"><div class="CodeMirror-sizer" style="margin-left: 0px; min-width: 199px; margin-bottom: -19px; border-right-width: 31px; min-height: 28px; padding-right: 0px; padding-bottom: 0px;"><div style="position: relative; top: 0px;"><div class="CodeMirror-lines" role="presentation"><div role="presentation" style="position: relative; outline: none;"><div class="CodeMirror-measure"><pre class="CodeMirror-line-like"><span>xxxxxxxxxx</span></pre></div><div class="CodeMirror-measure"></div><div style="position: relative; z-index: 1;"></div><div class="CodeMirror-cursors"><div class="CodeMirror-cursor" style="left: 4px; top: 0px; height: 16.8889px;">&nbsp;</div></div><div class="CodeMirror-code" role="presentation"><pre class=" CodeMirror-line " role="presentation"><span role="presentation" style="padding-right: 0.1px;"><span class="cm-keyword">from</span> <span class="cm-variable">ipywidgets</span> <span class="cm-keyword">import</span> <span class="cm-operator">*</span></span></pre></div></div></div></div></div><div style="position: absolute; height: 31px; width: 1px; border-bottom: 0px solid transparent; top: 28px;"></div><div class="CodeMirror-gutters" style="display: none; height: 59px;"></div></div></div></div></div></div><div class="output_wrapper"><div class="out_prompt_overlay prompt" title="click to expand output; double click to hide output"></div><div class="output"></div><div class="btn btn-default output_collapsed" title="click to expand output" style="display: none;">. . .</div></div></div><div class="cell code_cell unselected rendered" tabindex="2"><div class="input"><div class="prompt_container"><div class="prompt input_prompt"><bdi>In</bdi>&nbsp;[6]:</div><div class="run_this_cell" title="Run this cell"><i class="fa-step-forward fa"></i></div></div><div class="inner_cell"><div class="ctb_hideshow"><div class="celltoolbar"></div></div><div class="input_area" aria-label="Edit code here"><div class="CodeMirror cm-s-ipython"><div style="overflow: hidden; position: relative; width: 3px; height: 0px; top: 5.59717px; left: 4px;"><textarea autocorrect="off" autocapitalize="off" spellcheck="false" tabindex="0" style="position: absolute; bottom: -1em; padding: 0px; width: 1000px; height: 1em; outline: none;"></textarea></div><div class="CodeMirror-vscrollbar" tabindex="-1" cm-not-content="true"><div style="min-width: 1px; height: 0px;"></div></div><div class="CodeMirror-hscrollbar" tabindex="-1" cm-not-content="true"><div style="height: 100%; min-height: 1px; width: 0px;"></div></div><div class="CodeMirror-scrollbar-filler" cm-not-content="true"></div><div class="CodeMirror-gutter-filler" cm-not-content="true"></div><div class="CodeMirror-scroll" tabindex="-1"><div class="CodeMirror-sizer" style="margin-left: 0px; min-width: 231px; margin-bottom: -19px; border-right-width: 31px; min-height: 28px; padding-right: 0px; padding-bottom: 0px;"><div style="position: relative; top: 0px;"><div class="CodeMirror-lines" role="presentation"><div role="presentation" style="position: relative; outline: none;"><div class="CodeMirror-measure"><pre class="CodeMirror-line-like"><span>xxxxxxxxxx</span></pre></div><div class="CodeMirror-measure"></div><div style="position: relative; z-index: 1;"></div><div class="CodeMirror-cursors"><div class="CodeMirror-cursor" style="left: 4px; top: 0px; height: 16.8889px;">&nbsp;</div></div><div class="CodeMirror-code" role="presentation"><pre class=" CodeMirror-line " role="presentation"><span role="presentation" style="padding-right: 0.1px;"><span class="cm-keyword">from</span> <span class="cm-variable">fastai</span>.<span class="cm-property">imports</span> <span class="cm-keyword">import</span> <span class="cm-operator">*</span></span></pre></div></div></div></div></div><div style="position: absolute; height: 31px; width: 1px; border-bottom: 0px solid transparent; top: 28px;"></div><div class="CodeMirror-gutters" style="display: none; height: 59px;"></div></div></div></div></div></div><div class="output_wrapper"><div class="out_prompt_overlay prompt" title="click to expand output; double click to hide output"></div><div class="output"></div><div class="btn btn-default output_collapsed" title="click to expand output" style="display: none;">. . .</div></div></div><div class="cell code_cell unselected rendered" tabindex="2"><div class="input"><div class="prompt_container"><div class="prompt input_prompt"><bdi>In</bdi>&nbsp;[7]:</div><div class="run_this_cell" title="Run this cell"><i class="fa-step-forward fa"></i></div></div><div class="inner_cell"><div class="ctb_hideshow"><div class="celltoolbar"></div></div><div class="input_area" aria-label="Edit code here"><div class="CodeMirror cm-s-ipython"><div style="overflow: hidden; position: relative; width: 3px; height: 0px; top: 5.59717px; left: 4px;"><textarea autocorrect="off" autocapitalize="off" spellcheck="false" tabindex="0" style="position: absolute; bottom: -1em; padding: 0px; width: 1000px; height: 1em; outline: none;"></textarea></div><div class="CodeMirror-vscrollbar" tabindex="-1" cm-not-content="true"><div style="min-width: 1px; height: 0px;"></div></div><div class="CodeMirror-hscrollbar" tabindex="-1" cm-not-content="true"><div style="height: 100%; min-height: 1px; width: 0px;"></div></div><div class="CodeMirror-scrollbar-filler" cm-not-content="true"></div><div class="CodeMirror-gutter-filler" cm-not-content="true"></div><div class="CodeMirror-scroll" tabindex="-1"><div class="CodeMirror-sizer" style="margin-left: 0px; min-width: 295px; margin-bottom: -19px; border-right-width: 31px; min-height: 45px; padding-right: 0px; padding-bottom: 0px;"><div style="position: relative; top: 0px;"><div class="CodeMirror-lines" role="presentation"><div role="presentation" style="position: relative; outline: none;"><div class="CodeMirror-measure"><pre class="CodeMirror-line-like"><span>xxxxxxxxxx</span></pre></div><div class="CodeMirror-measure"></div><div style="position: relative; z-index: 1;"></div><div class="CodeMirror-cursors"><div class="CodeMirror-cursor" style="left: 4px; top: 0px; height: 16.8889px;">&nbsp;</div></div><div class="CodeMirror-code" role="presentation"><pre class=" CodeMirror-line " role="presentation"><span role="presentation" style="padding-right: 0.1px;"><span class="cm-keyword">from</span> <span class="cm-variable">fastbook</span> <span class="cm-keyword">import</span> <span class="cm-operator">*</span></span></pre><pre class=" CodeMirror-line " role="presentation"><span role="presentation" style="padding-right: 0.1px;"><span class="cm-comment">#from fastai.vision.widgets import *</span></span></pre></div></div></div></div></div><div style="position: absolute; height: 31px; width: 1px; border-bottom: 0px solid transparent; top: 45px;"></div><div class="CodeMirror-gutters" style="display: none; height: 76px;"></div></div></div></div></div></div><div class="output_wrapper"><div class="out_prompt_overlay prompt" title="click to expand output; double click to hide output"></div><div class="output"></div><div class="btn btn-default output_collapsed" title="click to expand output" style="display: none;">. . .</div></div></div><div class="cell code_cell unselected rendered" tabindex="2"><div class="input"><div class="prompt_container"><div class="prompt input_prompt"><bdi>In</bdi>&nbsp;[18]:</div><div class="run_this_cell" title="Run this cell"><i class="fa-step-forward fa"></i></div></div><div class="inner_cell"><div class="ctb_hideshow"><div class="celltoolbar"></div></div><div class="input_area" aria-label="Edit code here"><div class="CodeMirror cm-s-ipython"><div style="overflow: hidden; position: relative; width: 3px; height: 0px; top: 5.59729px; left: 4px;"><textarea autocorrect="off" autocapitalize="off" spellcheck="false" tabindex="0" style="position: absolute; bottom: -1em; padding: 0px; width: 1000px; height: 1em; outline: none;"></textarea></div><div class="CodeMirror-vscrollbar" tabindex="-1" cm-not-content="true"><div style="min-width: 1px; height: 0px;"></div></div><div class="CodeMirror-hscrollbar" tabindex="-1" cm-not-content="true"><div style="height: 100%; min-height: 1px; width: 0px;"></div></div><div class="CodeMirror-scrollbar-filler" cm-not-content="true"></div><div class="CodeMirror-gutter-filler" cm-not-content="true"></div><div class="CodeMirror-scroll" tabindex="-1"><div class="CodeMirror-sizer" style="margin-left: 0px; min-width: 319px; margin-bottom: -19px; border-right-width: 31px; min-height: 62px; padding-right: 0px; padding-bottom: 0px;"><div style="position: relative; top: 0px;"><div class="CodeMirror-lines" role="presentation"><div role="presentation" style="position: relative; outline: none;"><div class="CodeMirror-measure"><pre class="CodeMirror-line-like"><span>xxxxxxxxxx</span></pre></div><div class="CodeMirror-measure"></div><div style="position: relative; z-index: 1;"></div><div class="CodeMirror-cursors"><div class="CodeMirror-cursor" style="left: 4px; top: 0px; height: 16.8889px;">&nbsp;</div></div><div class="CodeMirror-code" role="presentation"><pre class=" CodeMirror-line " role="presentation"><span role="presentation" style="padding-right: 0.1px;"><span class="cm-keyword">import</span> <span class="cm-variable">pathlib</span></span></pre><pre class=" CodeMirror-line " role="presentation"><span role="presentation" style="padding-right: 0.1px;"><span class="cm-variable">temp</span> <span class="cm-operator">=</span> <span class="cm-variable">pathlib</span>.<span class="cm-property">PosixPath</span></span></pre><pre class=" CodeMirror-line " role="presentation"><span role="presentation" style="padding-right: 0.1px;"><span class="cm-variable">pathlib</span>.<span class="cm-property">PosixPath</span> <span class="cm-operator">=</span> <span class="cm-variable">pathlib</span>.<span class="cm-property">WindowsPath</span></span></pre></div></div></div></div></div><div style="position: absolute; height: 31px; width: 1px; border-bottom: 0px solid transparent; top: 62px;"></div><div class="CodeMirror-gutters" style="display: none; height: 93px;"></div></div></div></div></div></div><div class="output_wrapper"><div class="out_prompt_overlay prompt" title="click to expand output; double click to hide output"></div><div class="output"></div><div class="btn btn-default output_collapsed" title="click to expand output" style="display: none;">. . .</div></div></div><div class="cell code_cell unselected rendered" tabindex="2"><div class="input"><div class="prompt_container"><div class="prompt input_prompt"><bdi>In</bdi>&nbsp;[19]:</div><div class="run_this_cell" title="Run this cell"><i class="fa-step-forward fa"></i></div></div><div class="inner_cell"><div class="ctb_hideshow"><div class="celltoolbar"></div></div><div class="input_area" aria-label="Edit code here"><div class="CodeMirror cm-s-ipython"><div style="overflow: hidden; position: relative; width: 3px; height: 0px; top: 5.59717px; left: 4px;"><textarea autocorrect="off" autocapitalize="off" spellcheck="false" tabindex="0" style="position: absolute; bottom: -1em; padding: 0px; width: 1000px; height: 1em; outline: none;"></textarea></div><div class="CodeMirror-vscrollbar" tabindex="-1" cm-not-content="true"><div style="min-width: 1px; height: 0px;"></div></div><div class="CodeMirror-hscrollbar" tabindex="-1" cm-not-content="true"><div style="height: 100%; min-height: 1px; width: 0px;"></div></div><div class="CodeMirror-scrollbar-filler" cm-not-content="true"></div><div class="CodeMirror-gutter-filler" cm-not-content="true"></div><div class="CodeMirror-scroll" tabindex="-1"><div class="CodeMirror-sizer" style="margin-left: 0px; min-width: 423px; margin-bottom: -19px; border-right-width: 31px; min-height: 79px; padding-right: 0px; padding-bottom: 0px;"><div style="position: relative; top: 0px;"><div class="CodeMirror-lines" role="presentation"><div role="presentation" style="position: relative; outline: none;"><div class="CodeMirror-measure"><pre class="CodeMirror-line-like"><span>xxxxxxxxxx</span></pre></div><div class="CodeMirror-measure"></div><div style="position: relative; z-index: 1;"></div><div class="CodeMirror-cursors"><div class="CodeMirror-cursor" style="left: 4px; top: 0px; height: 16.8889px;">&nbsp;</div></div><div class="CodeMirror-code" role="presentation"><pre class=" CodeMirror-line " role="presentation"><span role="presentation" style="padding-right: 0.1px;"><span class="cm-variable">path</span> <span class="cm-operator">=</span> <span class="cm-variable">Path</span>()</span></pre><pre class=" CodeMirror-line " role="presentation"><span role="presentation" style="padding-right: 0.1px;"><span class="cm-variable">path</span>.<span class="cm-property">ls</span>(<span class="cm-variable">file_exts</span><span class="cm-operator">=</span><span class="cm-string">'.pkl'</span>)</span></pre><pre class=" CodeMirror-line " role="presentation"><span role="presentation" style="padding-right: 0.1px;"><span class="cm-variable">learn_inf</span><span class="cm-operator">=</span> <span class="cm-variable">load_learner</span>(<span class="cm-variable">path</span><span class="cm-operator">/</span><span class="cm-string">'export.pkl'</span>, <span class="cm-variable">cpu</span><span class="cm-operator">=</span><span class="cm-keyword">True</span>)</span></pre><pre class=" CodeMirror-line " role="presentation"><span role="presentation" style="padding-right: 0.1px;"><span cm-text="">​</span></span></pre></div></div></div></div></div><div style="position: absolute; height: 31px; width: 1px; border-bottom: 0px solid transparent; top: 79px;"></div><div class="CodeMirror-gutters" style="display: none; height: 110px;"></div></div></div></div></div></div><div class="output_wrapper"><div class="out_prompt_overlay prompt" title="click to expand output; double click to hide output"></div><div class="output"></div><div class="btn btn-default output_collapsed" title="click to expand output" style="display: none;">. . .</div></div></div><div class="cell code_cell unselected rendered" tabindex="2"><div class="input"><div class="prompt_container"><div class="prompt input_prompt"><bdi>In</bdi>&nbsp;[36]:</div><div class="run_this_cell" title="Run this cell"><i class="fa-step-forward fa"></i></div></div><div class="inner_cell"><div class="ctb_hideshow"><div class="celltoolbar"></div></div><div class="input_area" aria-label="Edit code here"><div class="CodeMirror cm-s-ipython"><div style="overflow: hidden; position: relative; width: 3px; height: 0px; top: 5.59729px; left: 4px;"><textarea autocorrect="off" autocapitalize="off" spellcheck="false" tabindex="0" style="position: absolute; bottom: -1em; padding: 0px; width: 1000px; height: 1em; outline: none;"></textarea></div><div class="CodeMirror-vscrollbar" tabindex="-1" cm-not-content="true"><div style="min-width: 1px; height: 0px;"></div></div><div class="CodeMirror-hscrollbar" tabindex="-1" cm-not-content="true"><div style="height: 100%; min-height: 1px; width: 0px;"></div></div><div class="CodeMirror-scrollbar-filler" cm-not-content="true"></div><div class="CodeMirror-gutter-filler" cm-not-content="true"></div><div class="CodeMirror-scroll" tabindex="-1"><div class="CodeMirror-sizer" style="margin-left: 0px; min-width: 527px; margin-bottom: -19px; border-right-width: 31px; min-height: 28px; padding-right: 0px; padding-bottom: 0px;"><div style="position: relative; top: 0px;"><div class="CodeMirror-lines" role="presentation"><div role="presentation" style="position: relative; outline: none;"><div class="CodeMirror-measure"><pre class="CodeMirror-line-like"><span>xxxxxxxxxx</span></pre></div><div class="CodeMirror-measure"></div><div style="position: relative; z-index: 1;"></div><div class="CodeMirror-cursors"><div class="CodeMirror-cursor" style="left: 4px; top: 0px; height: 16.8889px;">&nbsp;</div></div><div class="CodeMirror-code" role="presentation"><pre class=" CodeMirror-line " role="presentation"><span role="presentation" style="padding-right: 0.1px;"><span class="cm-comment">#pip install https://github.com/fastai/fastai1/archive/master.zip</span></span></pre></div></div></div></div></div><div style="position: absolute; height: 31px; width: 1px; border-bottom: 0px solid transparent; top: 28px;"></div><div class="CodeMirror-gutters" style="display: none; height: 59px;"></div></div></div></div></div></div><div class="output_wrapper"><div class="out_prompt_overlay prompt" title="click to expand output; double click to hide output"></div><div class="output"><div class="output_area"><div class="run_this_cell"></div><div class="prompt"></div><div class="output_subarea output_text output_stream output_stdout" dir="auto"><pre>Collecting <a target="_blank" href="https://github.com/fastai/fastai1/archive/master.zip">https://github.com/fastai/fastai1/archive/master.zip</a>
  Using cached <a target="_blank" href="https://github.com/fastai/fastai1/archive/master.zip">https://github.com/fastai/fastai1/archive/master.zip</a>
Requirement already satisfied (use --upgrade to upgrade): fastai==1.0.64.dev0 from <a target="_blank" href="https://github.com/fastai/fastai1/archive/master.zip">https://github.com/fastai/fastai1/archive/master.zip</a> in c:\users\redi5\anaconda3\lib\site-packages
Requirement already satisfied: bottleneck in c:\users\redi5\anaconda3\lib\site-packages (from fastai==1.0.64.dev0) (1.2.1)
Requirement already satisfied: fastprogress&gt;=0.2.1 in c:\users\redi5\anaconda3\lib\site-packages (from fastai==1.0.64.dev0) (1.0.0)
Requirement already satisfied: beautifulsoup4 in c:\users\redi5\anaconda3\lib\site-packages (from fastai==1.0.64.dev0) (4.7.1)
Requirement already satisfied: matplotlib in c:\users\redi5\anaconda3\lib\site-packages (from fastai==1.0.64.dev0) (3.0.3)
Requirement already satisfied: numexpr in c:\users\redi5\anaconda3\lib\site-packages (from fastai==1.0.64.dev0) (2.6.9)
Requirement already satisfied: numpy&gt;=1.15 in c:\users\redi5\anaconda3\lib\site-packages (from fastai==1.0.64.dev0) (1.19.5)
Requirement already satisfied: nvidia-ml-py3 in c:\users\redi5\anaconda3\lib\site-packages (from fastai==1.0.64.dev0) (7.352.0)
Requirement already satisfied: pandas in c:\users\redi5\anaconda3\lib\site-packages (from fastai==1.0.64.dev0) (0.24.2)
Requirement already satisfied: packaging in c:\users\redi5\anaconda3\lib\site-packages (from fastai==1.0.64.dev0) (19.0)
Requirement already satisfied: Pillow in c:\users\redi5\anaconda3\lib\site-packages (from fastai==1.0.64.dev0) (5.4.1)
Requirement already satisfied: pyyaml in c:\users\redi5\anaconda3\lib\site-packages (from fastai==1.0.64.dev0) (5.1)
Requirement already satisfied: requests in c:\users\redi5\anaconda3\lib\site-packages (from fastai==1.0.64.dev0) (2.21.0)
Requirement already satisfied: scipy in c:\users\redi5\anaconda3\lib\site-packages (from fastai==1.0.64.dev0) (1.2.1)
Requirement already satisfied: torch&gt;=1.0.0 in c:\users\redi5\anaconda3\lib\site-packages (from fastai==1.0.64.dev0) (1.8.1)
Requirement already satisfied: torchvision in c:\users\redi5\anaconda3\lib\site-packages (from fastai==1.0.64.dev0) (0.9.1)
Requirement already satisfied: spacy&gt;=2.0.18 in c:\users\redi5\anaconda3\lib\site-packages (from fastai==1.0.64.dev0) (3.0.5)
Requirement already satisfied: soupsieve&gt;=1.2 in c:\users\redi5\anaconda3\lib\site-packages (from beautifulsoup4-&gt;fastai==1.0.64.dev0) (1.8)
Requirement already satisfied: cycler&gt;=0.10 in c:\users\redi5\anaconda3\lib\site-packages (from matplotlib-&gt;fastai==1.0.64.dev0) (0.10.0)
Requirement already satisfied: kiwisolver&gt;=1.0.1 in c:\users\redi5\anaconda3\lib\site-packages (from matplotlib-&gt;fastai==1.0.64.dev0) (1.0.1)
Requirement already satisfied: pyparsing!=2.0.4,!=2.1.2,!=2.1.6,&gt;=2.0.1 in c:\users\redi5\anaconda3\lib\site-packages (from matplotlib-&gt;fastai==1.0.64.dev0) (2.3.1)
Requirement already satisfied: python-dateutil&gt;=2.1 in c:\users\redi5\anaconda3\lib\site-packages (from matplotlib-&gt;fastai==1.0.64.dev0) (2.8.0)
Requirement already satisfied: pytz&gt;=2011k in c:\users\redi5\anaconda3\lib\site-packages (from pandas-&gt;fastai==1.0.64.dev0) (2018.9)
Requirement already satisfied: six in c:\users\redi5\anaconda3\lib\site-packages (from packaging-&gt;fastai==1.0.64.dev0) (1.15.0)
Requirement already satisfied: certifi&gt;=2017.4.17 in c:\users\redi5\anaconda3\lib\site-packages (from requests-&gt;fastai==1.0.64.dev0) (2020.12.5)
Requirement already satisfied: idna&lt;2.9,&gt;=2.5 in c:\users\redi5\anaconda3\lib\site-packages (from requests-&gt;fastai==1.0.64.dev0) (2.8)
Requirement already satisfied: urllib3&lt;1.25,&gt;=1.21.1 in c:\users\redi5\anaconda3\lib\site-packages (from requests-&gt;fastai==1.0.64.dev0) (1.24.1)
Requirement already satisfied: chardet&lt;3.1.0,&gt;=3.0.2 in c:\users\redi5\anaconda3\lib\site-packages (from requests-&gt;fastai==1.0.64.dev0) (3.0.4)
Requirement already satisfied: typing-extensions in c:\users\redi5\anaconda3\lib\site-packages (from torch&gt;=1.0.0-&gt;fastai==1.0.64.dev0) (3.7.4.3)
Requirement already satisfied: typer&lt;0.4.0,&gt;=0.3.0 in c:\users\redi5\anaconda3\lib\site-packages (from spacy&gt;=2.0.18-&gt;fastai==1.0.64.dev0) (0.3.2)
Requirement already satisfied: spacy-legacy&lt;3.1.0,&gt;=3.0.0 in c:\users\redi5\anaconda3\lib\site-packages (from spacy&gt;=2.0.18-&gt;fastai==1.0.64.dev0) (3.0.4)
Requirement already satisfied: murmurhash&lt;1.1.0,&gt;=0.28.0 in c:\users\redi5\anaconda3\lib\site-packages (from spacy&gt;=2.0.18-&gt;fastai==1.0.64.dev0) (1.0.5)
Requirement already satisfied: pathy&gt;=0.3.5 in c:\users\redi5\anaconda3\lib\site-packages (from spacy&gt;=2.0.18-&gt;fastai==1.0.64.dev0) (0.4.0)
Requirement already satisfied: importlib-metadata&gt;=0.20; python_version &lt; "3.8" in c:\users\redi5\anaconda3\lib\site-packages (from spacy&gt;=2.0.18-&gt;fastai==1.0.64.dev0) (4.0.1)
Requirement already satisfied: blis&lt;0.8.0,&gt;=0.4.0 in c:\users\redi5\anaconda3\lib\site-packages (from spacy&gt;=2.0.18-&gt;fastai==1.0.64.dev0) (0.7.4)
Requirement already satisfied: srsly&lt;3.0.0,&gt;=2.4.0 in c:\users\redi5\anaconda3\lib\site-packages (from spacy&gt;=2.0.18-&gt;fastai==1.0.64.dev0) (2.4.1)
Requirement already satisfied: cymem&lt;2.1.0,&gt;=2.0.2 in c:\users\redi5\anaconda3\lib\site-packages (from spacy&gt;=2.0.18-&gt;fastai==1.0.64.dev0) (2.0.5)
Requirement already satisfied: setuptools in c:\users\redi5\anaconda3\lib\site-packages (from spacy&gt;=2.0.18-&gt;fastai==1.0.64.dev0) (56.0.0)
Requirement already satisfied: tqdm&lt;5.0.0,&gt;=4.38.0 in c:\users\redi5\anaconda3\lib\site-packages (from spacy&gt;=2.0.18-&gt;fastai==1.0.64.dev0) (4.60.0)
Requirement already satisfied: catalogue&lt;2.1.0,&gt;=2.0.1 in c:\users\redi5\anaconda3\lib\site-packages (from spacy&gt;=2.0.18-&gt;fastai==1.0.64.dev0) (2.0.3)
Requirement already satisfied: preshed&lt;3.1.0,&gt;=3.0.2 in c:\users\redi5\anaconda3\lib\site-packages (from spacy&gt;=2.0.18-&gt;fastai==1.0.64.dev0) (3.0.5)
Requirement already satisfied: thinc&lt;8.1.0,&gt;=8.0.2 in c:\users\redi5\anaconda3\lib\site-packages (from spacy&gt;=2.0.18-&gt;fastai==1.0.64.dev0) (8.0.3)
Requirement already satisfied: jinja2 in c:\users\redi5\anaconda3\lib\site-packages (from spacy&gt;=2.0.18-&gt;fastai==1.0.64.dev0) (2.11.3)
Requirement already satisfied: wasabi&lt;1.1.0,&gt;=0.8.1 in c:\users\redi5\anaconda3\lib\site-packages (from spacy&gt;=2.0.18-&gt;fastai==1.0.64.dev0) (0.8.2)
Requirement already satisfied: pydantic&lt;1.8.0,&gt;=1.7.1 in c:\users\redi5\anaconda3\lib\site-packages (from spacy&gt;=2.0.18-&gt;fastai==1.0.64.dev0) (1.7.3)
Requirement already satisfied: click&lt;7.2.0,&gt;=7.1.1 in c:\users\redi5\anaconda3\lib\site-packages (from typer&lt;0.4.0,&gt;=0.3.0-&gt;spacy&gt;=2.0.18-&gt;fastai==1.0.64.dev0) (7.1.2)
Requirement already satisfied: smart-open&lt;4.0.0,&gt;=2.2.0 in c:\users\redi5\anaconda3\lib\site-packages (from pathy&gt;=0.3.5-&gt;spacy&gt;=2.0.18-&gt;fastai==1.0.64.dev0) (3.0.0)
Requirement already satisfied: zipp&gt;=0.5 in c:\users\redi5\anaconda3\lib\site-packages (from importlib-metadata&gt;=0.20; python_version &lt; "3.8"-&gt;spacy&gt;=2.0.18-&gt;fastai==1.0.64.dev0) (3.4.1)
Requirement already satisfied: MarkupSafe&gt;=0.23 in c:\users\redi5\anaconda3\lib\site-packages (from jinja2-&gt;spacy&gt;=2.0.18-&gt;fastai==1.0.64.dev0) (1.1.1)
Building wheels for collected packages: fastai
  Building wheel for fastai (setup.py): started
  Building wheel for fastai (setup.py): finished with status 'done'
  Stored in directory: C:\Users\redi5\AppData\Local\Temp\pip-ephem-wheel-cache-tl6ebvo1\wheels\05\89\1d\4a009aacb11efed08433a487cacb361375b34992e4542252f0
Successfully built fastai
Note: you may need to restart the kernel to use updated packages.
</pre></div></div></div><div class="btn btn-default output_collapsed" title="click to expand output" style="display: none;">. . .</div></div></div><div class="cell code_cell unselected rendered" tabindex="2"><div class="input"><div class="prompt_container"><div class="prompt input_prompt"><bdi>In</bdi>&nbsp;[20]:</div><div class="run_this_cell" title="Run this cell"><i class="fa-step-forward fa"></i></div></div><div class="inner_cell"><div class="ctb_hideshow"><div class="celltoolbar"></div></div><div class="input_area" aria-label="Edit code here"><div class="CodeMirror cm-s-ipython"><div style="overflow: hidden; position: relative; width: 3px; height: 0px; top: 5.59717px; left: 4px;"><textarea autocorrect="off" autocapitalize="off" spellcheck="false" tabindex="0" style="position: absolute; bottom: -1em; padding: 0px; width: 1000px; height: 1em; outline: none;"></textarea></div><div class="CodeMirror-vscrollbar" tabindex="-1" cm-not-content="true"><div style="min-width: 1px; height: 0px;"></div></div><div class="CodeMirror-hscrollbar" tabindex="-1" cm-not-content="true"><div style="height: 100%; min-height: 1px; width: 0px;"></div></div><div class="CodeMirror-scrollbar-filler" cm-not-content="true"></div><div class="CodeMirror-gutter-filler" cm-not-content="true"></div><div class="CodeMirror-scroll" tabindex="-1"><div class="CodeMirror-sizer" style="margin-left: 0px; min-width: 271px; margin-bottom: -19px; border-right-width: 31px; min-height: 62px; padding-right: 0px; padding-bottom: 0px;"><div style="position: relative; top: 0px;"><div class="CodeMirror-lines" role="presentation"><div role="presentation" style="position: relative; outline: none;"><div class="CodeMirror-measure"><pre class="CodeMirror-line-like"><span>xxxxxxxxxx</span></pre></div><div class="CodeMirror-measure"></div><div style="position: relative; z-index: 1;"></div><div class="CodeMirror-cursors"><div class="CodeMirror-cursor" style="left: 4px; top: 0px; height: 16.8889px;">&nbsp;</div></div><div class="CodeMirror-code" role="presentation"><pre class=" CodeMirror-line " role="presentation"><span role="presentation" style="padding-right: 0.1px;"><span class="cm-variable">btn_upload</span> <span class="cm-operator">=</span> <span class="cm-variable">widgets</span>.<span class="cm-property">FileUpload</span>()</span></pre><pre class=" CodeMirror-line " role="presentation"><span role="presentation" style="padding-right: 0.1px;"><span class="cm-variable">out_pl</span> <span class="cm-operator">=</span> <span class="cm-variable">widgets</span>.<span class="cm-property">Output</span>()</span></pre><pre class=" CodeMirror-line " role="presentation"><span role="presentation" style="padding-right: 0.1px;"><span class="cm-variable">lbl_pred</span><span class="cm-operator">=</span> <span class="cm-variable">widgets</span>.<span class="cm-property">Label</span>()</span></pre></div></div></div></div></div><div style="position: absolute; height: 31px; width: 1px; border-bottom: 0px solid transparent; top: 62px;"></div><div class="CodeMirror-gutters" style="display: none; height: 93px;"></div></div></div></div></div></div><div class="output_wrapper"><div class="out_prompt_overlay prompt" title="click to expand output; double click to hide output"></div><div class="output"></div><div class="btn btn-default output_collapsed" title="click to expand output" style="display: none;">. . .</div></div></div><div class="cell code_cell unselected rendered" tabindex="2"><div class="input"><div class="prompt_container"><div class="prompt input_prompt"><bdi>In</bdi>&nbsp;[21]:</div><div class="run_this_cell" title="Run this cell"><i class="fa-step-forward fa"></i></div></div><div class="inner_cell"><div class="ctb_hideshow"><div class="celltoolbar"></div></div><div class="input_area" aria-label="Edit code here"><div class="CodeMirror cm-s-ipython"><div style="overflow: hidden; position: relative; width: 3px; height: 0px; top: 5.59717px; left: 4px;"><textarea autocorrect="off" autocapitalize="off" spellcheck="false" tabindex="0" style="position: absolute; bottom: -1em; padding: 0px; width: 1000px; height: 1em; outline: none;"></textarea></div><div class="CodeMirror-vscrollbar" tabindex="-1" cm-not-content="true"><div style="min-width: 1px; height: 0px;"></div></div><div class="CodeMirror-hscrollbar" tabindex="-1" cm-not-content="true"><div style="height: 100%; min-height: 1px; width: 0px;"></div></div><div class="CodeMirror-scrollbar-filler" cm-not-content="true"></div><div class="CodeMirror-gutter-filler" cm-not-content="true"></div><div class="CodeMirror-scroll" tabindex="-1"><div class="CodeMirror-sizer" style="margin-left: 0px; min-width: 247px; margin-bottom: -19px; border-right-width: 31px; min-height: 28px; padding-right: 0px; padding-bottom: 0px;"><div style="position: relative; top: 0px;"><div class="CodeMirror-lines" role="presentation"><div role="presentation" style="position: relative; outline: none;"><div class="CodeMirror-measure"><pre class="CodeMirror-line-like"><span>xxxxxxxxxx</span></pre></div><div class="CodeMirror-measure"></div><div style="position: relative; z-index: 1;"></div><div class="CodeMirror-cursors"><div class="CodeMirror-cursor" style="left: 4px; top: 0px; height: 16.8889px;">&nbsp;</div></div><div class="CodeMirror-code" role="presentation"><pre class=" CodeMirror-line " role="presentation"><span role="presentation" style="padding-right: 0.1px;"><span class="cm-keyword">from</span> <span class="cm-variable">ipywidgets</span> <span class="cm-keyword">import</span> <span class="cm-variable">widgets</span></span></pre></div></div></div></div></div><div style="position: absolute; height: 31px; width: 1px; border-bottom: 0px solid transparent; top: 28px;"></div><div class="CodeMirror-gutters" style="display: none; height: 59px;"></div></div></div></div></div></div><div class="output_wrapper"><div class="out_prompt_overlay prompt" title="click to expand output; double click to hide output"></div><div class="output"></div><div class="btn btn-default output_collapsed" title="click to expand output" style="display: none;">. . .</div></div></div><div class="cell code_cell unselected rendered" tabindex="2"><div class="input"><div class="prompt_container"><div class="prompt input_prompt"><bdi>In</bdi>&nbsp;[22]:</div><div class="run_this_cell" title="Run this cell"><i class="fa-step-forward fa"></i></div></div><div class="inner_cell"><div class="ctb_hideshow"><div class="celltoolbar"></div></div><div class="input_area" aria-label="Edit code here"><div class="CodeMirror cm-s-ipython"><div style="overflow: hidden; position: relative; width: 3px; height: 0px; top: 5.59717px; left: 4px;"><textarea autocorrect="off" autocapitalize="off" spellcheck="false" tabindex="0" style="position: absolute; bottom: -1em; padding: 0px; width: 1000px; height: 1em; outline: none;"></textarea></div><div class="CodeMirror-vscrollbar" tabindex="-1" cm-not-content="true"><div style="min-width: 1px; height: 0px;"></div></div><div class="CodeMirror-hscrollbar" tabindex="-1" cm-not-content="true"><div style="height: 100%; min-height: 1px; width: 0px;"></div></div><div class="CodeMirror-scrollbar-filler" cm-not-content="true"></div><div class="CodeMirror-gutter-filler" cm-not-content="true"></div><div class="CodeMirror-scroll" tabindex="-1"><div class="CodeMirror-sizer" style="margin-left: 0px; min-width: 615px; margin-bottom: -19px; border-right-width: 31px; min-height: 113px; padding-right: 0px; padding-bottom: 0px;"><div style="position: relative; top: 0px;"><div class="CodeMirror-lines" role="presentation"><div role="presentation" style="position: relative; outline: none;"><div class="CodeMirror-measure"><pre class="CodeMirror-line-like"><span>xxxxxxxxxx</span></pre></div><div class="CodeMirror-measure"></div><div style="position: relative; z-index: 1;"></div><div class="CodeMirror-cursors"><div class="CodeMirror-cursor" style="left: 4px; top: 0px; height: 16.8889px;">&nbsp;</div></div><div class="CodeMirror-code" role="presentation" style=""><pre class=" CodeMirror-line " role="presentation"><span role="presentation" style="padding-right: 0.1px;"><span class="cm-keyword">def</span> <span class="cm-def">on_click_classify</span>(<span class="cm-variable">change</span>):</span></pre><pre class=" CodeMirror-line " role="presentation"><span role="presentation" style="padding-right: 0.1px;">  <span class="cm-variable cm-error">img</span><span class="cm-operator">=</span> <span class="cm-variable">PILImage</span>.<span class="cm-property">create</span>(<span class="cm-variable">btn_upload</span>.<span class="cm-property">data</span>[<span class="cm-operator">-</span><span class="cm-number">1</span>])</span></pre><pre class=" CodeMirror-line " role="presentation"><span role="presentation" style="padding-right: 0.1px;">  <span class="cm-variable">out_pl</span>.<span class="cm-property">clear_output</span>()</span></pre><pre class=" CodeMirror-line " role="presentation"><span role="presentation" style="padding-right: 0.1px;">  <span class="cm-keyword cm-error">with</span> <span class="cm-variable">out_pl</span>: <span class="cm-variable">display</span>(<span class="cm-variable">img</span>.<span class="cm-property">to_thumb</span>(<span class="cm-number">128</span>,<span class="cm-number">128</span>))</span></pre><pre class=" CodeMirror-line " role="presentation"><span role="presentation" style="padding-right: 0.1px;">  <span class="cm-variable cm-error">pred</span>,<span class="cm-variable">pred_idx</span>,<span class="cm-variable">probs</span><span class="cm-operator">=</span> <span class="cm-variable">learn_inf</span>.<span class="cm-property">predict</span>(<span class="cm-variable">img</span>)</span></pre><pre class=" CodeMirror-line " role="presentation"><span role="presentation" style="padding-right: 0.1px;">  <span class="cm-variable">lbl_pred</span>.<span class="cm-property">value</span><span class="cm-operator">=</span> <span class="cm-string">f'Prediction: </span>{<span class="cm-variable">pred</span>}<span class="cm-string">; Probability: </span>{<span class="cm-variable">probs</span>[<span class="cm-variable">pred_idx</span>]:<span class="cm-number">.04</span><span class="cm-variable">f</span>}<span class="cm-string">'</span></span></pre></div></div></div></div></div><div style="position: absolute; height: 31px; width: 1px; border-bottom: 0px solid transparent; top: 113px;"></div><div class="CodeMirror-gutters" style="display: none; height: 144px;"></div></div></div></div></div></div><div class="output_wrapper"><div class="out_prompt_overlay prompt" title="click to expand output; double click to hide output"></div><div class="output"></div><div class="btn btn-default output_collapsed" title="click to expand output" style="display: none;">. . .</div></div></div><div class="cell code_cell unselected rendered" tabindex="2"><div class="input"><div class="prompt_container"><div class="prompt input_prompt"><bdi>In</bdi>&nbsp;[23]:</div><div class="run_this_cell" title="Run this cell"><i class="fa-step-forward fa"></i></div></div><div class="inner_cell"><div class="ctb_hideshow"><div class="celltoolbar"></div></div><div class="input_area" aria-label="Edit code here"><div class="CodeMirror cm-s-ipython"><div style="overflow: hidden; position: relative; width: 3px; height: 0px; top: 5.59717px; left: 4px;"><textarea autocorrect="off" autocapitalize="off" spellcheck="false" tabindex="0" style="position: absolute; bottom: -1em; padding: 0px; width: 1000px; height: 1em; outline: none;"></textarea></div><div class="CodeMirror-vscrollbar" tabindex="-1" cm-not-content="true"><div style="min-width: 1px; height: 0px;"></div></div><div class="CodeMirror-hscrollbar" tabindex="-1" cm-not-content="true"><div style="height: 100%; min-height: 1px; width: 0px;"></div></div><div class="CodeMirror-scrollbar-filler" cm-not-content="true"></div><div class="CodeMirror-gutter-filler" cm-not-content="true"></div><div class="CodeMirror-scroll" tabindex="-1"><div class="CodeMirror-sizer" style="margin-left: 0px; min-width: 431px; margin-bottom: -19px; border-right-width: 31px; min-height: 28px; padding-right: 0px; padding-bottom: 0px;"><div style="position: relative; top: 0px;"><div class="CodeMirror-lines" role="presentation"><div role="presentation" style="position: relative; outline: none;"><div class="CodeMirror-measure"><pre class="CodeMirror-line-like"><span>xxxxxxxxxx</span></pre></div><div class="CodeMirror-measure"></div><div style="position: relative; z-index: 1;"></div><div class="CodeMirror-cursors"><div class="CodeMirror-cursor" style="left: 4px; top: 0px; height: 16.8889px;">&nbsp;</div></div><div class="CodeMirror-code" role="presentation"><pre class=" CodeMirror-line " role="presentation"><span role="presentation" style="padding-right: 0.1px;"><span class="cm-variable">btn_upload</span>.<span class="cm-property">observe</span>(<span class="cm-variable">on_click_classify</span>, <span class="cm-variable">names</span><span class="cm-operator">=</span>[<span class="cm-string">'data'</span>])</span></pre></div></div></div></div></div><div style="position: absolute; height: 31px; width: 1px; border-bottom: 0px solid transparent; top: 28px;"></div><div class="CodeMirror-gutters" style="display: none; height: 59px;"></div></div></div></div></div></div><div class="output_wrapper"><div class="out_prompt_overlay prompt" title="click to expand output; double click to hide output"></div><div class="output"></div><div class="btn btn-default output_collapsed" title="click to expand output" style="display: none;">. . .</div></div></div><div class="cell code_cell rendered selected" tabindex="2"><div class="input"><div class="prompt_container"><div class="prompt input_prompt"><bdi>In</bdi>&nbsp;[26]:</div><div class="run_this_cell" title="Run this cell"><i class="fa-step-forward fa"></i></div></div><div class="inner_cell"><div class="ctb_hideshow"><div class="celltoolbar"></div></div><div class="input_area" aria-label="Edit code here"><div class="CodeMirror cm-s-ipython"><div style="overflow: hidden; position: relative; width: 3px; height: 0px; top: 5.59717px; left: 4px;"><textarea autocorrect="off" autocapitalize="off" spellcheck="false" tabindex="0" style="position: absolute; bottom: -1em; padding: 0px; width: 1000px; height: 1em; outline: none;"></textarea></div><div class="CodeMirror-vscrollbar" tabindex="-1" cm-not-content="true"><div style="min-width: 1px; height: 0px;"></div></div><div class="CodeMirror-hscrollbar" tabindex="-1" cm-not-content="true"><div style="height: 100%; min-height: 1px; width: 0px;"></div></div><div class="CodeMirror-scrollbar-filler" cm-not-content="true"></div><div class="CodeMirror-gutter-filler" cm-not-content="true"></div><div class="CodeMirror-scroll" tabindex="-1"><div class="CodeMirror-sizer" style="margin-left: 0px; min-width: 679px; margin-bottom: -19px; border-right-width: 31px; min-height: 28px; padding-right: 0px; padding-bottom: 0px;"><div style="position: relative; top: 0px;"><div class="CodeMirror-lines" role="presentation"><div role="presentation" style="position: relative; outline: none;"><div class="CodeMirror-measure"></div><div class="CodeMirror-measure"></div><div style="position: relative; z-index: 1;"></div><div class="CodeMirror-cursors"><div class="CodeMirror-cursor" style="left: 4px; top: 0px; height: 16.8889px;">&nbsp;</div></div><div class="CodeMirror-code" role="presentation"><pre class=" CodeMirror-line " role="presentation"><span role="presentation" style="padding-right: 0.1px;"><span class="cm-variable">display</span>(<span class="cm-variable">VBox</span>([<span class="cm-variable">widgets</span>.<span class="cm-property">Label</span>(<span class="cm-string">'Select your Picture!'</span>), <span class="cm-variable">btn_upload</span>, <span class="cm-variable">out_pl</span>, <span class="cm-variable">lbl_pred</span>]))</span></pre></div></div></div></div></div><div style="position: absolute; height: 31px; width: 1px; border-bottom: 0px solid transparent; top: 28px;"></div><div class="CodeMirror-gutters" style="display: none; height: 59px;"></div></div></div></div></div></div><div class="output_wrapper"><div class="out_prompt_overlay prompt" title="click to scroll output; double click to hide"></div><div class="output"><div class="output_area"><div class="run_this_cell"></div><div class="prompt"></div><div class="output_subarea jupyter-widgets-view" dir="auto"><div class="p-Widget p-Panel jupyter-widgets widget-container widget-box widget-vbox"><div class="p-Widget jupyter-widgets widget-label">Select your Picture!</div><button class="p-Widget jupyter-widgets widget-upload jupyter-button" title=""><i class="fa fa-upload"></i>Upload (10)</button><div class="p-Widget jupyter-widgets-output-area output_wrapper"><div class="out_prompt_overlay prompt" title="click to scroll output; double click to hide" style="display: none;"></div><div class="output"><div class="output_area"><div class="output_subarea output_png" dir="auto"><img src="data:image/png;base64,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"></div></div></div><div class="btn btn-default output_collapsed" title="click to expand output" style="display: none;">. . .</div></div><div class="p-Widget jupyter-widgets widget-label">Prediction: with_mask; Probability: 0.6399</div></div></div></div><div class="output_area"><div class="run_this_cell"></div><div class="prompt"></div><div class="output_subarea output_html rendered_html" dir="auto"></div></div><div class="output_area"><div class="run_this_cell"></div><div class="prompt"></div><div class="output_subarea output_html rendered_html" dir="auto"></div></div></div><div class="btn btn-default output_collapsed" title="click to expand output" style="display: none;">. . .</div></div></div><div class="cell code_cell unselected rendered" tabindex="2"><div class="input"><div class="prompt_container"><div class="prompt input_prompt"><bdi>In</bdi>&nbsp;[&nbsp;]:</div><div class="run_this_cell" title="Run this cell"><i class="fa-step-forward fa"></i></div></div><div class="inner_cell"><div class="ctb_hideshow"><div class="celltoolbar"></div></div><div class="input_area" aria-label="Edit code here"><div class="CodeMirror cm-s-ipython"><div style="overflow: hidden; position: relative; width: 3px; height: 0px; top: 5.59717px; left: 4px;"><textarea autocorrect="off" autocapitalize="off" spellcheck="false" tabindex="0" style="position: absolute; bottom: -1em; padding: 0px; width: 1000px; height: 1em; outline: none;"></textarea></div><div class="CodeMirror-vscrollbar" tabindex="-1" cm-not-content="true"><div style="min-width: 1px; height: 0px;"></div></div><div class="CodeMirror-hscrollbar" tabindex="-1" cm-not-content="true"><div style="height: 100%; min-height: 1px; width: 0px;"></div></div><div class="CodeMirror-scrollbar-filler" cm-not-content="true"></div><div class="CodeMirror-gutter-filler" cm-not-content="true"></div><div class="CodeMirror-scroll" tabindex="-1"><div class="CodeMirror-sizer" style="margin-left: 0px; min-width: 7px; margin-bottom: -19px; border-right-width: 31px; min-height: 28px; padding-right: 0px; padding-bottom: 0px;"><div style="position: relative; top: 0px;"><div class="CodeMirror-lines" role="presentation"><div role="presentation" style="position: relative; outline: none;"><div class="CodeMirror-measure"><pre class="CodeMirror-line-like"><span>xxxxxxxxxx</span></pre></div><div class="CodeMirror-measure"></div><div style="position: relative; z-index: 1;"></div><div class="CodeMirror-cursors"><div class="CodeMirror-cursor" style="left: 4px; top: 0px; height: 16.8889px;">&nbsp;</div></div><div class="CodeMirror-code" role="presentation"><pre class=" CodeMirror-line " role="presentation"><span role="presentation" style="padding-right: 0.1px;"><span cm-text="">​</span></span></pre></div></div></div></div></div><div style="position: absolute; height: 31px; width: 1px; border-bottom: 0px solid transparent; top: 28px;"></div><div class="CodeMirror-gutters" style="display: none; height: 59px;"></div></div></div></div></div></div><div class="output_wrapper"><div class="out_prompt_overlay prompt" title="click to expand output; double click to hide output"></div><div class="output"></div><div class="btn btn-default output_collapsed" title="click to expand output" style="display: none;">. . .</div></div></div><div class="cell code_cell unselected rendered" tabindex="2"><div class="input"><div class="prompt_container"><div class="prompt input_prompt"><bdi>In</bdi>&nbsp;[&nbsp;]:</div><div class="run_this_cell" title="Run this cell"><i class="fa-step-forward fa"></i></div></div><div class="inner_cell"><div class="ctb_hideshow"><div class="celltoolbar"></div></div><div class="input_area" aria-label="Edit code here"><div class="CodeMirror cm-s-ipython"><div style="overflow: hidden; position: relative; width: 3px; height: 0px; top: 5.59717px; left: 4px;"><textarea autocorrect="off" autocapitalize="off" spellcheck="false" tabindex="0" style="position: absolute; bottom: -1em; padding: 0px; width: 1000px; height: 1em; outline: none;"></textarea></div><div class="CodeMirror-vscrollbar" tabindex="-1" cm-not-content="true"><div style="min-width: 1px; height: 0px;"></div></div><div class="CodeMirror-hscrollbar" tabindex="-1" cm-not-content="true"><div style="height: 100%; min-height: 1px; width: 0px;"></div></div><div class="CodeMirror-scrollbar-filler" cm-not-content="true"></div><div class="CodeMirror-gutter-filler" cm-not-content="true"></div><div class="CodeMirror-scroll" tabindex="-1"><div class="CodeMirror-sizer" style="margin-left: 0px; min-width: 7px; margin-bottom: -19px; border-right-width: 31px; min-height: 28px; padding-right: 0px; padding-bottom: 0px;"><div style="position: relative; top: 0px;"><div class="CodeMirror-lines" role="presentation"><div role="presentation" style="position: relative; outline: none;"><div class="CodeMirror-measure"><pre class="CodeMirror-line-like"><span>xxxxxxxxxx</span></pre></div><div class="CodeMirror-measure"></div><div style="position: relative; z-index: 1;"></div><div class="CodeMirror-cursors"><div class="CodeMirror-cursor" style="left: 4px; top: 0px; height: 16.8889px;">&nbsp;</div></div><div class="CodeMirror-code" role="presentation"><pre class=" CodeMirror-line " role="presentation"><span role="presentation" style="padding-right: 0.1px;"><span cm-text="">​</span></span></pre></div></div></div></div></div><div style="position: absolute; height: 31px; width: 1px; border-bottom: 0px solid transparent; top: 28px;"></div><div class="CodeMirror-gutters" style="display: none; height: 59px;"></div></div></div></div></div></div><div class="output_wrapper"><div class="out_prompt_overlay prompt" title="click to expand output; double click to hide output"></div><div class="output"></div><div class="btn btn-default output_collapsed" title="click to expand output" style="display: none;">. . .</div></div></div></div><div class="end_space"></div></div>
        <div id="tooltip" class="ipython_tooltip" style="display:none"><div class="tooltipbuttons"><a href="http://localhost:8890/notebooks/MaskClassifer.ipynb#" role="button" class="ui-button"><span class="ui-icon ui-icon-close">Close</span></a><a href="http://localhost:8890/notebooks/MaskClassifer.ipynb#" role="button" class="ui-button" id="expanbutton" title="Grow the tooltip vertically (press shift-tab twice)"><span class="ui-icon ui-icon-plus">Expand</span></a><a href="http://localhost:8890/notebooks/MaskClassifer.ipynb#" role="button" class="ui-button" title="show the current docstring in pager (press shift-tab 4 times)"><span class="ui-icon ui-icon-arrowstop-l-n">Open in Pager</span></a><a href="http://localhost:8890/notebooks/MaskClassifer.ipynb#" role="button" class="ui-button" title="Tooltip will linger for 10 seconds while you type" style="display: none;"><span class="ui-icon ui-icon-clock">Close</span></a></div><div class="pretooltiparrow"></div><div class="tooltiptext smalltooltip"></div></div>
    </div>
</div>



</div>



<div id="pager" class="ui-resizable">
    <div id="pager-contents">
        <div id="pager-container" class="container"></div>
    </div>
    <div id="pager-button-area"><a role="button" title="Open the pager in an external window" class="ui-button"><span class="ui-icon ui-icon-extlink"></span></a><a role="button" title="Close the pager" class="ui-button"><span class="ui-icon ui-icon-close"></span></a></div>
<div class="ui-resizable-handle ui-resizable-n" style="z-index: 90;"></div></div>






<script type="text/javascript">
    sys_info = {"notebook_version": "6.2.0", "notebook_path": "C:\\Users\\redi5\\Anaconda3\\envs\\Bachelorarbeit\\lib\\site-packages\\notebook", "commit_source": "", "commit_hash": "", "sys_version": "3.7.9 (default, Aug 31 2020, 17:10:11) [MSC v.1916 64 bit (AMD64)]", "sys_executable": "C:\\Users\\redi5\\Anaconda3\\envs\\Bachelorarbeit\\python.exe", "sys_platform": "win32", "platform": "Windows-10-10.0.18362-SP0", "os_name": "nt", "default_encoding": "utf-8"};
</script>

<script src="./MaskClassifer_files/encoding.js.Download" charset="utf-8"></script>

<script src="./MaskClassifer_files/main.min.js.Download" type="text/javascript" charset="utf-8"></script>



<script type="text/javascript">
  function _remove_token_from_url() {
    if (window.location.search.length <= 1) {
      return;
    }
    var search_parameters = window.location.search.slice(1).split('&');
    for (var i = 0; i < search_parameters.length; i++) {
      if (search_parameters[i].split('=')[0] === 'token') {
        // remote token from search parameters
        search_parameters.splice(i, 1);
        var new_search = '';
        if (search_parameters.length) {
          new_search = '?' + search_parameters.join('&');
        }
        var new_url = window.location.origin + 
                      window.location.pathname + 
                      new_search + 
                      window.location.hash;
        window.history.replaceState({}, "", new_url);
        return;
      }
    }
  }
  _remove_token_from_url();
</script>


<div style="position: absolute; width: 0px; height: 0px; overflow: hidden; padding: 0px; border: 0px; margin: 0px;"><div id="MathJax_Font_Test" style="position: absolute; visibility: hidden; top: 0px; left: 0px; width: auto; min-width: 0px; max-width: none; padding: 0px; border: 0px; margin: 0px; white-space: nowrap; text-align: left; text-indent: 0px; text-transform: none; line-height: normal; letter-spacing: normal; word-spacing: normal; font-size: 40px; font-weight: normal; font-style: normal;"></div></div></body></html>